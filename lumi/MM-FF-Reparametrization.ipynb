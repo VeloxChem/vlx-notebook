{
 "cells": [
  {
   "cell_type": "markdown",
   "id": "0f98e9a2",
   "metadata": {},
   "source": [
    "# Force-Field Definition and Reparametrization"
   ]
  },
  {
   "cell_type": "code",
   "execution_count": null,
   "id": "77ece45c-9769-448f-a584-0034d51b5b47",
   "metadata": {},
   "outputs": [
    {
     "data": {
      "application/3dmoljs_load.v0": "<div id=\"3dmolviewer_17477490578806467\"  style=\"position: relative; width: 600px; height: 450px;\">\n        <p id=\"3dmolwarning_17477490578806467\" style=\"background-color:#ffcccc;color:black\">3Dmol.js failed to load for some reason.  Please check your browser console for error messages.<br></p>\n        </div>\n<script>\n\nvar loadScriptAsync = function(uri){\n  return new Promise((resolve, reject) => {\n    //this is to ignore the existence of requirejs amd\n    var savedexports, savedmodule;\n    if (typeof exports !== 'undefined') savedexports = exports;\n    else exports = {}\n    if (typeof module !== 'undefined') savedmodule = module;\n    else module = {}\n\n    var tag = document.createElement('script');\n    tag.src = uri;\n    tag.async = true;\n    tag.onload = () => {\n        exports = savedexports;\n        module = savedmodule;\n        resolve();\n    };\n  var firstScriptTag = document.getElementsByTagName('script')[0];\n  firstScriptTag.parentNode.insertBefore(tag, firstScriptTag);\n});\n};\n\nif(typeof $3Dmolpromise === 'undefined') {\n$3Dmolpromise = null;\n  $3Dmolpromise = loadScriptAsync('https://cdnjs.cloudflare.com/ajax/libs/3Dmol/2.4.2/3Dmol-min.js');\n}\n\nvar viewer_17477490578806467 = null;\nvar warn = document.getElementById(\"3dmolwarning_17477490578806467\");\nif(warn) {\n    warn.parentNode.removeChild(warn);\n}\n$3Dmolpromise.then(function() {\nviewer_17477490578806467 = $3Dmol.createViewer(document.getElementById(\"3dmolviewer_17477490578806467\"),{backgroundColor:\"white\"});\nviewer_17477490578806467.zoomTo();\n\tviewer_17477490578806467.addModel(\"35\\n\\nC              4.339956021500         0.030542894600         0.082814478600\\nC              4.409557653800         1.368361015800        -0.323519259500\\nH              3.513402764300         1.993760190300        -0.392403299300\\nN              5.572339554300         1.919743373700        -0.648874392400\\nC              6.693527930900         1.175779413300        -0.586432916800\\nH              7.622406821500         1.687595105200        -0.861642583900\\nC              6.727691010800        -0.163591845200        -0.210784558100\\nH              7.669503230000        -0.716226613700        -0.192442857300\\nC              5.509753707500        -0.772074716200         0.133629353700\\nC              5.100982469800        -2.087824065700         0.540643560400\\nH              5.737299856800        -2.957065483800         0.689287362800\\nC              3.743880116900        -2.044376359800         0.722649761000\\nH              3.054306225100        -2.821426570600         1.046261903400\\nN              3.260950845100        -0.768336055400         0.454983548300\\nC              1.926007537600        -0.374984551000         0.528317658800\\nS              0.678299339100        -1.388971657600        -0.154261377800\\nC              1.406115373000         0.782477001700         1.060162572800\\nH              2.018114321500         1.541616061300         1.545470354600\\nC             -0.006885119400         0.847746565200         0.939868012600\\nH             -0.605931397700         1.674121442100         1.324524116200\\nC             -0.566747846700        -0.258021139800         0.329442961800\\nC             -1.960433749300        -0.553335963800         0.079212364800\\nC             -2.527728514800        -1.753558731500        -0.327027774800\\nH             -1.941688198300        -2.656554300300        -0.503160431400\\nC             -3.932110426000        -1.683175328300        -0.468422385300\\nH             -4.576687763700        -2.508185843900        -0.771704273500\\nS             -3.178744284100         0.676407875500         0.276409937800\\nC             -4.439051163300        -0.434756502400        -0.173176694400\\nC             -5.855681064100        -0.049904861400        -0.224072198100\\nO             -6.757453030300        -0.792779963700        -0.536340582900\\nO             -6.032843702200         1.242038298800         0.121423302400\\nC             -7.376279586500         1.718278319700         0.102153914900\\nH             -8.004463386000         1.145050137400         0.800943857400\\nH             -7.332151587600         2.771427076000         0.405372317000\\nH             -7.808567884500         1.628478144200        -0.906097381100\\n\");\n\tviewer_17477490578806467.setViewStyle({\"style\": \"outline\", \"width\": 0.05});\n\tviewer_17477490578806467.setStyle({\"stick\": {}, \"sphere\": {\"scale\": 0.25}});\n\tviewer_17477490578806467.addLabel(\"1\",{\"position\": {\"x\": 4.3399560215, \"y\": 0.0305428946, \"z\": 0.08281447859999999}, \"alignment\": \"center\", \"fontColor\": 0, \"backgroundColor\": 16777215, \"backgroundOpacity\": 0.0});\n\tviewer_17477490578806467.addLabel(\"2\",{\"position\": {\"x\": 4.4095576538, \"y\": 1.3683610158, \"z\": -0.3235192595}, \"alignment\": \"center\", \"fontColor\": 0, \"backgroundColor\": 16777215, \"backgroundOpacity\": 0.0});\n\tviewer_17477490578806467.addLabel(\"3\",{\"position\": {\"x\": 3.5134027643, \"y\": 1.9937601903, \"z\": -0.3924032993}, \"alignment\": \"center\", \"fontColor\": 0, \"backgroundColor\": 16777215, \"backgroundOpacity\": 0.0});\n\tviewer_17477490578806467.addLabel(\"4\",{\"position\": {\"x\": 5.5723395543, \"y\": 1.9197433737, \"z\": -0.6488743924}, \"alignment\": \"center\", \"fontColor\": 0, \"backgroundColor\": 16777215, \"backgroundOpacity\": 0.0});\n\tviewer_17477490578806467.addLabel(\"5\",{\"position\": {\"x\": 6.693527930899999, \"y\": 1.1757794132999997, \"z\": -0.5864329168}, \"alignment\": \"center\", \"fontColor\": 0, \"backgroundColor\": 16777215, \"backgroundOpacity\": 0.0});\n\tviewer_17477490578806467.addLabel(\"6\",{\"position\": {\"x\": 7.6224068215, \"y\": 1.6875951052, \"z\": -0.8616425839}, \"alignment\": \"center\", \"fontColor\": 0, \"backgroundColor\": 16777215, \"backgroundOpacity\": 0.0});\n\tviewer_17477490578806467.addLabel(\"7\",{\"position\": {\"x\": 6.7276910108, \"y\": -0.1635918452, \"z\": -0.2107845581}, \"alignment\": \"center\", \"fontColor\": 0, \"backgroundColor\": 16777215, \"backgroundOpacity\": 0.0});\n\tviewer_17477490578806467.addLabel(\"8\",{\"position\": {\"x\": 7.669503229999999, \"y\": -0.7162266136999998, \"z\": -0.19244285729999996}, \"alignment\": \"center\", \"fontColor\": 0, \"backgroundColor\": 16777215, \"backgroundOpacity\": 0.0});\n\tviewer_17477490578806467.addLabel(\"9\",{\"position\": {\"x\": 5.5097537075, \"y\": -0.7720747162, \"z\": 0.1336293537}, \"alignment\": \"center\", \"fontColor\": 0, \"backgroundColor\": 16777215, \"backgroundOpacity\": 0.0});\n\tviewer_17477490578806467.addLabel(\"10\",{\"position\": {\"x\": 5.1009824698, \"y\": -2.0878240657, \"z\": 0.5406435604}, \"alignment\": \"center\", \"fontColor\": 0, \"backgroundColor\": 16777215, \"backgroundOpacity\": 0.0});\n\tviewer_17477490578806467.addLabel(\"11\",{\"position\": {\"x\": 5.7372998568, \"y\": -2.9570654838, \"z\": 0.6892873627999999}, \"alignment\": \"center\", \"fontColor\": 0, \"backgroundColor\": 16777215, \"backgroundOpacity\": 0.0});\n\tviewer_17477490578806467.addLabel(\"12\",{\"position\": {\"x\": 3.7438801169, \"y\": -2.0443763598, \"z\": 0.722649761}, \"alignment\": \"center\", \"fontColor\": 0, \"backgroundColor\": 16777215, \"backgroundOpacity\": 0.0});\n\tviewer_17477490578806467.addLabel(\"13\",{\"position\": {\"x\": 3.0543062250999995, \"y\": -2.8214265706, \"z\": 1.0462619034}, \"alignment\": \"center\", \"fontColor\": 0, \"backgroundColor\": 16777215, \"backgroundOpacity\": 0.0});\n\tviewer_17477490578806467.addLabel(\"14\",{\"position\": {\"x\": 3.2609508451, \"y\": -0.7683360553999999, \"z\": 0.45498354829999993}, \"alignment\": \"center\", \"fontColor\": 0, \"backgroundColor\": 16777215, \"backgroundOpacity\": 0.0});\n\tviewer_17477490578806467.addLabel(\"15\",{\"position\": {\"x\": 1.9260075375999999, \"y\": -0.374984551, \"z\": 0.5283176588}, \"alignment\": \"center\", \"fontColor\": 0, \"backgroundColor\": 16777215, \"backgroundOpacity\": 0.0});\n\tviewer_17477490578806467.addLabel(\"16\",{\"position\": {\"x\": 0.6782993391, \"y\": -1.3889716576, \"z\": -0.15426137779999996}, \"alignment\": \"center\", \"fontColor\": 0, \"backgroundColor\": 16777215, \"backgroundOpacity\": 0.0});\n\tviewer_17477490578806467.addLabel(\"17\",{\"position\": {\"x\": 1.406115373, \"y\": 0.7824770017, \"z\": 1.0601625727999997}, \"alignment\": \"center\", \"fontColor\": 0, \"backgroundColor\": 16777215, \"backgroundOpacity\": 0.0});\n\tviewer_17477490578806467.addLabel(\"18\",{\"position\": {\"x\": 2.0181143215, \"y\": 1.5416160613, \"z\": 1.5454703546}, \"alignment\": \"center\", \"fontColor\": 0, \"backgroundColor\": 16777215, \"backgroundOpacity\": 0.0});\n\tviewer_17477490578806467.addLabel(\"19\",{\"position\": {\"x\": -0.0068851194, \"y\": 0.8477465652, \"z\": 0.9398680126}, \"alignment\": \"center\", \"fontColor\": 0, \"backgroundColor\": 16777215, \"backgroundOpacity\": 0.0});\n\tviewer_17477490578806467.addLabel(\"20\",{\"position\": {\"x\": -0.6059313977, \"y\": 1.6741214420999997, \"z\": 1.3245241162}, \"alignment\": \"center\", \"fontColor\": 0, \"backgroundColor\": 16777215, \"backgroundOpacity\": 0.0});\n\tviewer_17477490578806467.addLabel(\"21\",{\"position\": {\"x\": -0.5667478467, \"y\": -0.2580211398, \"z\": 0.3294429618}, \"alignment\": \"center\", \"fontColor\": 0, \"backgroundColor\": 16777215, \"backgroundOpacity\": 0.0});\n\tviewer_17477490578806467.addLabel(\"22\",{\"position\": {\"x\": -1.9604337492999997, \"y\": -0.5533359638, \"z\": 0.0792123648}, \"alignment\": \"center\", \"fontColor\": 0, \"backgroundColor\": 16777215, \"backgroundOpacity\": 0.0});\n\tviewer_17477490578806467.addLabel(\"23\",{\"position\": {\"x\": -2.5277285147999997, \"y\": -1.7535587315, \"z\": -0.32702777479999995}, \"alignment\": \"center\", \"fontColor\": 0, \"backgroundColor\": 16777215, \"backgroundOpacity\": 0.0});\n\tviewer_17477490578806467.addLabel(\"24\",{\"position\": {\"x\": -1.9416881983, \"y\": -2.6565543002999994, \"z\": -0.5031604314}, \"alignment\": \"center\", \"fontColor\": 0, \"backgroundColor\": 16777215, \"backgroundOpacity\": 0.0});\n\tviewer_17477490578806467.addLabel(\"25\",{\"position\": {\"x\": -3.932110426, \"y\": -1.6831753283, \"z\": -0.4684223853}, \"alignment\": \"center\", \"fontColor\": 0, \"backgroundColor\": 16777215, \"backgroundOpacity\": 0.0});\n\tviewer_17477490578806467.addLabel(\"26\",{\"position\": {\"x\": -4.5766877637, \"y\": -2.5081858439, \"z\": -0.7717042735}, \"alignment\": \"center\", \"fontColor\": 0, \"backgroundColor\": 16777215, \"backgroundOpacity\": 0.0});\n\tviewer_17477490578806467.addLabel(\"27\",{\"position\": {\"x\": -3.1787442841, \"y\": 0.6764078755, \"z\": 0.2764099378}, \"alignment\": \"center\", \"fontColor\": 0, \"backgroundColor\": 16777215, \"backgroundOpacity\": 0.0});\n\tviewer_17477490578806467.addLabel(\"28\",{\"position\": {\"x\": -4.439051163299999, \"y\": -0.4347565024, \"z\": -0.1731766944}, \"alignment\": \"center\", \"fontColor\": 0, \"backgroundColor\": 16777215, \"backgroundOpacity\": 0.0});\n\tviewer_17477490578806467.addLabel(\"29\",{\"position\": {\"x\": -5.8556810641, \"y\": -0.04990486139999999, \"z\": -0.2240721981}, \"alignment\": \"center\", \"fontColor\": 0, \"backgroundColor\": 16777215, \"backgroundOpacity\": 0.0});\n\tviewer_17477490578806467.addLabel(\"30\",{\"position\": {\"x\": -6.7574530303, \"y\": -0.7927799636999999, \"z\": -0.5363405829}, \"alignment\": \"center\", \"fontColor\": 0, \"backgroundColor\": 16777215, \"backgroundOpacity\": 0.0});\n\tviewer_17477490578806467.addLabel(\"31\",{\"position\": {\"x\": -6.032843702199999, \"y\": 1.2420382988, \"z\": 0.1214233024}, \"alignment\": \"center\", \"fontColor\": 0, \"backgroundColor\": 16777215, \"backgroundOpacity\": 0.0});\n\tviewer_17477490578806467.addLabel(\"32\",{\"position\": {\"x\": -7.3762795865, \"y\": 1.7182783196999998, \"z\": 0.10215391489999999}, \"alignment\": \"center\", \"fontColor\": 0, \"backgroundColor\": 16777215, \"backgroundOpacity\": 0.0});\n\tviewer_17477490578806467.addLabel(\"33\",{\"position\": {\"x\": -8.004463386, \"y\": 1.1450501374, \"z\": 0.8009438574}, \"alignment\": \"center\", \"fontColor\": 0, \"backgroundColor\": 16777215, \"backgroundOpacity\": 0.0});\n\tviewer_17477490578806467.addLabel(\"34\",{\"position\": {\"x\": -7.3321515876, \"y\": 2.771427076, \"z\": 0.4053723169999999}, \"alignment\": \"center\", \"fontColor\": 0, \"backgroundColor\": 16777215, \"backgroundOpacity\": 0.0});\n\tviewer_17477490578806467.addLabel(\"35\",{\"position\": {\"x\": -7.8085678845, \"y\": 1.6284781442, \"z\": -0.9060973811}, \"alignment\": \"center\", \"fontColor\": 0, \"backgroundColor\": 16777215, \"backgroundOpacity\": 0.0});\n\tviewer_17477490578806467.zoomTo();\nviewer_17477490578806467.render();\n});\n</script>",
      "text/html": [
       "<div id=\"3dmolviewer_17477490578806467\"  style=\"position: relative; width: 600px; height: 450px;\">\n",
       "        <p id=\"3dmolwarning_17477490578806467\" style=\"background-color:#ffcccc;color:black\">3Dmol.js failed to load for some reason.  Please check your browser console for error messages.<br></p>\n",
       "        </div>\n",
       "<script>\n",
       "\n",
       "var loadScriptAsync = function(uri){\n",
       "  return new Promise((resolve, reject) => {\n",
       "    //this is to ignore the existence of requirejs amd\n",
       "    var savedexports, savedmodule;\n",
       "    if (typeof exports !== 'undefined') savedexports = exports;\n",
       "    else exports = {}\n",
       "    if (typeof module !== 'undefined') savedmodule = module;\n",
       "    else module = {}\n",
       "\n",
       "    var tag = document.createElement('script');\n",
       "    tag.src = uri;\n",
       "    tag.async = true;\n",
       "    tag.onload = () => {\n",
       "        exports = savedexports;\n",
       "        module = savedmodule;\n",
       "        resolve();\n",
       "    };\n",
       "  var firstScriptTag = document.getElementsByTagName('script')[0];\n",
       "  firstScriptTag.parentNode.insertBefore(tag, firstScriptTag);\n",
       "});\n",
       "};\n",
       "\n",
       "if(typeof $3Dmolpromise === 'undefined') {\n",
       "$3Dmolpromise = null;\n",
       "  $3Dmolpromise = loadScriptAsync('https://cdnjs.cloudflare.com/ajax/libs/3Dmol/2.4.2/3Dmol-min.js');\n",
       "}\n",
       "\n",
       "var viewer_17477490578806467 = null;\n",
       "var warn = document.getElementById(\"3dmolwarning_17477490578806467\");\n",
       "if(warn) {\n",
       "    warn.parentNode.removeChild(warn);\n",
       "}\n",
       "$3Dmolpromise.then(function() {\n",
       "viewer_17477490578806467 = $3Dmol.createViewer(document.getElementById(\"3dmolviewer_17477490578806467\"),{backgroundColor:\"white\"});\n",
       "viewer_17477490578806467.zoomTo();\n",
       "\tviewer_17477490578806467.addModel(\"35\\n\\nC              4.339956021500         0.030542894600         0.082814478600\\nC              4.409557653800         1.368361015800        -0.323519259500\\nH              3.513402764300         1.993760190300        -0.392403299300\\nN              5.572339554300         1.919743373700        -0.648874392400\\nC              6.693527930900         1.175779413300        -0.586432916800\\nH              7.622406821500         1.687595105200        -0.861642583900\\nC              6.727691010800        -0.163591845200        -0.210784558100\\nH              7.669503230000        -0.716226613700        -0.192442857300\\nC              5.509753707500        -0.772074716200         0.133629353700\\nC              5.100982469800        -2.087824065700         0.540643560400\\nH              5.737299856800        -2.957065483800         0.689287362800\\nC              3.743880116900        -2.044376359800         0.722649761000\\nH              3.054306225100        -2.821426570600         1.046261903400\\nN              3.260950845100        -0.768336055400         0.454983548300\\nC              1.926007537600        -0.374984551000         0.528317658800\\nS              0.678299339100        -1.388971657600        -0.154261377800\\nC              1.406115373000         0.782477001700         1.060162572800\\nH              2.018114321500         1.541616061300         1.545470354600\\nC             -0.006885119400         0.847746565200         0.939868012600\\nH             -0.605931397700         1.674121442100         1.324524116200\\nC             -0.566747846700        -0.258021139800         0.329442961800\\nC             -1.960433749300        -0.553335963800         0.079212364800\\nC             -2.527728514800        -1.753558731500        -0.327027774800\\nH             -1.941688198300        -2.656554300300        -0.503160431400\\nC             -3.932110426000        -1.683175328300        -0.468422385300\\nH             -4.576687763700        -2.508185843900        -0.771704273500\\nS             -3.178744284100         0.676407875500         0.276409937800\\nC             -4.439051163300        -0.434756502400        -0.173176694400\\nC             -5.855681064100        -0.049904861400        -0.224072198100\\nO             -6.757453030300        -0.792779963700        -0.536340582900\\nO             -6.032843702200         1.242038298800         0.121423302400\\nC             -7.376279586500         1.718278319700         0.102153914900\\nH             -8.004463386000         1.145050137400         0.800943857400\\nH             -7.332151587600         2.771427076000         0.405372317000\\nH             -7.808567884500         1.628478144200        -0.906097381100\\n\");\n",
       "\tviewer_17477490578806467.setViewStyle({\"style\": \"outline\", \"width\": 0.05});\n",
       "\tviewer_17477490578806467.setStyle({\"stick\": {}, \"sphere\": {\"scale\": 0.25}});\n",
       "\tviewer_17477490578806467.addLabel(\"1\",{\"position\": {\"x\": 4.3399560215, \"y\": 0.0305428946, \"z\": 0.08281447859999999}, \"alignment\": \"center\", \"fontColor\": 0, \"backgroundColor\": 16777215, \"backgroundOpacity\": 0.0});\n",
       "\tviewer_17477490578806467.addLabel(\"2\",{\"position\": {\"x\": 4.4095576538, \"y\": 1.3683610158, \"z\": -0.3235192595}, \"alignment\": \"center\", \"fontColor\": 0, \"backgroundColor\": 16777215, \"backgroundOpacity\": 0.0});\n",
       "\tviewer_17477490578806467.addLabel(\"3\",{\"position\": {\"x\": 3.5134027643, \"y\": 1.9937601903, \"z\": -0.3924032993}, \"alignment\": \"center\", \"fontColor\": 0, \"backgroundColor\": 16777215, \"backgroundOpacity\": 0.0});\n",
       "\tviewer_17477490578806467.addLabel(\"4\",{\"position\": {\"x\": 5.5723395543, \"y\": 1.9197433737, \"z\": -0.6488743924}, \"alignment\": \"center\", \"fontColor\": 0, \"backgroundColor\": 16777215, \"backgroundOpacity\": 0.0});\n",
       "\tviewer_17477490578806467.addLabel(\"5\",{\"position\": {\"x\": 6.693527930899999, \"y\": 1.1757794132999997, \"z\": -0.5864329168}, \"alignment\": \"center\", \"fontColor\": 0, \"backgroundColor\": 16777215, \"backgroundOpacity\": 0.0});\n",
       "\tviewer_17477490578806467.addLabel(\"6\",{\"position\": {\"x\": 7.6224068215, \"y\": 1.6875951052, \"z\": -0.8616425839}, \"alignment\": \"center\", \"fontColor\": 0, \"backgroundColor\": 16777215, \"backgroundOpacity\": 0.0});\n",
       "\tviewer_17477490578806467.addLabel(\"7\",{\"position\": {\"x\": 6.7276910108, \"y\": -0.1635918452, \"z\": -0.2107845581}, \"alignment\": \"center\", \"fontColor\": 0, \"backgroundColor\": 16777215, \"backgroundOpacity\": 0.0});\n",
       "\tviewer_17477490578806467.addLabel(\"8\",{\"position\": {\"x\": 7.669503229999999, \"y\": -0.7162266136999998, \"z\": -0.19244285729999996}, \"alignment\": \"center\", \"fontColor\": 0, \"backgroundColor\": 16777215, \"backgroundOpacity\": 0.0});\n",
       "\tviewer_17477490578806467.addLabel(\"9\",{\"position\": {\"x\": 5.5097537075, \"y\": -0.7720747162, \"z\": 0.1336293537}, \"alignment\": \"center\", \"fontColor\": 0, \"backgroundColor\": 16777215, \"backgroundOpacity\": 0.0});\n",
       "\tviewer_17477490578806467.addLabel(\"10\",{\"position\": {\"x\": 5.1009824698, \"y\": -2.0878240657, \"z\": 0.5406435604}, \"alignment\": \"center\", \"fontColor\": 0, \"backgroundColor\": 16777215, \"backgroundOpacity\": 0.0});\n",
       "\tviewer_17477490578806467.addLabel(\"11\",{\"position\": {\"x\": 5.7372998568, \"y\": -2.9570654838, \"z\": 0.6892873627999999}, \"alignment\": \"center\", \"fontColor\": 0, \"backgroundColor\": 16777215, \"backgroundOpacity\": 0.0});\n",
       "\tviewer_17477490578806467.addLabel(\"12\",{\"position\": {\"x\": 3.7438801169, \"y\": -2.0443763598, \"z\": 0.722649761}, \"alignment\": \"center\", \"fontColor\": 0, \"backgroundColor\": 16777215, \"backgroundOpacity\": 0.0});\n",
       "\tviewer_17477490578806467.addLabel(\"13\",{\"position\": {\"x\": 3.0543062250999995, \"y\": -2.8214265706, \"z\": 1.0462619034}, \"alignment\": \"center\", \"fontColor\": 0, \"backgroundColor\": 16777215, \"backgroundOpacity\": 0.0});\n",
       "\tviewer_17477490578806467.addLabel(\"14\",{\"position\": {\"x\": 3.2609508451, \"y\": -0.7683360553999999, \"z\": 0.45498354829999993}, \"alignment\": \"center\", \"fontColor\": 0, \"backgroundColor\": 16777215, \"backgroundOpacity\": 0.0});\n",
       "\tviewer_17477490578806467.addLabel(\"15\",{\"position\": {\"x\": 1.9260075375999999, \"y\": -0.374984551, \"z\": 0.5283176588}, \"alignment\": \"center\", \"fontColor\": 0, \"backgroundColor\": 16777215, \"backgroundOpacity\": 0.0});\n",
       "\tviewer_17477490578806467.addLabel(\"16\",{\"position\": {\"x\": 0.6782993391, \"y\": -1.3889716576, \"z\": -0.15426137779999996}, \"alignment\": \"center\", \"fontColor\": 0, \"backgroundColor\": 16777215, \"backgroundOpacity\": 0.0});\n",
       "\tviewer_17477490578806467.addLabel(\"17\",{\"position\": {\"x\": 1.406115373, \"y\": 0.7824770017, \"z\": 1.0601625727999997}, \"alignment\": \"center\", \"fontColor\": 0, \"backgroundColor\": 16777215, \"backgroundOpacity\": 0.0});\n",
       "\tviewer_17477490578806467.addLabel(\"18\",{\"position\": {\"x\": 2.0181143215, \"y\": 1.5416160613, \"z\": 1.5454703546}, \"alignment\": \"center\", \"fontColor\": 0, \"backgroundColor\": 16777215, \"backgroundOpacity\": 0.0});\n",
       "\tviewer_17477490578806467.addLabel(\"19\",{\"position\": {\"x\": -0.0068851194, \"y\": 0.8477465652, \"z\": 0.9398680126}, \"alignment\": \"center\", \"fontColor\": 0, \"backgroundColor\": 16777215, \"backgroundOpacity\": 0.0});\n",
       "\tviewer_17477490578806467.addLabel(\"20\",{\"position\": {\"x\": -0.6059313977, \"y\": 1.6741214420999997, \"z\": 1.3245241162}, \"alignment\": \"center\", \"fontColor\": 0, \"backgroundColor\": 16777215, \"backgroundOpacity\": 0.0});\n",
       "\tviewer_17477490578806467.addLabel(\"21\",{\"position\": {\"x\": -0.5667478467, \"y\": -0.2580211398, \"z\": 0.3294429618}, \"alignment\": \"center\", \"fontColor\": 0, \"backgroundColor\": 16777215, \"backgroundOpacity\": 0.0});\n",
       "\tviewer_17477490578806467.addLabel(\"22\",{\"position\": {\"x\": -1.9604337492999997, \"y\": -0.5533359638, \"z\": 0.0792123648}, \"alignment\": \"center\", \"fontColor\": 0, \"backgroundColor\": 16777215, \"backgroundOpacity\": 0.0});\n",
       "\tviewer_17477490578806467.addLabel(\"23\",{\"position\": {\"x\": -2.5277285147999997, \"y\": -1.7535587315, \"z\": -0.32702777479999995}, \"alignment\": \"center\", \"fontColor\": 0, \"backgroundColor\": 16777215, \"backgroundOpacity\": 0.0});\n",
       "\tviewer_17477490578806467.addLabel(\"24\",{\"position\": {\"x\": -1.9416881983, \"y\": -2.6565543002999994, \"z\": -0.5031604314}, \"alignment\": \"center\", \"fontColor\": 0, \"backgroundColor\": 16777215, \"backgroundOpacity\": 0.0});\n",
       "\tviewer_17477490578806467.addLabel(\"25\",{\"position\": {\"x\": -3.932110426, \"y\": -1.6831753283, \"z\": -0.4684223853}, \"alignment\": \"center\", \"fontColor\": 0, \"backgroundColor\": 16777215, \"backgroundOpacity\": 0.0});\n",
       "\tviewer_17477490578806467.addLabel(\"26\",{\"position\": {\"x\": -4.5766877637, \"y\": -2.5081858439, \"z\": -0.7717042735}, \"alignment\": \"center\", \"fontColor\": 0, \"backgroundColor\": 16777215, \"backgroundOpacity\": 0.0});\n",
       "\tviewer_17477490578806467.addLabel(\"27\",{\"position\": {\"x\": -3.1787442841, \"y\": 0.6764078755, \"z\": 0.2764099378}, \"alignment\": \"center\", \"fontColor\": 0, \"backgroundColor\": 16777215, \"backgroundOpacity\": 0.0});\n",
       "\tviewer_17477490578806467.addLabel(\"28\",{\"position\": {\"x\": -4.439051163299999, \"y\": -0.4347565024, \"z\": -0.1731766944}, \"alignment\": \"center\", \"fontColor\": 0, \"backgroundColor\": 16777215, \"backgroundOpacity\": 0.0});\n",
       "\tviewer_17477490578806467.addLabel(\"29\",{\"position\": {\"x\": -5.8556810641, \"y\": -0.04990486139999999, \"z\": -0.2240721981}, \"alignment\": \"center\", \"fontColor\": 0, \"backgroundColor\": 16777215, \"backgroundOpacity\": 0.0});\n",
       "\tviewer_17477490578806467.addLabel(\"30\",{\"position\": {\"x\": -6.7574530303, \"y\": -0.7927799636999999, \"z\": -0.5363405829}, \"alignment\": \"center\", \"fontColor\": 0, \"backgroundColor\": 16777215, \"backgroundOpacity\": 0.0});\n",
       "\tviewer_17477490578806467.addLabel(\"31\",{\"position\": {\"x\": -6.032843702199999, \"y\": 1.2420382988, \"z\": 0.1214233024}, \"alignment\": \"center\", \"fontColor\": 0, \"backgroundColor\": 16777215, \"backgroundOpacity\": 0.0});\n",
       "\tviewer_17477490578806467.addLabel(\"32\",{\"position\": {\"x\": -7.3762795865, \"y\": 1.7182783196999998, \"z\": 0.10215391489999999}, \"alignment\": \"center\", \"fontColor\": 0, \"backgroundColor\": 16777215, \"backgroundOpacity\": 0.0});\n",
       "\tviewer_17477490578806467.addLabel(\"33\",{\"position\": {\"x\": -8.004463386, \"y\": 1.1450501374, \"z\": 0.8009438574}, \"alignment\": \"center\", \"fontColor\": 0, \"backgroundColor\": 16777215, \"backgroundOpacity\": 0.0});\n",
       "\tviewer_17477490578806467.addLabel(\"34\",{\"position\": {\"x\": -7.3321515876, \"y\": 2.771427076, \"z\": 0.4053723169999999}, \"alignment\": \"center\", \"fontColor\": 0, \"backgroundColor\": 16777215, \"backgroundOpacity\": 0.0});\n",
       "\tviewer_17477490578806467.addLabel(\"35\",{\"position\": {\"x\": -7.8085678845, \"y\": 1.6284781442, \"z\": -0.9060973811}, \"alignment\": \"center\", \"fontColor\": 0, \"backgroundColor\": 16777215, \"backgroundOpacity\": 0.0});\n",
       "\tviewer_17477490578806467.zoomTo();\n",
       "viewer_17477490578806467.render();\n",
       "});\n",
       "</script>"
      ]
     },
     "metadata": {},
     "output_type": "display_data"
    }
   ],
   "source": [
    "import veloxchem as vlx\n",
    "import numpy as np\n",
    "\n",
    "# load B3LYP optimized geometry in the xyz format\n",
    "molecule = vlx.Molecule.read_xyz_file(\n",
    "    \"data/hs276_optim_b3lyp_dev2-svp.xyz\")\n",
    "molecule.show(atom_indices=True, width=600, height=450)"
   ]
  },
  {
   "cell_type": "markdown",
   "id": "dbe770b5",
   "metadata": {},
   "source": [
    "*This part of the code load the MM Forfield Generator and create an initial topology for the molecule object. By default, RESP charges are computed at the B3LYP/6-31G* as recommended."
   ]
  },
  {
   "cell_type": "code",
   "execution_count": null,
   "id": "593b5e66-29c2-467e-9627-c28d53cbfaf6",
   "metadata": {},
   "outputs": [
    {
     "name": "stdout",
     "output_type": "stream",
     "text": [
      "* Info * Using 6-31G* basis set for RESP charges...                                                                       \n"
     ]
    }
   ],
   "source": [
    "ff_gen = vlx.MMForceFieldGenerator()\n",
    "ff_gen.create_topology(molecule)\n",
    "ff_gen.write_gromacs_files('HS-276_initial', 'MOL')"
   ]
  },
  {
   "cell_type": "markdown",
   "id": "fe52a48c",
   "metadata": {},
   "source": [
    "The Force-Field Generator can identify rotatable bonds."
   ]
  },
  {
   "cell_type": "code",
   "execution_count": null,
   "id": "a9a09738",
   "metadata": {},
   "outputs": [],
   "source": [
    "rot_bonds = ff_gen.rotatable_bonds\n",
    "print(rot_bonds)"
   ]
  },
  {
   "cell_type": "markdown",
   "id": "64b58dde",
   "metadata": {},
   "source": [
    "## Reparametrization\n",
    "We will here focus on the reparametrization of the barrier around the rotatable bond [21, 22]. We use the file 16-21-22-27.xyz from the data folder containing the results from a relaxed scan around rotatable bond [21, 22], i. e. optimized geometries and energies (in the comment line for each geometries).\n"
   ]
  },
  {
   "cell_type": "code",
   "execution_count": null,
   "id": "35303b4d",
   "metadata": {},
   "outputs": [],
   "source": [
    "ff_gen.reparameterize_dihedrals(rotatable_bond=(21,22),\n",
    "                                scan_file=\"data/16-21-22-27.xyz\", \n",
    "                                visualize=True)"
   ]
  },
  {
   "cell_type": "markdown",
   "id": "67fd5efa",
   "metadata": {},
   "source": [
    "The rotational barrier is now much improved but the relative energies between the two conformer minima are still not well reproduced, leading to significant errors in the statistical dihedral distributions. As a remedy to this situation, an additional dihedral potential can be added."
   ]
  },
  {
   "cell_type": "code",
   "execution_count": null,
   "id": "dabf8fc4",
   "metadata": {},
   "outputs": [],
   "source": [
    "ff_gen.add_dihedral((16, 21, 22, 27), \n",
    "                    barrier=0.0, \n",
    "                    phase=180.0, \n",
    "                    periodicity=1)"
   ]
  },
  {
   "cell_type": "markdown",
   "id": "f121e7c5",
   "metadata": {},
   "source": [
    "We can now restart the reparametrization procedure with this added dihedral angle."
   ]
  },
  {
   "cell_type": "code",
   "execution_count": null,
   "id": "7a6d69ea",
   "metadata": {},
   "outputs": [],
   "source": [
    "ff_gen.reparameterize_dihedrals(rotatable_bond=(21,22),\n",
    "                                scan_file=\"data/16-21-22-27.xyz\", \n",
    "                                visualize=True,\n",
    "                                initial_validation=False)"
   ]
  },
  {
   "cell_type": "markdown",
   "id": "17fd5f7a",
   "metadata": {},
   "source": [
    "Another dihedral angle can be added for a better agreement with the QM Potential Energy Surface."
   ]
  },
  {
   "cell_type": "code",
   "execution_count": null,
   "id": "28727b14",
   "metadata": {},
   "outputs": [],
   "source": [
    "ff_gen.add_dihedral((16, 21, 22, 27),\n",
    "                    barrier=0.0,\n",
    "                    phase=0.0,\n",
    "                    periodicity=4)"
   ]
  },
  {
   "cell_type": "markdown",
   "id": "4e1f5fde",
   "metadata": {},
   "source": [
    "And start a new parametrization with this added dihedral angle."
   ]
  },
  {
   "cell_type": "code",
   "execution_count": null,
   "id": "1beee786",
   "metadata": {},
   "outputs": [],
   "source": [
    "ff_gen.reparameterize_dihedrals(rotatable_bond=(21,22),\n",
    "                                scan_file=\"data/16-21-22-27.xyz\",\n",
    "                                visualize=True,\n",
    "                                initial_validation=False)"
   ]
  },
  {
   "cell_type": "markdown",
   "id": "89d01889",
   "metadata": {},
   "source": [
    "| Rotatable Bond | Max difference (kJ/mol) | Std deviation (kJ/mol) |\n",
    "|----------------|-------------------------|------------------------|\n",
    "| [21, 22]      | 0.477                   | 0.212                  |"
   ]
  },
  {
   "cell_type": "markdown",
   "id": "08cbbdfe",
   "metadata": {},
   "source": [
    "With this excellent agreement between the QM and MM Potential Energy Surface, we can now save the topology as, i. e., Gromacs ouptut files."
   ]
  },
  {
   "cell_type": "code",
   "execution_count": null,
   "id": "70aae44d",
   "metadata": {},
   "outputs": [],
   "source": [
    "ff_gen.write_gromacs_files('HS-276_final', 'MOL')"
   ]
  }
 ],
 "metadata": {
  "kernelspec": {
   "display_name": "vlx-github",
   "language": "python",
   "name": "python3"
  },
  "language_info": {
   "codemirror_mode": {
    "name": "ipython",
    "version": 3
   },
   "file_extension": ".py",
   "mimetype": "text/x-python",
   "name": "python",
   "nbconvert_exporter": "python",
   "pygments_lexer": "ipython3",
   "version": "3.12.8"
  }
 },
 "nbformat": 4,
 "nbformat_minor": 5
}
