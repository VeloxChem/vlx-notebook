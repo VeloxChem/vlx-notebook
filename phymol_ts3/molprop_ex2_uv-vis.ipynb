{
 "cells": [
  {
   "cell_type": "markdown",
   "id": "9eae2527-8782-4075-a30c-98a9d4a308e2",
   "metadata": {},
   "source": [
    "## PHYMOL Training School 3, August 2025\n",
    "\n",
    "---\n",
    "# Molecular properties\n",
    "## Exercise 2: UV-Vis absorption"
   ]
  },
  {
   "cell_type": "code",
   "execution_count": null,
   "id": "0a74b4d1-14db-4395-ac54-373815dd98a4",
   "metadata": {},
   "outputs": [],
   "source": [
    "# as in exercise 1, import relevant packages and solve the SCF"
   ]
  },
  {
   "cell_type": "markdown",
   "id": "b9d1b381-b7ff-41e8-a26e-6cc78218b735",
   "metadata": {},
   "source": [
    "#### 1. Reformulate the equation for $\\alpha$ to a sum-over-states-like form and identify the TDHF transition moment\n",
    "Start from \n",
    "$$ (\\mathbf{E}^{[2]} - \\omega\\mathbf{S}^{[2]})^{-1} = X[X^\\dagger (\\mathbf{E}^{[2]} - \\omega\\mathbf{S}^{[2]}) X]^{-1} X^\\dagger)$$"
   ]
  },
  {
   "cell_type": "markdown",
   "id": "a21b36b2-d86d-4efa-8cb5-69803601b2d2",
   "metadata": {},
   "source": [
    "#### 2. Setup a VeloxChem workflow to calculate the transition dipole moments and oscillator strengths of the 6 lowest excited states"
   ]
  },
  {
   "cell_type": "code",
   "execution_count": null,
   "id": "156e2252-2b09-437c-8c07-a66e0c02953c",
   "metadata": {},
   "outputs": [],
   "source": []
  },
  {
   "cell_type": "markdown",
   "id": "619584f8-6876-4c74-ae71-43cd375f9e4f",
   "metadata": {},
   "source": [
    "#### 3. Create the electronic Hessian and overlap matrices from exercise 1 and determine the eigenvalues of $(S^{[2]})^{-1}E^{[2]}$\n",
    "Compare to the results obtained from VeloxChem"
   ]
  },
  {
   "cell_type": "code",
   "execution_count": null,
   "id": "45e941d4-879c-4c2f-bc7d-191ea36a8f45",
   "metadata": {},
   "outputs": [],
   "source": []
  },
  {
   "cell_type": "markdown",
   "id": "34e10125-8d8d-4a19-99b3-4040431b99f3",
   "metadata": {},
   "source": [
    "#### 4. Identify the expressions for the transition moments in your solution to (1.) and calculate them\n",
    "Then calculate the oscillator strengths"
   ]
  },
  {
   "cell_type": "code",
   "execution_count": null,
   "id": "b009db48-2d60-41b4-9473-82ac03c4c321",
   "metadata": {},
   "outputs": [],
   "source": []
  },
  {
   "cell_type": "markdown",
   "id": "aafc563e-7bb5-485c-8864-0e0bb900ef26",
   "metadata": {},
   "source": [
    "#### 5. Write a function for Lorentzian broadening and plot the absorption cross section \n",
    "\n",
    "$$\\sigma(\\omega) \\propto \\sum_n \\sum_{\\alpha=x,y,z}  \\langle 0| \\hat{\\mu}_\\alpha | n\\rangle  \\langle n| \\hat{\\mu}_\\alpha | 0\\rangle f(\\omega; \\omega_{n0})$$\n",
    "\n",
    "$$f(\\omega; \\omega_{n0}) = \\frac{1}{\\pi} \\frac{\\gamma}{(\\omega_{n0}-\\omega)^2 + \\gamma^2}$$"
   ]
  },
  {
   "cell_type": "code",
   "execution_count": null,
   "id": "9a131858-c745-4df6-a4ae-3f3936db4feb",
   "metadata": {},
   "outputs": [],
   "source": []
  }
 ],
 "metadata": {
  "kernelspec": {
   "display_name": "Python 3 (ipykernel)",
   "language": "python",
   "name": "python3"
  },
  "language_info": {
   "codemirror_mode": {
    "name": "ipython",
    "version": 3
   },
   "file_extension": ".py",
   "mimetype": "text/x-python",
   "name": "python",
   "nbconvert_exporter": "python",
   "pygments_lexer": "ipython3",
   "version": "3.12.11"
  }
 },
 "nbformat": 4,
 "nbformat_minor": 5
}
