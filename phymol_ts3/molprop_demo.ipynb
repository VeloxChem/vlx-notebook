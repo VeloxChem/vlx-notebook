{
 "cells": [
  {
   "cell_type": "markdown",
   "id": "1669fab4-c0e9-455d-93ab-c61f179aa832",
   "metadata": {},
   "source": [
    "## PHYMOL Training School 3, August 2025\n",
    "\n",
    "---\n",
    "# Molecular properties\n",
    "## Example Workflow"
   ]
  },
  {
   "cell_type": "markdown",
   "id": "3ba7ed86-70ad-4920-85b9-ada8fa3e8a09",
   "metadata": {},
   "source": [
    "### 0. Molecule and basis set"
   ]
  },
  {
   "cell_type": "code",
   "execution_count": null,
   "id": "c5a12819-d291-4a47-b355-542c10943d44",
   "metadata": {},
   "outputs": [],
   "source": [
    "import veloxchem as vlx"
   ]
  },
  {
   "cell_type": "code",
   "execution_count": null,
   "id": "39560baf-2e37-4f39-a559-8fb07d6895c4",
   "metadata": {},
   "outputs": [],
   "source": [
    "# ethene molecule\n",
    "ethene_xyz = \"\"\"6\n",
    "\n",
    "C        0.67759997    0.00000000    0.00000000\n",
    "C       -0.67759997    0.00000000    0.00000000\n",
    "H        1.21655197    0.92414474    0.00000000\n",
    "H        1.21655197   -0.92414474    0.00000000\n",
    "H       -1.21655197   -0.92414474    0.00000000\n",
    "H       -1.21655197    0.92414474    0.00000000\n",
    "\"\"\"\n",
    "\n",
    "molecule = vlx.Molecule.from_xyz_string(ethene_xyz)\n",
    "basis = vlx.MolecularBasis.read(molecule, \"def2-svp\")"
   ]
  },
  {
   "cell_type": "markdown",
   "id": "c0aaf18b-9573-4c32-b0d1-c36030ccd935",
   "metadata": {},
   "source": [
    "### 1. SCF"
   ]
  },
  {
   "cell_type": "code",
   "execution_count": null,
   "id": "e989062a-0327-48a3-87f7-7905afacbdfe",
   "metadata": {
    "scrolled": true
   },
   "outputs": [],
   "source": [
    "scf_drv = vlx.ScfRestrictedDriver()\n",
    "scf_drv.ostream.mute()\n",
    "scf_results = scf_drv.compute(molecule, basis)"
   ]
  },
  {
   "cell_type": "markdown",
   "id": "767b6eb1-e8cb-42e6-b084-ab8553815067",
   "metadata": {},
   "source": [
    "### 2. Polarizability"
   ]
  },
  {
   "cell_type": "markdown",
   "id": "a0d01263-4055-49c8-ab67-7b08420ddc73",
   "metadata": {},
   "source": [
    "Calculated from the electric dipole-electric dipole linear response function:\n",
    "$$\\alpha_{\\alpha\\beta}(\\omega, -\\omega) = - \\langle\\langle\\mu_\\alpha,\\mu_\\beta\\rangle\\rangle_\\omega$$"
   ]
  },
  {
   "cell_type": "code",
   "execution_count": null,
   "id": "50ee2171-3eec-4885-aada-ee5d3498c521",
   "metadata": {
    "scrolled": true
   },
   "outputs": [],
   "source": [
    "lrf_drv = vlx.LinearResponseSolver() \n",
    "lrf_drv.a_operator = \"electric dipole\"\n",
    "lrf_drv.b_operator = \"electric dipole\"\n",
    "\n",
    "lrf_drv.frequencies = [0.0656]\n",
    "\n",
    "lrf_results = lrf_drv.compute(molecule, basis, scf_results)"
   ]
  },
  {
   "cell_type": "code",
   "execution_count": null,
   "id": "38fd9ab2-0544-43d2-a2ae-30949b7d81c1",
   "metadata": {},
   "outputs": [],
   "source": [
    "lrf = lrf_results.get('response_functions')\n",
    "alpha_iso = -1/3 * (lrf['x', 'x', 0.0656] + lrf['y', 'y', 0.0656] + lrf['z', 'z', 0.0656])\n",
    "\n",
    "print(f\"Polarizability isotropic average: {alpha_iso} \")"
   ]
  },
  {
   "cell_type": "markdown",
   "id": "af4175fe-e7a8-4b95-872e-67e686b7e61c",
   "metadata": {},
   "source": [
    "### 3. $C_6$ coefficients"
   ]
  },
  {
   "cell_type": "markdown",
   "id": "e0434a0a-c204-435d-ab39-8edac17e341c",
   "metadata": {},
   "source": [
    "$$C_6 = \\frac{3\\hbar}{\\pi} \\int_0^\\infty \\bar\\alpha_A(i\\omega)\\bar\\alpha_B(i\\omega)d\\omega$$"
   ]
  },
  {
   "cell_type": "code",
   "execution_count": null,
   "id": "591076d6-1b48-4114-a521-8c7b44e5a551",
   "metadata": {
    "scrolled": true
   },
   "outputs": [],
   "source": [
    "c6_drv = vlx.C6Driver()\n",
    "scf_results = scf_drv.compute(molecule, basis)\n",
    "c6_results = c6_drv.compute(molecule, basis, scf_results)\n",
    "\n",
    "c6 = c6_results[\"c6\"]"
   ]
  },
  {
   "cell_type": "markdown",
   "id": "873b44b2-0639-4b34-8de9-0823c1cb8546",
   "metadata": {},
   "source": [
    "### 4. UV-Vis absorpton"
   ]
  },
  {
   "cell_type": "markdown",
   "id": "f3c06d00-9471-4810-ae4b-98037fcf4f29",
   "metadata": {},
   "source": [
    "Oscillator strengths of electronic transitions\n",
    "$$f_{0n} = \\frac{2}{3}\\omega_{0n}\\sum_{\\alpha=x,y,z}|\\langle 0|\\mu_\\alpha|n\\rangle|^2$$"
   ]
  },
  {
   "cell_type": "code",
   "execution_count": null,
   "id": "594ef49c-92d2-4e97-9945-985ce99287b7",
   "metadata": {
    "scrolled": true
   },
   "outputs": [],
   "source": [
    "lreig_drv = vlx.LinearResponseEigenSolver()\n",
    "lreig_drv.nstates = 4\n",
    "lreig_results = lreig_drv.compute(molecule, basis, scf_results)"
   ]
  },
  {
   "cell_type": "code",
   "execution_count": null,
   "id": "753b3a08-572a-488e-b5b3-bad60d887f45",
   "metadata": {},
   "outputs": [],
   "source": [
    "lreig_drv.plot_uv_vis(lreig_results)"
   ]
  }
 ],
 "metadata": {
  "kernelspec": {
   "display_name": "Python 3 (ipykernel)",
   "language": "python",
   "name": "python3"
  },
  "language_info": {
   "codemirror_mode": {
    "name": "ipython",
    "version": 3
   },
   "file_extension": ".py",
   "mimetype": "text/x-python",
   "name": "python",
   "nbconvert_exporter": "python",
   "pygments_lexer": "ipython3",
   "version": "3.12.11"
  }
 },
 "nbformat": 4,
 "nbformat_minor": 5
}
