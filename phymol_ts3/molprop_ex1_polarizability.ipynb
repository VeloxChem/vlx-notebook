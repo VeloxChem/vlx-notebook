{
 "cells": [
  {
   "cell_type": "markdown",
   "id": "9eae2527-8782-4075-a30c-98a9d4a308e2",
   "metadata": {},
   "source": [
    "## PHYMOL Training School 3, August 2025\n",
    "\n",
    "---\n",
    "# Molecular properties\n",
    "## Exercise 1: Polarizability"
   ]
  },
  {
   "cell_type": "code",
   "execution_count": null,
   "id": "d753620f-368a-408d-9d37-a36ddc93915a",
   "metadata": {},
   "outputs": [],
   "source": [
    "# import veloxchem, numpy"
   ]
  },
  {
   "cell_type": "code",
   "execution_count": null,
   "id": "d0778310-c1f3-4155-8dac-4fe200fa62ac",
   "metadata": {},
   "outputs": [],
   "source": [
    "#  setup molecule and basis"
   ]
  },
  {
   "cell_type": "code",
   "execution_count": null,
   "id": "c073911f-5f5e-473f-ad2c-740952c4e8e1",
   "metadata": {},
   "outputs": [],
   "source": [
    "# solve the SCF ground state"
   ]
  },
  {
   "cell_type": "code",
   "execution_count": null,
   "id": "23f78858-7c19-43bb-a351-45d77a018f19",
   "metadata": {},
   "outputs": [],
   "source": [
    "# get the number of orbitals\n",
    "mo_energy = scf_results[\"E_alpha\"]\n",
    "nocc = molecule.number_of_alpha_electrons()\n",
    "norb = mo_energy.shape[0]\n",
    "nvir = norb - nocc\n",
    "\n",
    "print(\"Number of orbitals:\", len(mo_energy))\n",
    "print(\"Number of occupied orbitals:\", nocc)\n",
    "print(\"Number of virtual orbitals:\", nvir)"
   ]
  },
  {
   "cell_type": "markdown",
   "id": "cc2a752a-f62f-4bd1-8c3c-6ca47fddc5c7",
   "metadata": {},
   "source": [
    "#### 1. Setup a VeloxChem workflow to calculate the electric-dipole polarizability at $\\omega=0.0656$\n"
   ]
  },
  {
   "cell_type": "code",
   "execution_count": null,
   "id": "254d5091-0466-4bd8-bf02-071b281c8f6c",
   "metadata": {
    "scrolled": true
   },
   "outputs": [],
   "source": [
    "# calculate the linear response of electric dipole-electric dipole response function\n"
   ]
  },
  {
   "cell_type": "code",
   "execution_count": null,
   "id": "90491080-dbd5-4c86-b404-dd3998952983",
   "metadata": {},
   "outputs": [],
   "source": [
    "# get the diagonal components of alpha from the output dictionary\n",
    "alpha_xx = ...\n"
   ]
  },
  {
   "cell_type": "markdown",
   "id": "1d846c98-2a48-4a7d-ab1e-ee34e59ee9dd",
   "metadata": {},
   "source": [
    "#### 2. Calculate the polarizability from the RPA by direct matrix inversion and multiplication\n",
    "$$\\boldsymbol{\\alpha}_{\\alpha\\beta} = -\\boldsymbol{\\mu}_{\\alpha}^{[1]^\\dagger} (\\mathbf{E}^{[2]} - \\omega\\mathbf{S}^{[2]})^{-1}\\mathbf{\\mu}_{\\beta}$$\n",
    "\n",
    "**Investigate the dimensions of the different arrays as you go along!**"
   ]
  },
  {
   "cell_type": "code",
   "execution_count": null,
   "id": "2725c6dc-a956-4968-a10b-a2811081703e",
   "metadata": {},
   "outputs": [],
   "source": [
    "# get the E2 matrix from the eigensolver driver\n",
    "lres_drv = vlx.LinearResponseEigenSolver()\n",
    "E2 = lres_drv.get_e2(molecule, basis, scf_results)"
   ]
  },
  {
   "cell_type": "code",
   "execution_count": null,
   "id": "87a2b9c1-d1b9-442d-beba-0ab0ae2e0cdd",
   "metadata": {},
   "outputs": [],
   "source": [
    "# Create the S2 matrix with same dimensions as E2\n",
    "# use the numpy method \"np.identity\"\n"
   ]
  },
  {
   "cell_type": "code",
   "execution_count": null,
   "id": "3b216b1e-0985-45bb-a7b8-0ce6acdd5077",
   "metadata": {},
   "outputs": [],
   "source": [
    "# get property gradient\n",
    "mu_x = lrf_drv.get_prop_grad(\"electric dipole\", \"x\", molecule, basis, scf_results)[0]\n",
    "mu_y = lrf_drv.get_prop_grad(\"electric dipole\", \"y\", molecule, basis, scf_results)[0]\n",
    "mu_z = lrf_drv.get_prop_grad(\"electric dipole\", \"z\", molecule, basis, scf_results)[0]\n",
    "\n",
    "V1x = -mu_x\n",
    "V1y = -mu_y\n",
    "V1z = -mu_z\n"
   ]
  },
  {
   "cell_type": "code",
   "execution_count": null,
   "id": "3aaf7193-1ace-4627-a63e-c7b8251cef34",
   "metadata": {},
   "outputs": [],
   "source": [
    "# calculate the polarizability\n",
    "omega = 0.0656\n"
   ]
  },
  {
   "cell_type": "markdown",
   "id": "9d003d9c-5bd0-4ad0-a70f-7bd25ba483c6",
   "metadata": {},
   "source": [
    "#### 3. Calculate the polarizability from the dipole property gradient and response vectors\n",
    "$$\\boldsymbol{\\alpha}_{\\alpha\\beta} = -\\boldsymbol{\\mu}_{\\alpha}^{[1]^\\dagger}\\mathbf{N_\\beta(\\omega)}$$"
   ]
  },
  {
   "cell_type": "code",
   "execution_count": null,
   "id": "0c9f4959-b1e8-433f-932e-12cd9bd3d598",
   "metadata": {},
   "outputs": [],
   "source": [
    "# get the response vectors from the output dictionary and calculate the polarizability\n"
   ]
  },
  {
   "cell_type": "markdown",
   "id": "85180f7a-2139-4931-a7f0-b9016f137cfc",
   "metadata": {},
   "source": [
    "#### 4. Calculate the dynamic polarizabilities at a range of frequencies around 0.29 a.u."
   ]
  },
  {
   "cell_type": "code",
   "execution_count": null,
   "id": "eba5616b-4c81-4e8b-a144-6a3c938d5843",
   "metadata": {
    "scrolled": true
   },
   "outputs": [],
   "source": [
    "# setup lrf driver with an array of frequencies as input\n"
   ]
  },
  {
   "cell_type": "code",
   "execution_count": null,
   "id": "567a3f13-3db6-43a3-8a91-4f95b932883b",
   "metadata": {},
   "outputs": [],
   "source": [
    "# plot the isotropic averages of the polarizability across the frequency range\n"
   ]
  }
 ],
 "metadata": {
  "kernelspec": {
   "display_name": "Python 3 (ipykernel)",
   "language": "python",
   "name": "python3"
  },
  "language_info": {
   "codemirror_mode": {
    "name": "ipython",
    "version": 3
   },
   "file_extension": ".py",
   "mimetype": "text/x-python",
   "name": "python",
   "nbconvert_exporter": "python",
   "pygments_lexer": "ipython3",
   "version": "3.12.11"
  }
 },
 "nbformat": 4,
 "nbformat_minor": 5
}
