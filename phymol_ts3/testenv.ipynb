{
 "cells": [
  {
   "cell_type": "markdown",
   "id": "b47e46d2-4b47-4e81-87d8-016d4c25210a",
   "metadata": {
    "nbgrader": {
     "grade": false,
     "grade_id": "cell-f9bd977cf0e48b11",
     "locked": true,
     "schema_version": 3,
     "solution": false,
     "task": false
    }
   },
   "source": [
    "# PHYMOL Training School 3: Molecular properties\n",
    "## Installation check\n",
    "#### Josefine H. Andersen"
   ]
  },
  {
   "cell_type": "code",
   "execution_count": null,
   "id": "80bbd9ad-e7ec-415e-bceb-45c3e8bd6ada",
   "metadata": {},
   "outputs": [],
   "source": [
    "# check that you are in the right environent (\"active environment\" should be phymol-ts3)\n",
    "!conda info"
   ]
  },
  {
   "cell_type": "code",
   "execution_count": null,
   "id": "d6730444-3f71-4d5f-b950-ade4eea5b514",
   "metadata": {
    "nbgrader": {
     "grade": true,
     "grade_id": "cell-e5ba11c79e69d2a9",
     "locked": true,
     "points": 100,
     "schema_version": 3,
     "solution": false,
     "task": false
    }
   },
   "outputs": [],
   "source": [
    "try:\n",
    "    import py3Dmol\n",
    "except ModuleNotFoundError:\n",
    "    raise AssertionError(\"py3Dmol not found\")\n",
    "try:\n",
    "    import k3d\n",
    "except ModuleNotFoundError:\n",
    "    raise AssertionError(\"k3d not found\")\n",
    "try: \n",
    "    import matplotlib as plt\n",
    "except ModuleNotFoundError:\n",
    "    raise AssertionError(\"matplotlib not found\")\n",
    "try:\n",
    "    import numpy as np\n",
    "except ModuleNotFoundError:\n",
    "    raise AssertionError(\"numpy not found\")\n",
    "try:\n",
    "    import scipy\n",
    "except ModuleNotFoundError:\n",
    "    raise AssertionError(\"scipy not found\")\n",
    "try:\n",
    "    import veloxchem as vlx\n",
    "except ModuleNotFoundError:\n",
    "    raise AssertionError(\"veloxchem not found\")\n",
    "print(\"Environment check completed without errors!\")"
   ]
  }
 ],
 "metadata": {
  "kernelspec": {
   "display_name": "Python 3 (ipykernel)",
   "language": "python",
   "name": "python3"
  },
  "language_info": {
   "codemirror_mode": {
    "name": "ipython",
    "version": 3
   },
   "file_extension": ".py",
   "mimetype": "text/x-python",
   "name": "python",
   "nbconvert_exporter": "python",
   "pygments_lexer": "ipython3",
   "version": "3.12.9"
  }
 },
 "nbformat": 4,
 "nbformat_minor": 5
}
