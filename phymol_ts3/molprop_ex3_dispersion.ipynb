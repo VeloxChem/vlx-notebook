{
 "cells": [
  {
   "cell_type": "markdown",
   "id": "9eae2527-8782-4075-a30c-98a9d4a308e2",
   "metadata": {},
   "source": [
    "## PHYMOL Training School 3, August 2025\n",
    "\n",
    "---\n",
    "# Molecular properties\n",
    "## Exercise 3: Dispersion correction"
   ]
  },
  {
   "cell_type": "markdown",
   "id": "98b34469-ff67-4c54-843f-3017a4dd6c22",
   "metadata": {},
   "source": [
    "The $C_6$ dispersion coefficient is defined as\n",
    "$$C_6 = \\frac{3\\hbar}{\\pi} \\int_0^\\infty \\bar\\alpha_A(i\\omega)\\bar\\alpha_B(i\\omega)d\\omega$$\n",
    "with the isotropic average\n",
    "$$\\bar{\\alpha}(i\\omega) = \\frac{1}{3}(\\alpha_{xx}(i\\omega) + \\alpha_{yy}(i\\omega) + \\alpha_{zz}(i\\omega))$$\n",
    "The *A* and *B* subscripts refer to molecule A and molecule B.\n",
    "\n",
    "In practice, the integral is not evaluated analytically. Instead, a numerical integration scheme is adopted. In VeloxChem, we approximate the integral with Gauss-Legendre quadrature:\n",
    "\n",
    "$$\\int_0^\\infty \\bar\\alpha_A(i\\omega)\\bar\\alpha_B(i\\omega)d\\omega \\approx \\sum_k^{n}w_k\\alpha_A(i\\omega_k)\\alpha_B(i\\omega_k)\\frac{d\\omega}{dt_k}$$\n",
    "where *n* is the number of sample points we choose to use in the numerical integration and $w_k$ are quadrature weights assigned to each sample point.\n",
    "\n",
    "We substitute the frequencies:\n",
    "$$i\\omega_k = i\\omega_0\\frac{1-t}{1+t}$$\n",
    "and the derivative:\n",
    "$$d\\omega = -\\frac{2\\omega_0dt}{(1+t)^2} \\rightarrow \\frac{d\\omega}{dt} = -\\frac{2\\omega_0}{(1+t)^2}$$\n",
    "where *t* is a sample point and $\\omega_0$ is a \"transformation factor\". In VeloxChem, the default value of $\\omega_0$ is 0.3."
   ]
  },
  {
   "cell_type": "code",
   "execution_count": null,
   "id": "f3dc4062-5e2d-43bd-8460-fbf9456b2789",
   "metadata": {},
   "outputs": [],
   "source": [
    "import numpy as np\n",
    "import veloxchem as vlx"
   ]
  },
  {
   "cell_type": "markdown",
   "id": "a429402b-41e4-4f2b-a9fc-9bc19abbb754",
   "metadata": {},
   "source": [
    "#### 1. Setup and run the calculation of C6 with VeloxChem (see section 3 in `molprop_demo.ipynb`)"
   ]
  },
  {
   "cell_type": "code",
   "execution_count": null,
   "id": "5373fcaa-b379-46ad-b875-acda1c9c0f72",
   "metadata": {},
   "outputs": [],
   "source": []
  },
  {
   "cell_type": "code",
   "execution_count": null,
   "id": "4e67113f-bd9d-495b-9a0a-2ca0ccde1b78",
   "metadata": {},
   "outputs": [],
   "source": []
  },
  {
   "cell_type": "code",
   "execution_count": null,
   "id": "7c993cf7-42ed-4439-b73d-6ff5ef27bc0b",
   "metadata": {
    "scrolled": true
   },
   "outputs": [],
   "source": []
  },
  {
   "cell_type": "code",
   "execution_count": null,
   "id": "cd9fe84b-3024-4284-849f-77f9bee33c1e",
   "metadata": {},
   "outputs": [],
   "source": []
  },
  {
   "cell_type": "markdown",
   "id": "2b1c9a57-71aa-4498-b272-4569c9609571",
   "metadata": {},
   "source": [
    "#### 2. Manually calculate the C6 coefficient\n",
    "Get the points and weight from\n",
    "```\n",
    "points, weights = np.polynomial.legendre.leggauss(n_points)\n",
    "```\n",
    "and calculate the imaginary frequencies. In our implementation, system *A* and *B* are the same. You get the linear response functions for the imaginary frequencies from the `c6_results` dictionary (you need the `.real` parts).\n",
    "\n",
    "Compare your results to the result from VeloxChem (you should get the same)"
   ]
  },
  {
   "cell_type": "code",
   "execution_count": null,
   "id": "66103e06-e94e-4b02-95ae-57447706549e",
   "metadata": {},
   "outputs": [],
   "source": [
    "# for n_points = 9 and w0 = 0.3\n"
   ]
  },
  {
   "cell_type": "code",
   "execution_count": null,
   "id": "d824f545-18e0-4e0a-9e23-b56fe97558eb",
   "metadata": {},
   "outputs": [],
   "source": []
  },
  {
   "cell_type": "code",
   "execution_count": null,
   "id": "aa2e6932-f53e-4160-a080-3562a84db392",
   "metadata": {},
   "outputs": [],
   "source": []
  }
 ],
 "metadata": {
  "kernelspec": {
   "display_name": "Python 3 (ipykernel)",
   "language": "python",
   "name": "python3"
  },
  "language_info": {
   "codemirror_mode": {
    "name": "ipython",
    "version": 3
   },
   "file_extension": ".py",
   "mimetype": "text/x-python",
   "name": "python",
   "nbconvert_exporter": "python",
   "pygments_lexer": "ipython3",
   "version": "3.12.11"
  }
 },
 "nbformat": 4,
 "nbformat_minor": 5
}
