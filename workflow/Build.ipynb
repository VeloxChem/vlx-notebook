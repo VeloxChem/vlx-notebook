{
 "cells": [
  {
   "cell_type": "markdown",
   "metadata": {},
   "source": [
    "# Build"
   ]
  },
  {
   "cell_type": "markdown",
   "metadata": {},
   "source": [
    "## Building a molecule object"
   ]
  },
  {
   "cell_type": "markdown",
   "metadata": {},
   "source": [
    "There is several ways to build a molecule object within VeloxChem using for instance a smile string, directly from an xyz or pdb file or by providing and xyz string. This is explicited below with few examples. The 3D structure of the molecular object can be visualized with the show function, and the atom indices can be shown optionally. "
   ]
  },
  {
   "cell_type": "code",
   "execution_count": null,
   "metadata": {},
   "outputs": [],
   "source": [
    "import veloxchem as vlx"
   ]
  },
  {
   "cell_type": "code",
   "execution_count": null,
   "metadata": {},
   "outputs": [],
   "source": [
    "molecule = vlx.Molecule.read_smiles(\"NC(C(=O)O)Cc1ccccc1\")\n",
    "molecule.show()"
   ]
  },
  {
   "cell_type": "code",
   "execution_count": null,
   "metadata": {},
   "outputs": [],
   "source": [
    "molecule = vlx.Molecule.read_xyz_file(\"data/phenylalanine.xyz\")\n",
    "molecule.show(atom_indices=True)\n",
    "protein = vlx.Molecule.read_pdb_file(\"data/15-alanine.pdb\")\n",
    "protein.show() "
   ]
  },
  {
   "cell_type": "code",
   "execution_count": null,
   "metadata": {},
   "outputs": [],
   "source": [
    "xyz = \"\"\"\n",
    "23\n",
    "\n",
    "N              0.678167338680        -1.997791857340         0.029403057502\n",
    "C              1.120597191135        -0.730320097968        -0.508473149896\n",
    "C              0.652280243390         0.552468092346         0.259283860451\n",
    "C             -0.850685788150         0.679802637512         0.323310852876\n",
    "C             -1.567336668709         1.267771315499        -0.733184248330\n",
    "C             -2.961384045559         1.347499234497        -0.699795649698\n",
    "C             -3.668870879165         0.837133351584         0.393849691494\n",
    "C             -2.970704926424         0.250614453270         1.452497323155\n",
    "C             -1.574446262603         0.173715808847         1.416023702871\n",
    "C              2.641516623286        -0.723175264653        -0.529133145541\n",
    "O              3.134789941368         0.080579442836        -1.490586043130\n",
    "O              3.342055012596        -1.314665237319         0.254101787774\n",
    "H             -0.319387029289        -1.980390284637         0.233534937792\n",
    "H              1.183244511125        -2.205942327942         0.891430387381\n",
    "H              0.773214581204        -0.632122980817        -1.551010232421\n",
    "H              1.083972012370         1.433740196118        -0.242024769499\n",
    "H              1.074681219478         0.511818795671         1.277090748873\n",
    "H             -1.022927502994         1.673652139096        -1.591180310895\n",
    "H             -3.498607155285         1.813812179126        -1.529858703924\n",
    "H             -4.759539700701         0.901425925094         0.422108155162\n",
    "H             -3.513757304330        -0.144752122802         2.314967310044\n",
    "H             -1.035573239018        -0.275248755786         2.255291905779\n",
    "H              4.103291663570         0.071848449167        -1.396006376357\n",
    "\"\"\"\n",
    "\n",
    "molecule = vlx.Molecule.read_xyz_string(xyz)\n",
    "molecule.show(atom_indices=True)"
   ]
  },
  {
   "cell_type": "markdown",
   "metadata": {},
   "source": [
    "Basic modification of the molecule object can be performed such as setting the total charge, mulptiplicity or modifying values of dihedral angles. The latter functionality offers a convenient way to alter conformers. It is recommended to always do a visual inspection of the molecule before starting further calculations."
   ]
  },
  {
   "cell_type": "code",
   "execution_count": null,
   "metadata": {},
   "outputs": [],
   "source": [
    "molecule.set_charge(0)\n",
    "molecule.set_multiplicity(1)\n",
    "molecule.set_dihedral_in_degrees([4, 3, 2, 10], 60)\n",
    "molecule.show(atom_indices=True)"
   ]
  }
 ],
 "metadata": {
  "kernelspec": {
   "display_name": "vlx-github",
   "language": "python",
   "name": "python3"
  },
  "language_info": {
   "codemirror_mode": {
    "name": "ipython",
    "version": 3
   },
   "file_extension": ".py",
   "mimetype": "text/x-python",
   "name": "python",
   "nbconvert_exporter": "python",
   "pygments_lexer": "ipython3",
   "version": "3.12.8"
  }
 },
 "nbformat": 4,
 "nbformat_minor": 2
}
