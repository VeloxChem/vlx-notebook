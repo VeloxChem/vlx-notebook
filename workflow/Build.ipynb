{
 "cells": [
  {
   "cell_type": "markdown",
   "metadata": {},
   "source": [
    "# Build"
   ]
  },
  {
   "cell_type": "markdown",
   "metadata": {},
   "source": [
    "## Building a molecule object"
   ]
  },
  {
   "cell_type": "markdown",
   "metadata": {},
   "source": [
    "There is several ways to build a molecule object within VeloxChem using for instance a smile string, directly from an xyz or pdb file or by providing and xyz string. This is explicited below with few examples. The 3D structure of the molecular object can be visualized with the show function, and the atom indices can be shown optionally. "
   ]
  },
  {
   "cell_type": "code",
   "execution_count": null,
   "metadata": {},
   "outputs": [],
   "source": [
    "import veloxchem as vlx"
   ]
  },
  {
   "cell_type": "code",
   "execution_count": null,
   "metadata": {},
   "outputs": [],
   "source": [
    "molecule = vlx.Molecule.read_smiles(\"NC(C(=O)O)Cc1ccccc1\")\n",
    "molecule.show()"
   ]
  },
  {
   "cell_type": "code",
   "execution_count": null,
   "metadata": {},
   "outputs": [],
   "source": [
    "molecule = vlx.Molecule.read_xyz_file(\"data/phenylalanine.xyz\")\n",
    "molecule.show(atom_indices=True)\n",
    "protein = vlx.Molecule.read_pdb_file(\"data/15-alanine.pdb\")\n",
    "protein.show() "
   ]
  },
  {
   "cell_type": "code",
   "execution_count": null,
   "metadata": {},
   "outputs": [],
   "source": [
    "xyz = \"\"\"\n",
    "23\n",
    "\n",
    "N     0.67817   -1.99779    0.02940\n",
    "C     1.12060   -0.73032   -0.50847\n",
    "C     0.65228    0.55247    0.25928\n",
    "C    -0.85069    0.67980    0.32331\n",
    "C    -1.56734    1.26777   -0.73318\n",
    "C    -2.96138    1.34750   -0.69980\n",
    "C    -3.66887    0.83713    0.39385\n",
    "C    -2.97070    0.25061    1.45250\n",
    "C    -1.57445    0.17372    1.41602\n",
    "C     2.64152   -0.72318   -0.52913\n",
    "O     3.13479    0.08058   -1.49059\n",
    "O     3.34206   -1.31467    0.25410\n",
    "H    -0.31939   -1.98039    0.23353\n",
    "H     1.18324   -2.20594    0.89143\n",
    "H     0.77321   -0.63212   -1.55101\n",
    "H     1.08397    1.43374   -0.24202\n",
    "H     1.07468    0.51182    1.27709\n",
    "H    -1.02293    1.67365   -1.59118\n",
    "H    -3.49861    1.81381   -1.52986\n",
    "H    -4.75954    0.90143    0.42211\n",
    "H    -3.51376   -0.14475    2.31497\n",
    "H    -1.03557   -0.27525    2.25529\n",
    "H     4.10329    0.07185   -1.39601\n",
    "\"\"\"\n",
    "\n",
    "molecule = vlx.Molecule.read_xyz_string(xyz)\n",
    "molecule.show(atom_indices=True)"
   ]
  },
  {
   "cell_type": "markdown",
   "metadata": {},
   "source": [
    "Basic modification of the molecule object can be performed such as setting the total charge, mulptiplicity or modifying values of dihedral angles. The latter functionality offers a convenient way to alter conformers. It is recommended to always do a visual inspection of the molecule before starting further calculations."
   ]
  },
  {
   "cell_type": "code",
   "execution_count": null,
   "metadata": {},
   "outputs": [],
   "source": [
    "molecule.set_charge(0)\n",
    "molecule.set_multiplicity(1)\n",
    "molecule.set_dihedral_in_degrees([4, 3, 2, 10], 60)\n",
    "molecule.show(atom_indices=True)"
   ]
  }
 ],
 "metadata": {
  "kernelspec": {
   "display_name": "vlx-github",
   "language": "python",
   "name": "python3"
  },
  "language_info": {
   "codemirror_mode": {
    "name": "ipython",
    "version": 3
   },
   "file_extension": ".py",
   "mimetype": "text/x-python",
   "name": "python",
   "nbconvert_exporter": "python",
   "pygments_lexer": "ipython3",
   "version": "3.12.8"
  }
 },
 "nbformat": 4,
 "nbformat_minor": 2
}
