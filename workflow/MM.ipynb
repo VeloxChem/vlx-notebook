{
 "cells": [
  {
   "cell_type": "markdown",
   "metadata": {},
   "source": [
    "# Molecular Mechanics Force Field"
   ]
  },
  {
   "cell_type": "markdown",
   "metadata": {},
   "source": [
    "There is several ways to build a molecule object within VeloxChem using for instance a smile string, directly from an xyz or pdb file or by providing and xyz string. This is explicited below with few examples. The 3D structure of the molecular object can be visualized with the show function, and the atom indices can be shown optionally. "
   ]
  },
  {
   "cell_type": "code",
   "execution_count": 1,
   "metadata": {},
   "outputs": [],
   "source": [
    "import veloxchem as vlx"
   ]
  },
  {
   "cell_type": "code",
   "execution_count": 4,
   "metadata": {},
   "outputs": [
    {
     "data": {
      "application/3dmoljs_load.v0": "<div id=\"3dmolviewer_17417729207327251\"  style=\"position: relative; width: 400px; height: 300px;\">\n        <p id=\"3dmolwarning_17417729207327251\" style=\"background-color:#ffcccc;color:black\">3Dmol.js failed to load for some reason.  Please check your browser console for error messages.<br></p>\n        </div>\n<script>\n\nvar loadScriptAsync = function(uri){\n  return new Promise((resolve, reject) => {\n    //this is to ignore the existence of requirejs amd\n    var savedexports, savedmodule;\n    if (typeof exports !== 'undefined') savedexports = exports;\n    else exports = {}\n    if (typeof module !== 'undefined') savedmodule = module;\n    else module = {}\n\n    var tag = document.createElement('script');\n    tag.src = uri;\n    tag.async = true;\n    tag.onload = () => {\n        exports = savedexports;\n        module = savedmodule;\n        resolve();\n    };\n  var firstScriptTag = document.getElementsByTagName('script')[0];\n  firstScriptTag.parentNode.insertBefore(tag, firstScriptTag);\n});\n};\n\nif(typeof $3Dmolpromise === 'undefined') {\n$3Dmolpromise = null;\n  $3Dmolpromise = loadScriptAsync('https://cdnjs.cloudflare.com/ajax/libs/3Dmol/2.4.2/3Dmol-min.js');\n}\n\nvar viewer_17417729207327251 = null;\nvar warn = document.getElementById(\"3dmolwarning_17417729207327251\");\nif(warn) {\n    warn.parentNode.removeChild(warn);\n}\n$3Dmolpromise.then(function() {\nviewer_17417729207327251 = $3Dmol.createViewer(document.getElementById(\"3dmolviewer_17417729207327251\"),{backgroundColor:\"white\"});\nviewer_17417729207327251.zoomTo();\n\tviewer_17417729207327251.addModel(\"23\\n\\nN              0.699113000000        -2.454938000000        -0.356294000000\\nC              1.851407000000        -1.612282000000        -0.690414000000\\nC              1.772314000000        -1.094632000000        -2.105420000000\\nO              2.829312000000        -0.937309000000        -2.773309000000\\nO              0.545977000000        -0.741912000000        -2.662805000000\\nC              2.019115000000        -0.469653000000         0.331675000000\\nC              0.858224000000         0.496674000000         0.353539000000\\nC             -0.234368000000         0.276180000000         1.209732000000\\nC             -1.315147000000         1.163352000000         1.216449000000\\nC             -1.313839000000         2.275591000000         0.370452000000\\nC             -0.231348000000         2.502928000000        -0.483507000000\\nC              0.851610000000         1.618553000000        -0.493184000000\\nH              0.701499000000        -3.286791000000        -0.990853000000\\nH             -0.190455000000        -1.935462000000        -0.535633000000\\nH              2.763217000000        -2.246584000000        -0.613899000000\\nH              0.489891000000        -0.372218000000        -3.604136000000\\nH              2.153747000000        -0.910347000000         1.343981000000\\nH              2.958298000000         0.083466000000         0.108657000000\\nH             -0.250260000000        -0.583827000000         1.867741000000\\nH             -2.154520000000         0.987709000000         1.876791000000\\nH             -2.151582000000         2.960856000000         0.376327000000\\nH             -0.231738000000         3.364145000000        -1.139052000000\\nH              1.682430000000         1.805264000000        -1.162311000000\\n\");\n\tviewer_17417729207327251.setViewStyle({\"style\": \"outline\", \"width\": 0.05});\n\tviewer_17417729207327251.setStyle({\"stick\": {}, \"sphere\": {\"scale\": 0.25}});\n\tviewer_17417729207327251.zoomTo();\nviewer_17417729207327251.render();\n});\n</script>",
      "text/html": [
       "<div id=\"3dmolviewer_17417729207327251\"  style=\"position: relative; width: 400px; height: 300px;\">\n",
       "        <p id=\"3dmolwarning_17417729207327251\" style=\"background-color:#ffcccc;color:black\">3Dmol.js failed to load for some reason.  Please check your browser console for error messages.<br></p>\n",
       "        </div>\n",
       "<script>\n",
       "\n",
       "var loadScriptAsync = function(uri){\n",
       "  return new Promise((resolve, reject) => {\n",
       "    //this is to ignore the existence of requirejs amd\n",
       "    var savedexports, savedmodule;\n",
       "    if (typeof exports !== 'undefined') savedexports = exports;\n",
       "    else exports = {}\n",
       "    if (typeof module !== 'undefined') savedmodule = module;\n",
       "    else module = {}\n",
       "\n",
       "    var tag = document.createElement('script');\n",
       "    tag.src = uri;\n",
       "    tag.async = true;\n",
       "    tag.onload = () => {\n",
       "        exports = savedexports;\n",
       "        module = savedmodule;\n",
       "        resolve();\n",
       "    };\n",
       "  var firstScriptTag = document.getElementsByTagName('script')[0];\n",
       "  firstScriptTag.parentNode.insertBefore(tag, firstScriptTag);\n",
       "});\n",
       "};\n",
       "\n",
       "if(typeof $3Dmolpromise === 'undefined') {\n",
       "$3Dmolpromise = null;\n",
       "  $3Dmolpromise = loadScriptAsync('https://cdnjs.cloudflare.com/ajax/libs/3Dmol/2.4.2/3Dmol-min.js');\n",
       "}\n",
       "\n",
       "var viewer_17417729207327251 = null;\n",
       "var warn = document.getElementById(\"3dmolwarning_17417729207327251\");\n",
       "if(warn) {\n",
       "    warn.parentNode.removeChild(warn);\n",
       "}\n",
       "$3Dmolpromise.then(function() {\n",
       "viewer_17417729207327251 = $3Dmol.createViewer(document.getElementById(\"3dmolviewer_17417729207327251\"),{backgroundColor:\"white\"});\n",
       "viewer_17417729207327251.zoomTo();\n",
       "\tviewer_17417729207327251.addModel(\"23\\n\\nN              0.699113000000        -2.454938000000        -0.356294000000\\nC              1.851407000000        -1.612282000000        -0.690414000000\\nC              1.772314000000        -1.094632000000        -2.105420000000\\nO              2.829312000000        -0.937309000000        -2.773309000000\\nO              0.545977000000        -0.741912000000        -2.662805000000\\nC              2.019115000000        -0.469653000000         0.331675000000\\nC              0.858224000000         0.496674000000         0.353539000000\\nC             -0.234368000000         0.276180000000         1.209732000000\\nC             -1.315147000000         1.163352000000         1.216449000000\\nC             -1.313839000000         2.275591000000         0.370452000000\\nC             -0.231348000000         2.502928000000        -0.483507000000\\nC              0.851610000000         1.618553000000        -0.493184000000\\nH              0.701499000000        -3.286791000000        -0.990853000000\\nH             -0.190455000000        -1.935462000000        -0.535633000000\\nH              2.763217000000        -2.246584000000        -0.613899000000\\nH              0.489891000000        -0.372218000000        -3.604136000000\\nH              2.153747000000        -0.910347000000         1.343981000000\\nH              2.958298000000         0.083466000000         0.108657000000\\nH             -0.250260000000        -0.583827000000         1.867741000000\\nH             -2.154520000000         0.987709000000         1.876791000000\\nH             -2.151582000000         2.960856000000         0.376327000000\\nH             -0.231738000000         3.364145000000        -1.139052000000\\nH              1.682430000000         1.805264000000        -1.162311000000\\n\");\n",
       "\tviewer_17417729207327251.setViewStyle({\"style\": \"outline\", \"width\": 0.05});\n",
       "\tviewer_17417729207327251.setStyle({\"stick\": {}, \"sphere\": {\"scale\": 0.25}});\n",
       "\tviewer_17417729207327251.zoomTo();\n",
       "viewer_17417729207327251.render();\n",
       "});\n",
       "</script>"
      ]
     },
     "metadata": {},
     "output_type": "display_data"
    }
   ],
   "source": [
    "molecule = vlx.Molecule.read_smiles(\"NC(C(=O)O)Cc1ccccc1\")\n",
    "molecule.show()"
   ]
  },
  {
   "cell_type": "code",
   "execution_count": 13,
   "metadata": {},
   "outputs": [
    {
     "data": {
      "application/3dmoljs_load.v0": "<div id=\"3dmolviewer_17417733782071323\"  style=\"position: relative; width: 400px; height: 300px;\">\n        <p id=\"3dmolwarning_17417733782071323\" style=\"background-color:#ffcccc;color:black\">3Dmol.js failed to load for some reason.  Please check your browser console for error messages.<br></p>\n        </div>\n<script>\n\nvar loadScriptAsync = function(uri){\n  return new Promise((resolve, reject) => {\n    //this is to ignore the existence of requirejs amd\n    var savedexports, savedmodule;\n    if (typeof exports !== 'undefined') savedexports = exports;\n    else exports = {}\n    if (typeof module !== 'undefined') savedmodule = module;\n    else module = {}\n\n    var tag = document.createElement('script');\n    tag.src = uri;\n    tag.async = true;\n    tag.onload = () => {\n        exports = savedexports;\n        module = savedmodule;\n        resolve();\n    };\n  var firstScriptTag = document.getElementsByTagName('script')[0];\n  firstScriptTag.parentNode.insertBefore(tag, firstScriptTag);\n});\n};\n\nif(typeof $3Dmolpromise === 'undefined') {\n$3Dmolpromise = null;\n  $3Dmolpromise = loadScriptAsync('https://cdnjs.cloudflare.com/ajax/libs/3Dmol/2.4.2/3Dmol-min.js');\n}\n\nvar viewer_17417733782071323 = null;\nvar warn = document.getElementById(\"3dmolwarning_17417733782071323\");\nif(warn) {\n    warn.parentNode.removeChild(warn);\n}\n$3Dmolpromise.then(function() {\nviewer_17417733782071323 = $3Dmol.createViewer(document.getElementById(\"3dmolviewer_17417733782071323\"),{backgroundColor:\"white\"});\nviewer_17417733782071323.zoomTo();\n\tviewer_17417733782071323.addModel(\"23\\n\\nN              0.678167338680        -1.997791857340         0.029403057502\\nC              1.120597191135        -0.730320097968        -0.508473149896\\nC              0.652280243390         0.552468092346         0.259283860451\\nC             -0.850685788150         0.679802637512         0.323310852876\\nC             -1.567336668709         1.267771315499        -0.733184248330\\nC             -2.961384045559         1.347499234497        -0.699795649698\\nC             -3.668870879165         0.837133351584         0.393849691494\\nC             -2.970704926424         0.250614453270         1.452497323155\\nC             -1.574446262603         0.173715808847         1.416023702871\\nC              2.641516623286        -0.723175264653        -0.529133145541\\nO              3.134789941368         0.080579442836        -1.490586043130\\nO              3.342055012596        -1.314665237319         0.254101787774\\nH             -0.319387029289        -1.980390284637         0.233534937792\\nH              1.183244511125        -2.205942327942         0.891430387381\\nH              0.773214581204        -0.632122980817        -1.551010232421\\nH              1.083972012370         1.433740196118        -0.242024769499\\nH              1.074681219478         0.511818795671         1.277090748873\\nH             -1.022927502994         1.673652139096        -1.591180310895\\nH             -3.498607155285         1.813812179126        -1.529858703924\\nH             -4.759539700701         0.901425925094         0.422108155162\\nH             -3.513757304330        -0.144752122802         2.314967310044\\nH             -1.035573239018        -0.275248755786         2.255291905779\\nH              4.103291663570         0.071848449167        -1.396006376357\\n\");\n\tviewer_17417733782071323.setViewStyle({\"style\": \"outline\", \"width\": 0.05});\n\tviewer_17417733782071323.setStyle({\"stick\": {}, \"sphere\": {\"scale\": 0.25}});\n\tviewer_17417733782071323.addLabel(\"1\",{\"position\": {\"x\": 0.67816733868, \"y\": -1.99779185734, \"z\": 0.029403057501999997}, \"alignment\": \"center\", \"fontColor\": 0, \"backgroundColor\": 16777215, \"backgroundOpacity\": 0.0});\n\tviewer_17417733782071323.addLabel(\"2\",{\"position\": {\"x\": 1.120597191135, \"y\": -0.730320097968, \"z\": -0.508473149896}, \"alignment\": \"center\", \"fontColor\": 0, \"backgroundColor\": 16777215, \"backgroundOpacity\": 0.0});\n\tviewer_17417733782071323.addLabel(\"3\",{\"position\": {\"x\": 0.6522802433899999, \"y\": 0.552468092346, \"z\": 0.259283860451}, \"alignment\": \"center\", \"fontColor\": 0, \"backgroundColor\": 16777215, \"backgroundOpacity\": 0.0});\n\tviewer_17417733782071323.addLabel(\"4\",{\"position\": {\"x\": -0.85068578815, \"y\": 0.679802637512, \"z\": 0.323310852876}, \"alignment\": \"center\", \"fontColor\": 0, \"backgroundColor\": 16777215, \"backgroundOpacity\": 0.0});\n\tviewer_17417733782071323.addLabel(\"5\",{\"position\": {\"x\": -1.567336668709, \"y\": 1.267771315499, \"z\": -0.73318424833}, \"alignment\": \"center\", \"fontColor\": 0, \"backgroundColor\": 16777215, \"backgroundOpacity\": 0.0});\n\tviewer_17417733782071323.addLabel(\"6\",{\"position\": {\"x\": -2.961384045559, \"y\": 1.3474992344969998, \"z\": -0.699795649698}, \"alignment\": \"center\", \"fontColor\": 0, \"backgroundColor\": 16777215, \"backgroundOpacity\": 0.0});\n\tviewer_17417733782071323.addLabel(\"7\",{\"position\": {\"x\": -3.668870879165, \"y\": 0.837133351584, \"z\": 0.393849691494}, \"alignment\": \"center\", \"fontColor\": 0, \"backgroundColor\": 16777215, \"backgroundOpacity\": 0.0});\n\tviewer_17417733782071323.addLabel(\"8\",{\"position\": {\"x\": -2.970704926424, \"y\": 0.25061445327, \"z\": 1.452497323155}, \"alignment\": \"center\", \"fontColor\": 0, \"backgroundColor\": 16777215, \"backgroundOpacity\": 0.0});\n\tviewer_17417733782071323.addLabel(\"9\",{\"position\": {\"x\": -1.574446262603, \"y\": 0.173715808847, \"z\": 1.416023702871}, \"alignment\": \"center\", \"fontColor\": 0, \"backgroundColor\": 16777215, \"backgroundOpacity\": 0.0});\n\tviewer_17417733782071323.addLabel(\"10\",{\"position\": {\"x\": 2.641516623286, \"y\": -0.723175264653, \"z\": -0.529133145541}, \"alignment\": \"center\", \"fontColor\": 0, \"backgroundColor\": 16777215, \"backgroundOpacity\": 0.0});\n\tviewer_17417733782071323.addLabel(\"11\",{\"position\": {\"x\": 3.134789941368, \"y\": 0.080579442836, \"z\": -1.4905860431299998}, \"alignment\": \"center\", \"fontColor\": 0, \"backgroundColor\": 16777215, \"backgroundOpacity\": 0.0});\n\tviewer_17417733782071323.addLabel(\"12\",{\"position\": {\"x\": 3.342055012596, \"y\": -1.314665237319, \"z\": 0.254101787774}, \"alignment\": \"center\", \"fontColor\": 0, \"backgroundColor\": 16777215, \"backgroundOpacity\": 0.0});\n\tviewer_17417733782071323.addLabel(\"13\",{\"position\": {\"x\": -0.319387029289, \"y\": -1.9803902846369998, \"z\": 0.233534937792}, \"alignment\": \"center\", \"fontColor\": 0, \"backgroundColor\": 16777215, \"backgroundOpacity\": 0.0});\n\tviewer_17417733782071323.addLabel(\"14\",{\"position\": {\"x\": 1.183244511125, \"y\": -2.205942327942, \"z\": 0.891430387381}, \"alignment\": \"center\", \"fontColor\": 0, \"backgroundColor\": 16777215, \"backgroundOpacity\": 0.0});\n\tviewer_17417733782071323.addLabel(\"15\",{\"position\": {\"x\": 0.773214581204, \"y\": -0.632122980817, \"z\": -1.551010232421}, \"alignment\": \"center\", \"fontColor\": 0, \"backgroundColor\": 16777215, \"backgroundOpacity\": 0.0});\n\tviewer_17417733782071323.addLabel(\"16\",{\"position\": {\"x\": 1.0839720123699998, \"y\": 1.433740196118, \"z\": -0.242024769499}, \"alignment\": \"center\", \"fontColor\": 0, \"backgroundColor\": 16777215, \"backgroundOpacity\": 0.0});\n\tviewer_17417733782071323.addLabel(\"17\",{\"position\": {\"x\": 1.074681219478, \"y\": 0.511818795671, \"z\": 1.2770907488729997}, \"alignment\": \"center\", \"fontColor\": 0, \"backgroundColor\": 16777215, \"backgroundOpacity\": 0.0});\n\tviewer_17417733782071323.addLabel(\"18\",{\"position\": {\"x\": -1.022927502994, \"y\": 1.673652139096, \"z\": -1.591180310895}, \"alignment\": \"center\", \"fontColor\": 0, \"backgroundColor\": 16777215, \"backgroundOpacity\": 0.0});\n\tviewer_17417733782071323.addLabel(\"19\",{\"position\": {\"x\": -3.498607155285, \"y\": 1.8138121791259998, \"z\": -1.529858703924}, \"alignment\": \"center\", \"fontColor\": 0, \"backgroundColor\": 16777215, \"backgroundOpacity\": 0.0});\n\tviewer_17417733782071323.addLabel(\"20\",{\"position\": {\"x\": -4.759539700701, \"y\": 0.901425925094, \"z\": 0.42210815516199995}, \"alignment\": \"center\", \"fontColor\": 0, \"backgroundColor\": 16777215, \"backgroundOpacity\": 0.0});\n\tviewer_17417733782071323.addLabel(\"21\",{\"position\": {\"x\": -3.51375730433, \"y\": -0.144752122802, \"z\": 2.314967310044}, \"alignment\": \"center\", \"fontColor\": 0, \"backgroundColor\": 16777215, \"backgroundOpacity\": 0.0});\n\tviewer_17417733782071323.addLabel(\"22\",{\"position\": {\"x\": -1.035573239018, \"y\": -0.275248755786, \"z\": 2.255291905779}, \"alignment\": \"center\", \"fontColor\": 0, \"backgroundColor\": 16777215, \"backgroundOpacity\": 0.0});\n\tviewer_17417733782071323.addLabel(\"23\",{\"position\": {\"x\": 4.10329166357, \"y\": 0.071848449167, \"z\": -1.396006376357}, \"alignment\": \"center\", \"fontColor\": 0, \"backgroundColor\": 16777215, \"backgroundOpacity\": 0.0});\n\tviewer_17417733782071323.zoomTo();\nviewer_17417733782071323.render();\n});\n</script>",
      "text/html": [
       "<div id=\"3dmolviewer_17417733782071323\"  style=\"position: relative; width: 400px; height: 300px;\">\n",
       "        <p id=\"3dmolwarning_17417733782071323\" style=\"background-color:#ffcccc;color:black\">3Dmol.js failed to load for some reason.  Please check your browser console for error messages.<br></p>\n",
       "        </div>\n",
       "<script>\n",
       "\n",
       "var loadScriptAsync = function(uri){\n",
       "  return new Promise((resolve, reject) => {\n",
       "    //this is to ignore the existence of requirejs amd\n",
       "    var savedexports, savedmodule;\n",
       "    if (typeof exports !== 'undefined') savedexports = exports;\n",
       "    else exports = {}\n",
       "    if (typeof module !== 'undefined') savedmodule = module;\n",
       "    else module = {}\n",
       "\n",
       "    var tag = document.createElement('script');\n",
       "    tag.src = uri;\n",
       "    tag.async = true;\n",
       "    tag.onload = () => {\n",
       "        exports = savedexports;\n",
       "        module = savedmodule;\n",
       "        resolve();\n",
       "    };\n",
       "  var firstScriptTag = document.getElementsByTagName('script')[0];\n",
       "  firstScriptTag.parentNode.insertBefore(tag, firstScriptTag);\n",
       "});\n",
       "};\n",
       "\n",
       "if(typeof $3Dmolpromise === 'undefined') {\n",
       "$3Dmolpromise = null;\n",
       "  $3Dmolpromise = loadScriptAsync('https://cdnjs.cloudflare.com/ajax/libs/3Dmol/2.4.2/3Dmol-min.js');\n",
       "}\n",
       "\n",
       "var viewer_17417733782071323 = null;\n",
       "var warn = document.getElementById(\"3dmolwarning_17417733782071323\");\n",
       "if(warn) {\n",
       "    warn.parentNode.removeChild(warn);\n",
       "}\n",
       "$3Dmolpromise.then(function() {\n",
       "viewer_17417733782071323 = $3Dmol.createViewer(document.getElementById(\"3dmolviewer_17417733782071323\"),{backgroundColor:\"white\"});\n",
       "viewer_17417733782071323.zoomTo();\n",
       "\tviewer_17417733782071323.addModel(\"23\\n\\nN              0.678167338680        -1.997791857340         0.029403057502\\nC              1.120597191135        -0.730320097968        -0.508473149896\\nC              0.652280243390         0.552468092346         0.259283860451\\nC             -0.850685788150         0.679802637512         0.323310852876\\nC             -1.567336668709         1.267771315499        -0.733184248330\\nC             -2.961384045559         1.347499234497        -0.699795649698\\nC             -3.668870879165         0.837133351584         0.393849691494\\nC             -2.970704926424         0.250614453270         1.452497323155\\nC             -1.574446262603         0.173715808847         1.416023702871\\nC              2.641516623286        -0.723175264653        -0.529133145541\\nO              3.134789941368         0.080579442836        -1.490586043130\\nO              3.342055012596        -1.314665237319         0.254101787774\\nH             -0.319387029289        -1.980390284637         0.233534937792\\nH              1.183244511125        -2.205942327942         0.891430387381\\nH              0.773214581204        -0.632122980817        -1.551010232421\\nH              1.083972012370         1.433740196118        -0.242024769499\\nH              1.074681219478         0.511818795671         1.277090748873\\nH             -1.022927502994         1.673652139096        -1.591180310895\\nH             -3.498607155285         1.813812179126        -1.529858703924\\nH             -4.759539700701         0.901425925094         0.422108155162\\nH             -3.513757304330        -0.144752122802         2.314967310044\\nH             -1.035573239018        -0.275248755786         2.255291905779\\nH              4.103291663570         0.071848449167        -1.396006376357\\n\");\n",
       "\tviewer_17417733782071323.setViewStyle({\"style\": \"outline\", \"width\": 0.05});\n",
       "\tviewer_17417733782071323.setStyle({\"stick\": {}, \"sphere\": {\"scale\": 0.25}});\n",
       "\tviewer_17417733782071323.addLabel(\"1\",{\"position\": {\"x\": 0.67816733868, \"y\": -1.99779185734, \"z\": 0.029403057501999997}, \"alignment\": \"center\", \"fontColor\": 0, \"backgroundColor\": 16777215, \"backgroundOpacity\": 0.0});\n",
       "\tviewer_17417733782071323.addLabel(\"2\",{\"position\": {\"x\": 1.120597191135, \"y\": -0.730320097968, \"z\": -0.508473149896}, \"alignment\": \"center\", \"fontColor\": 0, \"backgroundColor\": 16777215, \"backgroundOpacity\": 0.0});\n",
       "\tviewer_17417733782071323.addLabel(\"3\",{\"position\": {\"x\": 0.6522802433899999, \"y\": 0.552468092346, \"z\": 0.259283860451}, \"alignment\": \"center\", \"fontColor\": 0, \"backgroundColor\": 16777215, \"backgroundOpacity\": 0.0});\n",
       "\tviewer_17417733782071323.addLabel(\"4\",{\"position\": {\"x\": -0.85068578815, \"y\": 0.679802637512, \"z\": 0.323310852876}, \"alignment\": \"center\", \"fontColor\": 0, \"backgroundColor\": 16777215, \"backgroundOpacity\": 0.0});\n",
       "\tviewer_17417733782071323.addLabel(\"5\",{\"position\": {\"x\": -1.567336668709, \"y\": 1.267771315499, \"z\": -0.73318424833}, \"alignment\": \"center\", \"fontColor\": 0, \"backgroundColor\": 16777215, \"backgroundOpacity\": 0.0});\n",
       "\tviewer_17417733782071323.addLabel(\"6\",{\"position\": {\"x\": -2.961384045559, \"y\": 1.3474992344969998, \"z\": -0.699795649698}, \"alignment\": \"center\", \"fontColor\": 0, \"backgroundColor\": 16777215, \"backgroundOpacity\": 0.0});\n",
       "\tviewer_17417733782071323.addLabel(\"7\",{\"position\": {\"x\": -3.668870879165, \"y\": 0.837133351584, \"z\": 0.393849691494}, \"alignment\": \"center\", \"fontColor\": 0, \"backgroundColor\": 16777215, \"backgroundOpacity\": 0.0});\n",
       "\tviewer_17417733782071323.addLabel(\"8\",{\"position\": {\"x\": -2.970704926424, \"y\": 0.25061445327, \"z\": 1.452497323155}, \"alignment\": \"center\", \"fontColor\": 0, \"backgroundColor\": 16777215, \"backgroundOpacity\": 0.0});\n",
       "\tviewer_17417733782071323.addLabel(\"9\",{\"position\": {\"x\": -1.574446262603, \"y\": 0.173715808847, \"z\": 1.416023702871}, \"alignment\": \"center\", \"fontColor\": 0, \"backgroundColor\": 16777215, \"backgroundOpacity\": 0.0});\n",
       "\tviewer_17417733782071323.addLabel(\"10\",{\"position\": {\"x\": 2.641516623286, \"y\": -0.723175264653, \"z\": -0.529133145541}, \"alignment\": \"center\", \"fontColor\": 0, \"backgroundColor\": 16777215, \"backgroundOpacity\": 0.0});\n",
       "\tviewer_17417733782071323.addLabel(\"11\",{\"position\": {\"x\": 3.134789941368, \"y\": 0.080579442836, \"z\": -1.4905860431299998}, \"alignment\": \"center\", \"fontColor\": 0, \"backgroundColor\": 16777215, \"backgroundOpacity\": 0.0});\n",
       "\tviewer_17417733782071323.addLabel(\"12\",{\"position\": {\"x\": 3.342055012596, \"y\": -1.314665237319, \"z\": 0.254101787774}, \"alignment\": \"center\", \"fontColor\": 0, \"backgroundColor\": 16777215, \"backgroundOpacity\": 0.0});\n",
       "\tviewer_17417733782071323.addLabel(\"13\",{\"position\": {\"x\": -0.319387029289, \"y\": -1.9803902846369998, \"z\": 0.233534937792}, \"alignment\": \"center\", \"fontColor\": 0, \"backgroundColor\": 16777215, \"backgroundOpacity\": 0.0});\n",
       "\tviewer_17417733782071323.addLabel(\"14\",{\"position\": {\"x\": 1.183244511125, \"y\": -2.205942327942, \"z\": 0.891430387381}, \"alignment\": \"center\", \"fontColor\": 0, \"backgroundColor\": 16777215, \"backgroundOpacity\": 0.0});\n",
       "\tviewer_17417733782071323.addLabel(\"15\",{\"position\": {\"x\": 0.773214581204, \"y\": -0.632122980817, \"z\": -1.551010232421}, \"alignment\": \"center\", \"fontColor\": 0, \"backgroundColor\": 16777215, \"backgroundOpacity\": 0.0});\n",
       "\tviewer_17417733782071323.addLabel(\"16\",{\"position\": {\"x\": 1.0839720123699998, \"y\": 1.433740196118, \"z\": -0.242024769499}, \"alignment\": \"center\", \"fontColor\": 0, \"backgroundColor\": 16777215, \"backgroundOpacity\": 0.0});\n",
       "\tviewer_17417733782071323.addLabel(\"17\",{\"position\": {\"x\": 1.074681219478, \"y\": 0.511818795671, \"z\": 1.2770907488729997}, \"alignment\": \"center\", \"fontColor\": 0, \"backgroundColor\": 16777215, \"backgroundOpacity\": 0.0});\n",
       "\tviewer_17417733782071323.addLabel(\"18\",{\"position\": {\"x\": -1.022927502994, \"y\": 1.673652139096, \"z\": -1.591180310895}, \"alignment\": \"center\", \"fontColor\": 0, \"backgroundColor\": 16777215, \"backgroundOpacity\": 0.0});\n",
       "\tviewer_17417733782071323.addLabel(\"19\",{\"position\": {\"x\": -3.498607155285, \"y\": 1.8138121791259998, \"z\": -1.529858703924}, \"alignment\": \"center\", \"fontColor\": 0, \"backgroundColor\": 16777215, \"backgroundOpacity\": 0.0});\n",
       "\tviewer_17417733782071323.addLabel(\"20\",{\"position\": {\"x\": -4.759539700701, \"y\": 0.901425925094, \"z\": 0.42210815516199995}, \"alignment\": \"center\", \"fontColor\": 0, \"backgroundColor\": 16777215, \"backgroundOpacity\": 0.0});\n",
       "\tviewer_17417733782071323.addLabel(\"21\",{\"position\": {\"x\": -3.51375730433, \"y\": -0.144752122802, \"z\": 2.314967310044}, \"alignment\": \"center\", \"fontColor\": 0, \"backgroundColor\": 16777215, \"backgroundOpacity\": 0.0});\n",
       "\tviewer_17417733782071323.addLabel(\"22\",{\"position\": {\"x\": -1.035573239018, \"y\": -0.275248755786, \"z\": 2.255291905779}, \"alignment\": \"center\", \"fontColor\": 0, \"backgroundColor\": 16777215, \"backgroundOpacity\": 0.0});\n",
       "\tviewer_17417733782071323.addLabel(\"23\",{\"position\": {\"x\": 4.10329166357, \"y\": 0.071848449167, \"z\": -1.396006376357}, \"alignment\": \"center\", \"fontColor\": 0, \"backgroundColor\": 16777215, \"backgroundOpacity\": 0.0});\n",
       "\tviewer_17417733782071323.zoomTo();\n",
       "viewer_17417733782071323.render();\n",
       "});\n",
       "</script>"
      ]
     },
     "metadata": {},
     "output_type": "display_data"
    }
   ],
   "source": [
    "molecule = vlx.Molecule.read_xyz_file(\"../data/phenylalanine.xyz\")\n",
    "molecule.show(atom_indices=True)"
   ]
  },
  {
   "cell_type": "code",
   "execution_count": null,
   "metadata": {},
   "outputs": [],
   "source": []
  }
 ],
 "metadata": {
  "kernelspec": {
   "display_name": "echem",
   "language": "python",
   "name": "python3"
  },
  "language_info": {
   "codemirror_mode": {
    "name": "ipython",
    "version": 3
   },
   "file_extension": ".py",
   "mimetype": "text/x-python",
   "name": "python",
   "nbconvert_exporter": "python",
   "pygments_lexer": "ipython3",
   "version": "3.12.8"
  }
 },
 "nbformat": 4,
 "nbformat_minor": 2
}
