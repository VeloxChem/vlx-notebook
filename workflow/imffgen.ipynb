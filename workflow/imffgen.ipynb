{
 "cells": [
  {
   "cell_type": "markdown",
   "metadata": {},
   "source": [
    "# **Interpolation mechanics**"
   ]
  },
  {
   "cell_type": "code",
   "execution_count": null,
   "metadata": {},
   "outputs": [],
   "source": [
    "import veloxchem as vlx"
   ]
  },
  {
   "cell_type": "markdown",
   "metadata": {},
   "source": [
    "Define a VeloxChem Molecule for which the interpolation mechaics force field (IM-MM) shall be constructed."
   ]
  },
  {
   "cell_type": "code",
   "execution_count": null,
   "metadata": {},
   "outputs": [],
   "source": [
    "# Initialize the Molecule\n",
    "molecule_xyz = '''16\n",
    "\n",
    "C              1.354430000000         0.723890000000         0.062850000000\n",
    "C              0.075030000000         1.193180000000        -0.131980000000\n",
    "S             -1.063880000000        -0.076840000000        -0.238910000000\n",
    "C              0.145050000000        -1.275960000000        -0.023130000000\n",
    "C              1.392450000000        -0.699780000000         0.133940000000\n",
    "C             -0.161190000000        -2.684380000000         0.016020000000\n",
    "C              0.347150000000        -3.612800000000         0.907410000000\n",
    "C             -0.139800000000        -4.931010000000         0.664450000000\n",
    "C             -0.992970000000        -4.972470000000        -0.413030000000\n",
    "S             -1.212210000000        -3.430270000000        -1.117120000000\n",
    "H              2.219640000000         1.368740000000         0.151510000000\n",
    "H             -0.248470000000         2.221020000000        -0.218570000000\n",
    "H              2.299910000000        -1.273800000000         0.280250000000\n",
    "H              1.028740000000        -3.357480000000         1.709320000000\n",
    "H              0.125220000000        -5.802850000000         1.250990000000\n",
    "H             -1.502580000000        -5.833680000000        -0.824080000000\n",
    "'''\n",
    "\n",
    "\n",
    "molecule = vlx.Molecule.from_xyz_string(molecule_xyz)\n",
    "molecule.show(atom_indices=False)"
   ]
  },
  {
   "cell_type": "markdown",
   "metadata": {},
   "source": [
    "Initialize the QM-Driver determining the underlying quality of the interpolation data."
   ]
  },
  {
   "cell_type": "code",
   "execution_count": null,
   "metadata": {},
   "outputs": [],
   "source": [
    "# Initialize the basis set and the QM driver\n",
    "basis_set_label = \"def2-svp\"\n",
    "basis = vlx.MolecularBasis.read(molecule, basis_set_label)\n",
    "qm_driver = vlx.ScfRestrictedDriver()\n",
    "qm_driver.xcfun = \"b3lyp\""
   ]
  },
  {
   "cell_type": "markdown",
   "metadata": {},
   "source": [
    "Define dyanmics and interpolation settings which are crucial for the quality in timing of the database. Important variables:\n",
    "\n",
    "- .desired_point_density -> how many datapoints should the database contain for each conformer.\n",
    "- .converged_cycle -> after how many cycles the construction for 1 conformer terminates (1 cycle: 3000 steps without database expansion).\n",
    "- .energy_thrsh -> allowed devaition of the IM energy and QM reference calculations.\n",
    "\n",
    "As this notebook is intended to be a practival example on how to use the IMFroceFieldGenerator but keeping the computational effort at a reasoable level, the shown settings have been used. For production run we recommend using the following settings:\n",
    " \n",
    " - .nsteps = 50000\n",
    " - .snapshots = 10000\n",
    " - .desired_point_density = 80\n",
    " - .converged_cycle = 5\n",
    " - .energy_threshold = 2.0 kcal/mol"
   ]
  },
  {
   "cell_type": "code",
   "execution_count": null,
   "metadata": {},
   "outputs": [],
   "source": [
    "# Initialize the IM force field generator with:\n",
    "# dihedrals: list of dihedral angles to sample\n",
    "# sampling_structures: number of structures to sample\n",
    "# ensemble: NVT or NVE\n",
    "# temperature: temperature of the ensemble\n",
    "# nsteps: number of steps to run the dynamics\n",
    "# snapshots: number of snapshots to save\n",
    "\n",
    "imffgen_drv = vlx.IMForceFieldGenerator(qm_driver)\n",
    "imffgen_drv.dihedrals_dict = [((2, 3, 5, 9), 10)]\n",
    "imffgen_drv.ensemble = 'NVT'\n",
    "imffgen_drv.temperature = 250\n",
    "imffgen_drv.nsteps = 10000\n",
    "imffgen_drv.snapshots = 5000\n",
    "imffgen_drv.converged_cycle = 3\n",
    "imffgen_drv.energy_threshold = 2.0\n",
    "imffgen_drv.desired_point_density = 10\n",
    "imffgen_drv.nstruc_to_confirm_database_quality = 10\n",
    "imffgen_drv.minimize = False\n"
   ]
  },
  {
   "cell_type": "markdown",
   "metadata": {},
   "source": [
    "The compute function starts the construction of a new or given database. The construction run ends by confirming the qulity of the database and the result are stored.\n",
    "- note that here we provide the constructed database ('im_database.h5') as the computational cost of the second derivatives are very demanding."
   ]
  },
  {
   "cell_type": "code",
   "execution_count": null,
   "metadata": {},
   "outputs": [],
   "source": [
    "# Run the database consruction\n",
    "imffgen_drv.imforcefieldfile = \"data/im_database.h5\"\n",
    "im_results = imffgen_drv.compute(molecule, basis)"
   ]
  },
  {
   "cell_type": "code",
   "execution_count": null,
   "metadata": {},
   "outputs": [],
   "source": [
    "ff_gen = vlx.MMForceFieldGenerator()\n",
    "ff_gen.create_topology(molecule)"
   ]
  },
  {
   "cell_type": "markdown",
   "metadata": {},
   "source": [
    "To use the constructed IM force field one has to initialize the InterpolationDriver() with user-defined settings (recommended). The current implementation is restricted to well seperated IM and MM regions and is not yet included into a linking atom framework."
   ]
  },
  {
   "cell_type": "code",
   "execution_count": null,
   "metadata": {},
   "outputs": [],
   "source": [
    "z_matrix = imffgen_drv.define_z_matrix(molecule)\n",
    "im_driver = vlx.InterpolationDriver(z_matrix)\n",
    "interpolation_settings = { 'interpolation_type':'shepard', \n",
    "                            'exponent_p':'2',\n",
    "                            'exponent_q':'2', \n",
    "                            'confidence_radius':'0.5',\n",
    "                            'imforcefieldfile':'im_database.h5'}\n",
    "im_driver.update_settings(interpolation_settings)\n",
    "\n",
    "openmmdyn = vlx.OpenMMDynamics()\n",
    "openmmdyn.create_system_from_molecule(molecule, ff_gen, qm_atoms='all')\n",
    "openmmdyn.run_qmmm(im_driver, im_driver)\n"
   ]
  }
 ],
 "metadata": {
  "kernelspec": {
   "display_name": "vlxenv-workflow-paper",
   "language": "python",
   "name": "vlxenv-workflow-paper"
  },
  "language_info": {
   "codemirror_mode": {
    "name": "ipython",
    "version": 3
   },
   "file_extension": ".py",
   "mimetype": "text/x-python",
   "name": "python",
   "nbconvert_exporter": "python",
   "pygments_lexer": "ipython3",
   "version": "3.13.5"
  }
 },
 "nbformat": 4,
 "nbformat_minor": 4
}
