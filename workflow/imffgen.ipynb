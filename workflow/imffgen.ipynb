{
 "cells": [
  {
   "cell_type": "markdown",
   "metadata": {},
   "source": [
    "# Inperpolation Mechanics"
   ]
  },
  {
   "cell_type": "code",
   "execution_count": null,
   "metadata": {},
   "outputs": [],
   "source": [
    "import veloxchem as vlx"
   ]
  },
  {
   "cell_type": "markdown",
   "metadata": {},
   "source": [
    "Define a VeloxChem Molecule for which the interpolation mechanics force field (IM-MM) shall be constructed."
   ]
  },
  {
   "cell_type": "code",
   "execution_count": null,
   "metadata": {},
   "outputs": [],
   "source": [
    "# Initialize the Molecu\n",
    "molecule_xyz = '''16\n",
    "\n",
    "C          1.35443     0.72389     0.06285\n",
    "C          0.07503     1.19318    -0.13198\n",
    "S         -1.06388    -0.07684    -0.23891\n",
    "C          0.14505    -1.27596    -0.02313\n",
    "C          1.39245    -0.69978     0.13394\n",
    "C         -0.16119    -2.68438     0.01602\n",
    "C          0.34715    -3.61280     0.90741\n",
    "C         -0.13980    -4.93101     0.66445\n",
    "C         -0.99297    -4.97247    -0.41303\n",
    "S         -1.21221    -3.43027    -1.11712\n",
    "H          2.21964     1.36874     0.15151\n",
    "H         -0.24847     2.22102    -0.21857\n",
    "H          2.29991    -1.27380     0.28025\n",
    "H          1.02874    -3.35748     1.70932\n",
    "H          0.12522    -5.80285     1.25099\n",
    "H         -1.50258    -5.83368    -0.82408\n",
    "'''\n",
    "\n",
    "\n",
    "molecule = vlx.Molecule.from_xyz_string(molecule_xyz)\n",
    "molecule.show(atom_indices=False)"
   ]
  },
  {
   "cell_type": "markdown",
   "metadata": {},
   "source": [
    "Initialize the QM-Driver determining the underlying quality of the interpolation data."
   ]
  },
  {
   "cell_type": "code",
   "execution_count": null,
   "metadata": {},
   "outputs": [],
   "source": [
    "# Initialize the basis set and the QM driver\n",
    "basis_set_label = \"def2-svp\"\n",
    "basis = vlx.MolecularBasis.read(molecule, basis_set_label)\n",
    "qm_driver = vlx.ScfRestrictedDriver()\n",
    "qm_driver.xcfun = \"b3lyp\""
   ]
  },
  {
   "cell_type": "markdown",
   "metadata": {},
   "source": [
    "##### Define dyanmics and interpolation settings which are crucial for the quality in timing of the database. Important variables:\n",
    "\n",
    "- .desired_point_density -> how many datapoints should the database contain for each conformer.\n",
    "- .converged_cycle -> after how many cycles the construction for 1 conformer terminates (1 cycle: 3000 steps without database expansion).\n",
    "- .energy_thrsh -> allowed devaition of the IM energy and QM reference calculations.\n",
    "\n",
    "##### As this notebook is intended to be a practival example on how to use the IMFroceFieldGenerator but keeping the computational effort at a reasoable level, the shown settings have been used. For production run we recommend using the following settings:\n",
    " \n",
    " - .nsteps = 50000\n",
    " - .snapshots = 10000\n",
    " - .desired_point_density = 80\n",
    " - .converged_cycle = 5\n",
    " - .energy_threshold = 2.0 kcal/mol"
   ]
  },
  {
   "cell_type": "code",
   "execution_count": null,
   "metadata": {},
   "outputs": [],
   "source": [
    "# Initialize the IM force field generator with:\n",
    "# dihedrals: list of dihedral angles to sample\n",
    "# sampling_structures: number of structures to sample\n",
    "# ensemble: NVT or NVE\n",
    "# temperature: temperature of the ensemble\n",
    "# nsteps: number of steps to run the dynamics\n",
    "# snapshots: number of snapshots to save\n",
    "\n",
    "dyn_drv = vlx.IMForceFieldGenerator(qm_driver)\n",
    "dyn_drv.dihedrals_dict = [((2, 3, 5, 9), 10)]\n",
    "dyn_drv.ensemble = 'NVT'\n",
    "dyn_drv.temperature = 250\n",
    "dyn_drv.nsteps = 10000\n",
    "dyn_drv.snapshots = 5000\n",
    "dyn_drv.converged_cycle = 3\n",
    "dyn_drv.energy_threshold = 2.0\n",
    "dyn_drv.desired_point_density = 10\n",
    "dyn_drv.nstruc_to_confirm_database_quality = 10\n",
    "dyn_drv.minimize = False\n"
   ]
  },
  {
   "cell_type": "markdown",
   "metadata": {},
   "source": [
    "The compute function starts the construction of a new or given database. The construction run ends by confirming the quality of the database and the result are stored.\n",
    "- note that here we provide the constructed database ('im_database.h5') as the computational cost of the second derivatives are very demanding."
   ]
  },
  {
   "cell_type": "code",
   "execution_count": null,
   "metadata": {},
   "outputs": [],
   "source": [
    "# Run the database consruction\n",
    "dyn_drv.imforcefieldfile = 'data/im_database.h5'\n",
    "im_results = dyn_drv.compute(molecule, basis)"
   ]
  },
  {
   "cell_type": "code",
   "execution_count": null,
   "metadata": {},
   "outputs": [],
   "source": [
    "ff_gen = vlx.MMForceFieldGenerator()\n",
    "ff_gen.create_topology(molecule)"
   ]
  },
  {
   "cell_type": "markdown",
   "metadata": {},
   "source": [
    "To use the constructed IM force field one has to initialize the InterpolationDriver() with user-defined settings (recommended). The current implementation is restricted to well seperated IM and MM regions and is not yet included into a linking atom framework."
   ]
  },
  {
   "cell_type": "code",
   "execution_count": null,
   "metadata": {},
   "outputs": [],
   "source": [
    "z_matrix = dyn_drv.define_z_matrix(molecule)\n",
    "im_driver = vlx.InterpolationDriver(z_matrix)\n",
    "interpolation_settings = { 'interpolation_type':'shepard', \n",
    "                            'exponent_p':'2',\n",
    "                            'exponent_q':'2', \n",
    "                            'confidence_radius':'0.5',\n",
    "                            'imforcefieldfile':'im_database.h5'}\n",
    "im_driver.update_settings(interpolation_settings)\n",
    "\n",
    "openmmdyn = vlx.OpenMMDynamics()\n",
    "openmmdyn.create_system_from_molecule(molecule, ff_gen, qm_atoms='all')\n",
    "openmmdyn.run_qmmm(im_driver, im_driver)\n"
   ]
  }
 ],
 "metadata": {
  "kernelspec": {
   "display_name": "vlx-github",
   "language": "python",
   "name": "python3"
  },
  "language_info": {
   "codemirror_mode": {
    "name": "ipython",
    "version": 3
   },
   "file_extension": ".py",
   "mimetype": "text/x-python",
   "name": "python",
   "nbconvert_exporter": "python",
   "pygments_lexer": "ipython3",
   "version": "3.12.8"
  }
 },
 "nbformat": 4,
 "nbformat_minor": 2
}
