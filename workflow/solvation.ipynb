{
 "cells": [
  {
   "cell_type": "markdown",
   "metadata": {},
   "source": [
    "# SolvationBuilder"
   ]
  },
  {
   "cell_type": "code",
   "execution_count": null,
   "metadata": {},
   "outputs": [],
   "source": [
    "import veloxchem as vlx"
   ]
  },
  {
   "cell_type": "markdown",
   "metadata": {},
   "source": [
    "Create a molecule object for deprotonated ibuprofen and generate a forcefield with semiempirical partial charges to use in the following solvationfep calculations. "
   ]
  },
  {
   "cell_type": "code",
   "execution_count": null,
   "metadata": {},
   "outputs": [],
   "source": []
  },
  {
   "cell_type": "code",
   "execution_count": null,
   "metadata": {},
   "outputs": [],
   "source": [
    "ibuprof = vlx.Molecule.read_smiles('CC(C)CC1=CC=C(C=C1)C(C)C(=O)[O-]')\n",
    "ibuprof.show()"
   ]
  },
  {
   "cell_type": "code",
   "execution_count": null,
   "metadata": {},
   "outputs": [],
   "source": [
    "ff_gen_solute = vlx.MMForceFieldGenerator()\n",
    "ff_gen_solute.partial_charges = ibuprof.get_partial_charges(\n",
    "    ibuprof.get_charge())\n",
    "ff_gen_solute.create_topology(ibuprof)\n",
    "ff_gen_solute.write_gromacs_files('ibuprof','MOL')"
   ]
  },
  {
   "cell_type": "markdown",
   "metadata": {},
   "source": [
    "Load the SolvationBuilder and create a box of padding 1.0 nm (default). Solvate the molecule with water (SPC/E water model). After solvating the box, the SolvationBuilder will run a NPT equilibration of 5 ps at 300K. Once the equilibration is finished, gromacs files for the equilibrated system is written."
   ]
  },
  {
   "cell_type": "code",
   "execution_count": null,
   "metadata": {},
   "outputs": [],
   "source": [
    "solvator = vlx.SolvationBuilder()\n",
    "\n",
    "solvator.solvate(ibuprof, equilibrate=True, neutralize=False)\n",
    "solvator.system_molecule.show()\n",
    "\n",
    "solvator.write_gromacs_files(solute_ff=ff_gen_solute)"
   ]
  },
  {
   "cell_type": "markdown",
   "metadata": {},
   "source": [
    "# Free Energy of Solvation"
   ]
  },
  {
   "cell_type": "markdown",
   "metadata": {},
   "source": [
    "The free energy of solvation for ibuprofen in a mix of water and propylene glycol is computed with the SolvationFepDriver using the gromacs files generated from the SolvationBuilder as input. The functon requires a gro and topology file for both the solvated system and the molecule in vacuum."
   ]
  },
  {
   "cell_type": "code",
   "execution_count": null,
   "metadata": {},
   "outputs": [],
   "source": [
    "solvationfep = vlx.SolvationFepDriver()\n",
    "\n",
    "# Optional, saving trajectory from each lambda simulation in xtc format \n",
    "#solvationfep.save_trajectory_xtc = True \n",
    "\n",
    "# The number of steps here has been chosen for a quick execution in the \n",
    "# #Notebook, we recommend using 500 000 steps for production runs (1 ns) per Lambda.\n",
    "solvationfep.num_steps = 10000\n",
    "delta_f, final_energy = solvationfep.compute_solvation_from_gromacs_files(\n",
    "    'system.gro','system.top','ibuprof.gro','ibuprof.top')"
   ]
  },
  {
   "cell_type": "markdown",
   "metadata": {},
   "source": [
    "## Custom solvate\n",
    "Following is an example of how to solvate ibuprofen in a mixed solvent of equal amounts of water and propylene glycol. A VeloxChem molecule object is created for solvent molecules. A list of the solvent molecules, the quantity of each molecule and the box dimension (Å) is specified in the function. Gromacs files for the system is written."
   ]
  },
  {
   "cell_type": "code",
   "execution_count": null,
   "metadata": {},
   "outputs": [],
   "source": [
    "solvator = vlx.SolvationBuilder()\n",
    "\n",
    "propylene_glycol = vlx.Molecule.read_smiles('CC(CO)O')\n",
    "water = vlx.Molecule.read_smiles('O')\n",
    "\n",
    "solvator.custom_solvate(ibuprof,\n",
    "                        solvents=[water, propylene_glycol],\n",
    "                        quantities=[200,200],\n",
    "                        box=(40,40,40))\n",
    "solvator.system_molecule.show()\n",
    "solvator.write_gromacs_files(solute_ff=ff_gen_solute)"
   ]
  },
  {
   "cell_type": "markdown",
   "metadata": {},
   "source": [
    "____\n",
    "## Free Energy of Solvation for a dataset\n"
   ]
  },
  {
   "cell_type": "markdown",
   "metadata": {},
   "source": [
    "In this example the free energy of solvation is calculated for a dataset of molecules. The necessary information about each molecule, in this case the SMILES code and charge, is loaded from the *solvationfep_molecules.csv* file. <n>\n",
    "\n",
    "Iterate over the molecules to run the solvationfep calculations. Results of the final energy will be updated in the .csv file\n",
    "\n",
    "The following part of the Notebook is rather time consuming, we recommend to perform those calculations on a cluster instead."
   ]
  },
  {
   "cell_type": "code",
   "execution_count": null,
   "metadata": {},
   "outputs": [],
   "source": [
    "import veloxchem as vlx\n",
    "import pandas as pd\n",
    "\n",
    "solvationfep = vlx.SolvationFepDriver()\n",
    "solvationfep.padding = 1.0\n",
    "filename = 'data/solvationfep_molecules.csv'\n",
    "\n",
    "df = pd.read_csv(filename, sep=',')\n",
    "\n",
    "results = []\n",
    "\n",
    "for index, row in df.iterrows():\n",
    "\n",
    "    print(f'Calculating Free Energy of Solvation for molecule: {row['SMILES']}')\n",
    "    molecule = vlx.Molecule.read_smiles(row['SMILES'])\n",
    "    \n",
    "    delta_f, final_energy = solvationfep.compute_solvation(molecule)\n",
    "    results.append(f\"{final_energy:.4f}\")\n",
    "\n",
    "df['Result kJ/mol'] = results\n",
    "df.to_csv(filename, sep=',', index=False)"
   ]
  },
  {
   "cell_type": "markdown",
   "metadata": {},
   "source": [
    "Plot the results for all molecules"
   ]
  },
  {
   "cell_type": "code",
   "execution_count": null,
   "metadata": {},
   "outputs": [],
   "source": [
    "import pandas as pd\n",
    "import matplotlib.pyplot as plt\n",
    "\n",
    "# Read the CSV file\n",
    "df = pd.read_csv('solvationfep_molecules.csv', sep=',')\n",
    "\n",
    "# Plot the results against SMILES\n",
    "plt.figure(figsize=(10, 6))\n",
    "plt.plot(df['SMILES'], df['Result kJ/mol'],'o', color='darkcyan', alpha=0.7)\n",
    "\n",
    "plt.ylabel(r'$\\Delta G^\\mathrm{solv}$ Computed (kJ/mol)', fontsize=12)\n",
    "plt.xticks(rotation=45, ha='right', fontsize=10)\n",
    "plt.tight_layout()\n",
    "\n",
    "plt.show()\n"
   ]
  }
 ],
 "metadata": {
  "kernelspec": {
   "display_name": "vlx-github",
   "language": "python",
   "name": "python3"
  },
  "language_info": {
   "codemirror_mode": {
    "name": "ipython",
    "version": 3
   },
   "file_extension": ".py",
   "mimetype": "text/x-python",
   "name": "python",
   "nbconvert_exporter": "python",
   "pygments_lexer": "ipython3",
   "version": "3.12.8"
  }
 },
 "nbformat": 4,
 "nbformat_minor": 2
}
