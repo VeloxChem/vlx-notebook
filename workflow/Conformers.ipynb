{
 "cells": [
  {
   "cell_type": "markdown",
   "metadata": {},
   "source": [
    "# Conformer generator"
   ]
  },
  {
   "cell_type": "code",
   "execution_count": null,
   "metadata": {},
   "outputs": [],
   "source": [
    "import veloxchem as vlx"
   ]
  },
  {
   "cell_type": "markdown",
   "metadata": {},
   "source": [
    "## Systematic Search"
   ]
  },
  {
   "cell_type": "markdown",
   "metadata": {},
   "source": [
    "We define a structure by using a SMILES string."
   ]
  },
  {
   "cell_type": "code",
   "execution_count": null,
   "metadata": {},
   "outputs": [],
   "source": [
    "molecule = vlx.Molecule.read_smiles(\n",
    "    \"CC1([C@@H](N2[C@H](S1)[C@@H](C2=O)NC(=O)CC3=CC=CC=C3)C(=O)O)C\"\n",
    ")  # this is SMILES for Penicillin G\n",
    "molecule.show(atom_indices=True)"
   ]
  },
  {
   "cell_type": "markdown",
   "metadata": {},
   "source": [
    "ConformerGenerator class can generate all possible conformations and apply energy minimization process with MMforcefield"
   ]
  },
  {
   "cell_type": "code",
   "execution_count": null,
   "metadata": {},
   "outputs": [],
   "source": [
    "conf = vlx.ConformerGenerator()\n",
    "conformers_dict = conf.generate(molecule)"
   ]
  },
  {
   "cell_type": "markdown",
   "metadata": {},
   "source": [
    "show the lowest energy conformer"
   ]
  },
  {
   "cell_type": "code",
   "execution_count": null,
   "metadata": {},
   "outputs": [],
   "source": [
    "conf.show_global_minimum()"
   ]
  },
  {
   "cell_type": "markdown",
   "metadata": {},
   "source": [
    " show more conformers"
   ]
  },
  {
   "cell_type": "code",
   "execution_count": null,
   "metadata": {},
   "outputs": [],
   "source": [
    "conf.show_conformers(number=3, atom_indices=True)"
   ]
  },
  {
   "cell_type": "markdown",
   "metadata": {},
   "source": [
    "we can provide resp charges as partial charges to improve the used MMforcefield quality"
   ]
  },
  {
   "cell_type": "code",
   "execution_count": null,
   "metadata": {},
   "outputs": [],
   "source": [
    "basis = vlx.MolecularBasis.read(molecule, \"6-31g*\")\n",
    "resp = vlx.RespChargesDriver()\n",
    "resp.ostream.mute()\n",
    "partial_charges = resp.compute(molecule, basis, 'resp')"
   ]
  },
  {
   "cell_type": "code",
   "execution_count": null,
   "metadata": {},
   "outputs": [],
   "source": [
    "conf = vlx.ConformerGenerator()\n",
    "conf.partial_charges = partial_charges\n",
    "conformers_dict = conf.generate(molecule)\n",
    "conf.show_global_minimum(atom_indices=True)"
   ]
  },
  {
   "cell_type": "markdown",
   "metadata": {},
   "source": [
    "we can apply implicit solvent model for the energy minimization "
   ]
  },
  {
   "cell_type": "code",
   "execution_count": null,
   "metadata": {},
   "outputs": [],
   "source": [
    "conf = vlx.ConformerGenerator()\n",
    "conf.ostream.mute()\n",
    "conf.show_available_implicit_solvent_models()\n",
    "conf.implicit_solvent_model = \"hct\"  #here we set Hawkins-Cramer-Truhlar GBSA model\n",
    "conformers_dict = conf.generate(molecule)\n",
    "conf.show_global_minimum(atom_indices=True)"
   ]
  },
  {
   "cell_type": "markdown",
   "metadata": {},
   "source": [
    "show more conformers"
   ]
  },
  {
   "cell_type": "code",
   "execution_count": null,
   "metadata": {},
   "outputs": [],
   "source": [
    "conf.show_conformers(number=3, atom_indices=True)"
   ]
  },
  {
   "cell_type": "markdown",
   "metadata": {},
   "source": [
    "## Extract conformers from an MD simulation"
   ]
  },
  {
   "cell_type": "markdown",
   "metadata": {},
   "source": [
    "Using the OpenMMDynamics class, we can perform Molecular Dynamics"
   ]
  },
  {
   "cell_type": "code",
   "execution_count": null,
   "metadata": {},
   "outputs": [],
   "source": [
    "molecule = vlx.Molecule.read_xyz_file(\"data/tq-polymer.xyz\")\n",
    "molecule.show()"
   ]
  },
  {
   "cell_type": "markdown",
   "metadata": {},
   "source": [
    "The next cell is used to calculate RESP charges for the system. However, since this calculation is time consuming, the next cell is commented and the partial charges are provided in the following cell."
   ]
  },
  {
   "cell_type": "code",
   "execution_count": null,
   "metadata": {},
   "outputs": [],
   "source": [
    "#basis = vlx.MolecularBasis.read(molecule, \"6-31g*\")\n",
    "#resp = vlx.RespChargesDriver()\n",
    "#partial_charges = resp.compute(molecule, basis, 'resp')\n",
    "#print(partial_charges)"
   ]
  },
  {
   "cell_type": "code",
   "execution_count": null,
   "metadata": {},
   "outputs": [],
   "source": [
    "partial_charges = [\n",
    " -0.23266931, -0.04823439, -0.00768593,  0.10018278,  0.38698743, -0.24945099,\n",
    "  0.19495109,  0.11467828,  0.06236094,  0.00542244, -0.10766019, -0.1982617,\n",
    "  0.01620013, -0.09032384, -0.23529148,  0.06213728,  0.419456,   -0.53179623,\n",
    "  0.13900773,  0.16411472, -0.08606877, -0.04451295,  0.19955552, -0.17029552,\n",
    " -0.18015684, -0.1133219,   0.15810609, -0.08196562, -0.12877407, -0.23955694,\n",
    " -0.13677057,  0.30158162, -0.20301966,  0.13834221,  0.13658744, -0.31694833,\n",
    " -0.03182647,  0.13715376,  0.11899939,  0.16192621,  0.13063207,  0.17382562,\n",
    " -0.33276051, -0.00577005,  0.07952667,  0.07952667,  0.06596162,  0.06596162,\n",
    " -0.24208522, -0.08746283,  0.0129347,   0.06150182,  0.2660882,  -0.00111437,\n",
    "  0.1037246,   0.18094784,  0.01584349, -0.12325936, -0.24250448,  0.0561585,\n",
    " -0.11800886, -0.24794804,  0.19611705,  0.20539002, -0.29892928,  0.08487697,\n",
    "  0.07952667,  0.1582663,  -0.14684433, -0.04075369,  0.25102047, -0.20320982,\n",
    " -0.16058414, -0.15306783,  0.1592547,  -0.05293313, -0.11907114, -0.24842299,\n",
    " -0.07940933,  0.16146974, -0.13494737,  0.14994106,  0.17097986, -0.32427475,\n",
    " -0.04223001,  0.07723726,  0.14478107,  0.11187124,  0.14649411,  0.11846808,\n",
    " -0.25956843, -0.02044809,  0.07970686,  0.07970686,  0.06516478,  0.06516478,\n",
    "  0.06596162,  0.06516478,  0.07970686,  0.09127322, -0.25771988, -0.06133307,\n",
    "  0.00628985,  0.05371858,  0.24153917,  0.00827491,  0.17754439,  0.13668706,\n",
    "  0.10222654,  0.03680489, -0.16795552, -0.17000726,  0.02669681, -0.12172821,\n",
    " -0.21900063,  0.17946952,  0.21890735, -0.26948284,  0.1307234,   0.16949918,\n",
    " -0.14124631, -0.0455031,   0.23159166, -0.20306447, -0.14909185, -0.16035176,\n",
    "  0.15687754, -0.0872775,  -0.1172997,  -0.25351842, -0.10566528,  0.20167734,\n",
    " -0.12919819,  0.1543798,   0.14441411, -0.31155974, -0.05033539,  0.16950455,\n",
    "  0.11780647,  0.07857705,  0.10483532,  0.17792367, -0.27772352, -0.03088794,\n",
    "  0.08387225,  0.08387225,  0.07119718,  0.07119718, -0.20549054, -0.10532521,\n",
    "  0.00421472,  0.07138742,  0.20521205,  0.00254779,  0.10055996,  0.15866661,\n",
    "  0.02119777, -0.10911502, -0.25854617,  0.07127077, -0.13791094, -0.23129747,\n",
    "  0.15085068,  0.2326047,  -0.25590149,  0.06940969,  0.08387225,  0.16521633,\n",
    " -0.1180965,  -0.03505999,  0.23236288, -0.19948191, -0.16018508, -0.16360577,\n",
    "  0.15990844, -0.07566072, -0.11905997, -0.25587181, -0.09917076,  0.21117113,\n",
    " -0.1462551,   0.16789654,  0.17662302, -0.31282512, -0.05987767,  0.07244333,\n",
    "  0.1448517,   0.11948185,  0.15238884,  0.11592778, -0.28891858, -0.02312194,\n",
    "  0.08487697,  0.08487697,  0.06983536,  0.06983536,  0.07119718,  0.06983536,\n",
    " -0.27716358, -0.03892087,  0.00205159,  0.07613822,  0.22040262,  0.00877301,\n",
    "  0.18655541,  0.12204191,  0.06412381,  0.00680683, -0.10245549, -0.21171259,\n",
    "  0.02552486, -0.10086527, -0.22571082,  0.13445803,  0.22085514, -0.23984174,\n",
    "  0.14648149,  0.15746908, -0.08463626, -0.0387884,   0.19111359, -0.16749491,\n",
    " -0.17388606, -0.13936101,  0.15812357, -0.1156188,  -0.11083203, -0.246506,\n",
    " -0.11169709,  0.20025464, -0.10272807,  0.14702152,  0.13701896, -0.31140134,\n",
    " -0.028076,    0.15791607,  0.12185364,  0.07094104,  0.09720876,  0.17483523,\n",
    " -0.27773091, -0.05849781,  0.07847028,  0.07847028,  0.07965025,  0.07965025,\n",
    " -0.2397521,  -0.09341684,  0.01339525,  0.06572247,  0.25223365,  0.002507,\n",
    "  0.0971417,   0.1764116,   0.01229505, -0.10991864, -0.25322248,  0.06251399,\n",
    " -0.12133834, -0.23921695,  0.17999001,  0.22526708, -0.29359387,  0.08440681,\n",
    "  0.07847028,  0.16337351, -0.1565546,  -0.02789087,  0.26708614, -0.22016262,\n",
    " -0.153943,   -0.13833183,  0.15652409, -0.06827389, -0.10775748, -0.24864989,\n",
    " -0.08373426,  0.15061831, -0.12887559,  0.15591585,  0.17180216, -0.33258253,\n",
    " -0.03331989,  0.07149245,  0.14767803,  0.11457325,  0.14026477,  0.11530703,\n",
    " -0.24902146, -0.02827871,  0.07707418,  0.07707418,  0.06819106,  0.06819106,\n",
    "  0.07965025,  0.06819106,  0.07707418,  0.0856175,  -0.26218085, -0.0584246,\n",
    "  0.00456722,  0.05438889,  0.24586499,  0.00696626,  0.1783569,   0.13400676,\n",
    "  0.09799985,  0.03125357, -0.15219288, -0.17224799,  0.02445693, -0.11439113,\n",
    " -0.2183541,   0.18323659,  0.21156225, -0.27398977,  0.12528358,  0.15865568,\n",
    " -0.14406467, -0.0335401,   0.21621824, -0.18858059, -0.15528425, -0.15780651,\n",
    "  0.15619853, -0.07885735, -0.11741123, -0.25461025, -0.09799056,  0.19892431,\n",
    " -0.13319181,  0.15309207,  0.14200536, -0.30665031, -0.07147721,  0.1685966,\n",
    "  0.11397887,  0.07505986,  0.10796149,  0.17738219, -0.28183042, -0.02292667,\n",
    "  0.09264957,  0.09264957,  0.06940969,  0.06940969, -0.23482396, -0.08827898,\n",
    " -0.01061006,  0.09810372,  0.2357452,  -0.0032367,   0.09191832,  0.18103926,\n",
    " -0.03320309, -0.00719868, -0.31403912, -0.12158504, -0.06412926, -0.26903382,\n",
    "  0.18144415,  0.22231257, -0.28254811,  0.20002985,  0.09264957,  0.1755563,\n",
    " -0.12479992, -0.03303722,  0.24295814, -0.20574671, -0.15709583, -0.15187858,\n",
    "  0.15871935, -0.06157348, -0.11232057, -0.25093591, -0.10330636,  0.19475989,\n",
    " -0.13726105,  0.15152399,  0.17552223, -0.32088829, -0.04892549,  0.06981638,\n",
    "  0.1464772,   0.12144991,  0.1417967,   0.11573457, -0.28201561, -0.02604886,\n",
    "  0.08440681,  0.08440681,  0.07094104,  0.07094104]"
   ]
  },
  {
   "cell_type": "markdown",
   "metadata": {},
   "source": [
    "In the next cell, we are using the partial charges to derive a Force-Field using the MMForceFieldGenerator class."
   ]
  },
  {
   "cell_type": "code",
   "execution_count": null,
   "metadata": {},
   "outputs": [],
   "source": [
    "ff_gen = vlx.MMForceFieldGenerator()\n",
    "ff_gen.partial_charges = partial_charges\n",
    "ff_gen.create_topology(molecule)\n"
   ]
  },
  {
   "cell_type": "markdown",
   "metadata": {},
   "source": [
    "Once a force field is derived, different functions can be used which use the OpenMM library to perform molecular dynamics simulations. This is available in the OpenMMDynamics class. The next cell gives an example how to run a MD."
   ]
  },
  {
   "cell_type": "code",
   "execution_count": null,
   "metadata": {},
   "outputs": [],
   "source": [
    "opm_dyn = vlx.OpenMMDynamics()\n",
    "opm_dyn.create_system_from_molecule(molecule,\n",
    "                                    ff_gen,\n",
    "                                    filename='tq-polymer',\n",
    "                                    residue_name='MOL')\n",
    "opm_dyn.run_md(\n",
    "            ensemble='NVE',\n",
    "            temperature=300, \n",
    "            timestep=2.0, \n",
    "            nsteps=100000, \n",
    "            traj_file='tq_polymer_md.pdb')"
   ]
  },
  {
   "cell_type": "markdown",
   "metadata": {},
   "source": [
    "Moreover, we have developed a function to extract conformers from the MD simulation at high temperature. The user can define a number of snapshots that will be optimized and save. In addition, those snapshots can be filtered to avoid that the same conformer is present multiple timess by using the option unique_conformers."
   ]
  },
  {
   "cell_type": "code",
   "execution_count": null,
   "metadata": {},
   "outputs": [],
   "source": [
    "conformers_dict = opm_dyn.conformational_sampling(\n",
    "                                ensemble='NVT', \n",
    "                                temperature=1000, \n",
    "                                timestep=2.0, \n",
    "                                nsteps=1000000, \n",
    "                                snapshots=5000,\n",
    "                                unique_conformers=True,\n",
    "                                qm_driver=None,\n",
    "                                basis=None,\n",
    "                                constraints=None)"
   ]
  },
  {
   "cell_type": "code",
   "execution_count": null,
   "metadata": {},
   "outputs": [],
   "source": [
    "opm_dyn.show_conformers(number=10)"
   ]
  },
  {
   "cell_type": "code",
   "execution_count": null,
   "metadata": {},
   "outputs": [],
   "source": [
    "# plot the distribution of the relative energies of the conformers\n",
    "import matplotlib.pyplot as plt\n",
    "import numpy as np\n",
    "\n",
    "fig, ax = plt.subplots(figsize=(8, 4))\n",
    "ax.hist(conformers_dict['energies']-np.min(conformers_dict['energies']),\n",
    "        bins=50, \n",
    "        color='darkcyan', \n",
    "        alpha=0.7)\n",
    "plt.xlabel('Relative Energy (kJ/mol)')\n",
    "plt.ylabel('Number of Conformers')\n",
    "\n",
    "plt.savefig('conformer_energy_distribution.pdf')\n",
    "plt.show()\n"
   ]
  },
  {
   "cell_type": "code",
   "execution_count": null,
   "metadata": {},
   "outputs": [],
   "source": [
    "# show the most stable conformer and write it to an XYZ file\n",
    "conformers_dict['molecules'][0].show()\n",
    "conformers_dict['molecules'][0].write_xyz_file('tq-polymer-0.xyz')\n"
   ]
  }
 ],
 "metadata": {
  "kernelspec": {
   "display_name": "vlx-github",
   "language": "python",
   "name": "python3"
  },
  "language_info": {
   "codemirror_mode": {
    "name": "ipython",
    "version": 3
   },
   "file_extension": ".py",
   "mimetype": "text/x-python",
   "name": "python",
   "nbconvert_exporter": "python",
   "pygments_lexer": "ipython3",
   "version": "3.12.8"
  }
 },
 "nbformat": 4,
 "nbformat_minor": 2
}
