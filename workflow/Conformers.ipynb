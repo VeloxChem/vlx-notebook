{
 "cells": [
  {
   "cell_type": "markdown",
   "metadata": {},
   "source": [
    "# Conformer generator"
   ]
  },
  {
   "cell_type": "code",
   "execution_count": null,
   "metadata": {},
   "outputs": [],
   "source": [
    "import veloxchem as vlx"
   ]
  },
  {
   "cell_type": "markdown",
   "metadata": {},
   "source": [
    "## Systematic Search"
   ]
  },
  {
   "cell_type": "markdown",
   "metadata": {},
   "source": [
    "We define a structure by using a SMILES string."
   ]
  },
  {
   "cell_type": "code",
   "execution_count": null,
   "metadata": {},
   "outputs": [],
   "source": [
    "molecule = vlx.Molecule.read_smiles(\n",
    "    \"CC1([C@@H](N2[C@H](S1)[C@@H](C2=O)NC(=O)CC3=CC=CC=C3)C(=O)O)C\"\n",
    ")  # this is SMILES for Penicillin G\n",
    "molecule.show(atom_indices=True)"
   ]
  },
  {
   "cell_type": "markdown",
   "metadata": {},
   "source": [
    "ConformerGenerator class can generate all possible conformations and apply energy minimization process with MMforcefield"
   ]
  },
  {
   "cell_type": "code",
   "execution_count": null,
   "metadata": {},
   "outputs": [],
   "source": [
    "conf = vlx.ConformerGenerator()\n",
    "conformers_dict = conf.generate(molecule)"
   ]
  },
  {
   "cell_type": "markdown",
   "metadata": {},
   "source": [
    "show the lowest energy conformer"
   ]
  },
  {
   "cell_type": "code",
   "execution_count": null,
   "metadata": {},
   "outputs": [],
   "source": [
    "conf.show_global_minimum()"
   ]
  },
  {
   "cell_type": "markdown",
   "metadata": {},
   "source": [
    " show more conformers"
   ]
  },
  {
   "cell_type": "code",
   "execution_count": null,
   "metadata": {},
   "outputs": [],
   "source": [
    "conf.show_conformers(number=3, atom_indices=True)"
   ]
  },
  {
   "cell_type": "markdown",
   "metadata": {},
   "source": [
    "we can provide resp charges as partial charges to improve the used MMforcefield quality"
   ]
  },
  {
   "cell_type": "code",
   "execution_count": null,
   "metadata": {},
   "outputs": [],
   "source": [
    "basis = vlx.MolecularBasis.read(molecule, \"6-31g*\")\n",
    "resp = vlx.RespChargesDriver()\n",
    "resp.ostream.mute()\n",
    "partial_charges = resp.compute(molecule, basis, 'resp')"
   ]
  },
  {
   "cell_type": "code",
   "execution_count": null,
   "metadata": {},
   "outputs": [],
   "source": [
    "conf = vlx.ConformerGenerator()\n",
    "conf.partial_charges = partial_charges\n",
    "conformers_dict = conf.generate(molecule)\n",
    "conf.show_global_minimum(atom_indices=True)"
   ]
  },
  {
   "cell_type": "markdown",
   "metadata": {},
   "source": [
    "we can apply implicit solvent model for the energy minimization "
   ]
  },
  {
   "cell_type": "code",
   "execution_count": null,
   "metadata": {},
   "outputs": [],
   "source": [
    "conf = vlx.ConformerGenerator()\n",
    "conf.ostream.mute()\n",
    "conf.show_available_implicit_solvent_models()\n",
    "\n",
    "conf.implicit_solvent_model = \"obc2\"\n",
    "conformers_dict = conf.generate(molecule)\n",
    "conf.show_global_minimum(atom_indices=True)"
   ]
  },
  {
   "cell_type": "markdown",
   "metadata": {},
   "source": [
    "show more conformers"
   ]
  },
  {
   "cell_type": "code",
   "execution_count": null,
   "metadata": {},
   "outputs": [],
   "source": [
    "conf.show_conformers(number=3, atom_indices=True)"
   ]
  },
  {
   "cell_type": "markdown",
   "metadata": {},
   "source": [
    "## Extract conformers from an MD simulation"
   ]
  },
  {
   "cell_type": "markdown",
   "metadata": {},
   "source": [
    "Using the OpenMMDynamics class, we can perform Molecular Dynamics"
   ]
  },
  {
   "cell_type": "code",
   "execution_count": null,
   "metadata": {},
   "outputs": [],
   "source": [
    "molecule = vlx.Molecule.read_xyz_file(\"data/tq-polymer.xyz\")\n",
    "molecule.show()"
   ]
  },
  {
   "cell_type": "markdown",
   "metadata": {},
   "source": [
    "The next cell is used to calculate RESP charges for the system. However, since this calculation is time consuming, the next cell is commented and the partial charges are provided in the following cell."
   ]
  },
  {
   "cell_type": "code",
   "execution_count": null,
   "metadata": {},
   "outputs": [],
   "source": [
    "#basis = vlx.MolecularBasis.read(molecule, \"6-31g*\")\n",
    "#resp = vlx.RespChargesDriver()\n",
    "#partial_charges = resp.compute(molecule, basis, 'resp')\n",
    "#print(partial_charges)"
   ]
  },
  {
   "cell_type": "code",
   "execution_count": null,
   "metadata": {},
   "outputs": [],
   "source": [
    "partial_charges = [\n",
    " -0.232669,  -0.048234,  -0.007686,   0.100183,   0.386987, \n",
    " -0.249451,   0.194951,   0.114678,   0.062361,   0.005422, \n",
    " -0.107660,  -0.198262,   0.016200,  -0.090324,  -0.235291, \n",
    "  0.062137,   0.419456,  -0.531796,   0.139008,   0.164115, \n",
    " -0.086069,  -0.044513,   0.199556,  -0.170296,  -0.180157, \n",
    " -0.113322,   0.158106,  -0.081966,  -0.128774,  -0.239557, \n",
    " -0.136771,   0.301582,  -0.203020,   0.138342,   0.136587, \n",
    " -0.316948,  -0.031826,   0.137154,   0.118999,   0.161926, \n",
    "  0.130632,   0.173826,  -0.332761,  -0.005770,   0.079527, \n",
    "  0.079527,   0.065962,   0.065962,  -0.242085,  -0.087463, \n",
    "  0.012935,   0.061502,   0.266088,  -0.001114,   0.103725, \n",
    "  0.180948,   0.015843,  -0.123259,  -0.242504,   0.056159, \n",
    " -0.118009,  -0.247948,   0.196117,   0.205390,  -0.298929, \n",
    "  0.084877,   0.079527,   0.158266,  -0.146844,  -0.040754, \n",
    "  0.251020,  -0.203210,  -0.160584,  -0.153068,   0.159255, \n",
    " -0.052933,  -0.119071,  -0.248423,  -0.079409,   0.161470, \n",
    " -0.134947,   0.149941,   0.170980,  -0.324275,  -0.042230, \n",
    "  0.077237,   0.144781,   0.111871,   0.146494,   0.118468, \n",
    " -0.259568,  -0.020448,   0.079707,   0.079707,   0.065165, \n",
    "  0.065165,   0.065962,   0.065165,   0.079707,   0.091273, \n",
    " -0.257720,  -0.061333,   0.006290,   0.053719,   0.241539, \n",
    "  0.008275,   0.177544,   0.136687,   0.102227,   0.036805, \n",
    " -0.167956,  -0.170007,   0.026697,  -0.121728,  -0.219001, \n",
    "  0.179470,   0.218907,  -0.269483,   0.130723,   0.169499, \n",
    " -0.141246,  -0.045503,   0.231592,  -0.203064,  -0.149092, \n",
    " -0.160352,   0.156878,  -0.087277,  -0.117300,  -0.253518, \n",
    " -0.105665,   0.201677,  -0.129198,   0.154380,   0.144414, \n",
    " -0.311560,  -0.050335,   0.169505,   0.117806,   0.078577, \n",
    "  0.104835,   0.177924,  -0.277724,  -0.030888,   0.083872, \n",
    "  0.083872,   0.071197,   0.071197,  -0.205491,  -0.105325, \n",
    "  0.004215,   0.071387,   0.205212,   0.002548,   0.100560, \n",
    "  0.158667,   0.021198,  -0.109115,  -0.258546,   0.071271, \n",
    " -0.137911,  -0.231297,   0.150851,   0.232605,  -0.255901, \n",
    "  0.069410,   0.083872,   0.165216,  -0.118096,  -0.035060, \n",
    "  0.232363,  -0.199482,  -0.160185,  -0.163606,   0.159908, \n",
    " -0.075661,  -0.119060,  -0.255872,  -0.099171,   0.211171, \n",
    " -0.146255,   0.167897,   0.176623,  -0.312825,  -0.059878, \n",
    "  0.072443,   0.144852,   0.119482,   0.152389,   0.115928, \n",
    " -0.288919,  -0.023122,   0.084877,   0.084877,   0.069835, \n",
    "  0.069835,   0.071197,   0.069835,  -0.277164,  -0.038921, \n",
    "  0.002052,   0.076138,   0.220403,   0.008773,   0.186555, \n",
    "  0.122042,   0.064124,   0.006807,  -0.102455,  -0.211713, \n",
    "  0.025525,  -0.100865,  -0.225711,   0.134458,   0.220855, \n",
    " -0.239842,   0.146481,   0.157469,  -0.084636,  -0.038788, \n",
    "  0.191114,  -0.167495,  -0.173886,  -0.139361,   0.158124, \n",
    " -0.115619,  -0.110832,  -0.246506,  -0.111697,   0.200255, \n",
    " -0.102728,   0.147022,   0.137019,  -0.311401,  -0.028076, \n",
    "  0.157916,   0.121854,   0.070941,   0.097209,   0.174835, \n",
    " -0.277731,  -0.058498,   0.078470,   0.078470,   0.079650, \n",
    "  0.079650,  -0.239752,  -0.093417,   0.013395,   0.065722, \n",
    "  0.252234,   0.002507,   0.097142,   0.176412,   0.012295, \n",
    " -0.109919,  -0.253222,   0.062514,  -0.121338,  -0.239217, \n",
    "  0.179990,   0.225267,  -0.293594,   0.084407,   0.078470, \n",
    "  0.163374,  -0.156555,  -0.027891,   0.267086,  -0.220163, \n",
    " -0.153943,  -0.138332,   0.156524,  -0.068274,  -0.107757, \n",
    " -0.248650,  -0.083734,   0.150618,  -0.128876,   0.155916, \n",
    "  0.171802,  -0.332583,  -0.033320,   0.071492,   0.147678, \n",
    "  0.114573,   0.140265,   0.115307,  -0.249021,  -0.028279, \n",
    "  0.077074,   0.077074,   0.068191,   0.068191,   0.079650, \n",
    "  0.068191,   0.077074,   0.085617,  -0.262181,  -0.058425, \n",
    "  0.004567,   0.054389,   0.245865,   0.006966,   0.178357, \n",
    "  0.134007,   0.098000,   0.031254,  -0.152193,  -0.172248, \n",
    "  0.024457,  -0.114391,  -0.218354,   0.183237,   0.211562, \n",
    " -0.273990,   0.125284,   0.158656,  -0.144065,  -0.033540, \n",
    "  0.216218,  -0.188581,  -0.155284,  -0.157807,   0.156199, \n",
    " -0.078857,  -0.117411,  -0.254610,  -0.097991,   0.198924, \n",
    " -0.133192,   0.153092,   0.142005,  -0.306650,  -0.071477, \n",
    "  0.168597,   0.113979,   0.075060,   0.107961,   0.177382, \n",
    " -0.281830,  -0.022927,   0.092650,   0.092650,   0.069410, \n",
    "  0.069410,  -0.234824,  -0.088279,  -0.010610,   0.098104, \n",
    "  0.235745,  -0.003237,   0.091918,   0.181039,  -0.033203, \n",
    " -0.007199,  -0.314039,  -0.121585,  -0.064129,  -0.269034, \n",
    "  0.181444,   0.222313,  -0.282548,   0.200030,   0.092650, \n",
    "  0.175556,  -0.124800,  -0.033037,   0.242958,  -0.205747, \n",
    " -0.157096,  -0.151879,   0.158719,  -0.061573,  -0.112321, \n",
    " -0.250936,  -0.103306,   0.194760,  -0.137261,   0.151524, \n",
    "  0.175522,  -0.320888,  -0.048925,   0.069816,   0.146477, \n",
    "  0.121450,   0.141797,   0.115735,  -0.282016,  -0.026049, \n",
    "  0.084407,   0.084407,   0.070941,   0.070941]"
   ]
  },
  {
   "cell_type": "markdown",
   "metadata": {},
   "source": [
    "In the next cell, we are using the partial charges to derive a Force-Field using the MMForceFieldGenerator class."
   ]
  },
  {
   "cell_type": "code",
   "execution_count": null,
   "metadata": {},
   "outputs": [],
   "source": [
    "ff_gen = vlx.MMForceFieldGenerator()\n",
    "ff_gen.partial_charges = partial_charges\n",
    "ff_gen.create_topology(molecule)\n"
   ]
  },
  {
   "cell_type": "markdown",
   "metadata": {},
   "source": [
    "Once a force field is derived, different functions can be used which use the OpenMM library to perform molecular dynamics simulations. This is available in the OpenMMDynamics class. The next cell gives an example how to run a MD."
   ]
  },
  {
   "cell_type": "code",
   "execution_count": null,
   "metadata": {},
   "outputs": [],
   "source": [
    "opm_dyn = vlx.OpenMMDynamics()\n",
    "opm_dyn.create_system_from_molecule(molecule,\n",
    "                                    ff_gen,\n",
    "                                    filename='tq-polymer',\n",
    "                                    residue_name='MOL')\n",
    "opm_dyn.run_md(\n",
    "            ensemble='NVE',\n",
    "            temperature=300, \n",
    "            timestep=2.0, \n",
    "            nsteps=100000, \n",
    "            traj_file='tq_polymer_md.pdb')"
   ]
  },
  {
   "cell_type": "markdown",
   "metadata": {},
   "source": [
    "Moreover, we have developed a function to extract conformers from the MD simulation at high temperature. The user can define a number of snapshots that will be optimized and save. In addition, those snapshots can be filtered to avoid that the same conformer is present multiple timess by using the option unique_conformers."
   ]
  },
  {
   "cell_type": "code",
   "execution_count": null,
   "metadata": {},
   "outputs": [],
   "source": [
    "conformers_dict = opm_dyn.conformational_sampling(\n",
    "                                ensemble='NVT', \n",
    "                                temperature=1000, \n",
    "                                timestep=2.0, \n",
    "                                nsteps=100000, \n",
    "                                snapshots=500,\n",
    "                                unique_conformers=True,\n",
    "                                qm_driver=None,\n",
    "                                basis=None,\n",
    "                                constraints=None)"
   ]
  },
  {
   "cell_type": "code",
   "execution_count": null,
   "metadata": {},
   "outputs": [],
   "source": [
    "opm_dyn.show_conformers(number=10)"
   ]
  },
  {
   "cell_type": "code",
   "execution_count": null,
   "metadata": {},
   "outputs": [],
   "source": [
    "# plot the distribution of the relative energies of the conformers\n",
    "import matplotlib.pyplot as plt\n",
    "import numpy as np\n",
    "\n",
    "fig, ax = plt.subplots(figsize=(8, 4))\n",
    "ax.hist(conformers_dict['energies']-np.min(conformers_dict['energies']),\n",
    "        bins=50, \n",
    "        color='darkcyan', \n",
    "        alpha=0.7)\n",
    "plt.xlabel('Relative Energy (kJ/mol)')\n",
    "plt.ylabel('Number of Conformers')\n",
    "\n",
    "plt.savefig('conformer_energy_distribution.pdf')\n",
    "plt.show()\n"
   ]
  },
  {
   "cell_type": "code",
   "execution_count": null,
   "metadata": {},
   "outputs": [],
   "source": [
    "# show the most stable conformer and write it to an XYZ file\n",
    "conformers_dict['molecules'][0].show()\n",
    "conformers_dict['molecules'][0].write_xyz_file('tq-polymer-0.xyz')\n"
   ]
  }
 ],
 "metadata": {
  "kernelspec": {
   "display_name": "vlx-github",
   "language": "python",
   "name": "python3"
  },
  "language_info": {
   "codemirror_mode": {
    "name": "ipython",
    "version": 3
   },
   "file_extension": ".py",
   "mimetype": "text/x-python",
   "name": "python",
   "nbconvert_exporter": "python",
   "pygments_lexer": "ipython3",
   "version": "3.12.8"
  }
 },
 "nbformat": 4,
 "nbformat_minor": 2
}
