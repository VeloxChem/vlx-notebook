{
 "cells": [
  {
   "cell_type": "markdown",
   "metadata": {},
   "source": [
    "# Conformer generator"
   ]
  },
  {
   "cell_type": "code",
   "execution_count": null,
   "metadata": {},
   "outputs": [],
   "source": [
    "import veloxchem as vlx"
   ]
  },
  {
   "cell_type": "markdown",
   "metadata": {},
   "source": [
    "We define a structure by using a SMILES string."
   ]
  },
  {
   "cell_type": "code",
   "execution_count": null,
   "metadata": {},
   "outputs": [],
   "source": [
    "molecule = vlx.Molecule.read_smiles(\n",
    "    \"CC1([C@@H](N2[C@H](S1)[C@@H](C2=O)NC(=O)CC3=CC=CC=C3)C(=O)O)C\"\n",
    ")  # this is SMILES for Penicillin G\n",
    "molecule.show(atom_indices=True)"
   ]
  },
  {
   "cell_type": "markdown",
   "metadata": {},
   "source": [
    "ConformerGenerator class can generate all possible conformations and apply energy minimization process with MMforcefield"
   ]
  },
  {
   "cell_type": "code",
   "execution_count": null,
   "metadata": {},
   "outputs": [],
   "source": [
    "conf = vlx.ConformerGenerator()\n",
    "conformers_dict = conf.generate(molecule)"
   ]
  },
  {
   "cell_type": "markdown",
   "metadata": {},
   "source": [
    "show the lowest energy conformer"
   ]
  },
  {
   "cell_type": "code",
   "execution_count": null,
   "metadata": {},
   "outputs": [],
   "source": [
    "conf.show_global_minimum()"
   ]
  },
  {
   "cell_type": "markdown",
   "metadata": {},
   "source": [
    " show more conformers"
   ]
  },
  {
   "cell_type": "code",
   "execution_count": null,
   "metadata": {},
   "outputs": [],
   "source": [
    "conf.show_conformers(number=3, atom_indices=True)"
   ]
  },
  {
   "cell_type": "markdown",
   "metadata": {},
   "source": [
    "we can provide resp charges as partial charges to improve the used MMforcefield quality"
   ]
  },
  {
   "cell_type": "code",
   "execution_count": null,
   "metadata": {},
   "outputs": [],
   "source": [
    "basis = vlx.MolecularBasis.read(molecule, \"6-31g*\")\n",
    "resp = vlx.RespChargesDriver()\n",
    "resp.ostream.mute()\n",
    "partial_charges = resp.compute(molecule, basis, 'resp')"
   ]
  },
  {
   "cell_type": "code",
   "execution_count": null,
   "metadata": {},
   "outputs": [],
   "source": [
    "conf = vlx.ConformerGenerator()\n",
    "conf.partial_charges = partial_charges\n",
    "conformers_dict = conf.generate(molecule)\n",
    "conf.show_global_minimum(atom_indices=True)"
   ]
  },
  {
   "cell_type": "markdown",
   "metadata": {},
   "source": [
    "we can apply implicit solvent model for the energy minimization "
   ]
  },
  {
   "cell_type": "code",
   "execution_count": null,
   "metadata": {},
   "outputs": [],
   "source": [
    "conf = vlx.ConformerGenerator()\n",
    "conf.ostream.mute()\n",
    "conf.show_available_implicit_solvent_models()\n",
    "conf.implicit_solvent_model = \"hct\"  #here we set Hawkins-Cramer-Truhlar GBSA model\n",
    "conformers_dict = conf.generate(molecule)\n",
    "conf.show_global_minimum(atom_indices=True)"
   ]
  },
  {
   "cell_type": "markdown",
   "metadata": {},
   "source": [
    "show more conformers"
   ]
  },
  {
   "cell_type": "code",
   "execution_count": null,
   "metadata": {},
   "outputs": [],
   "source": [
    "conf.show_conformers(number=3, atom_indices=True)"
   ]
  },
  {
   "cell_type": "markdown",
   "metadata": {},
   "source": [
    "# Extract conformer from an MD simulation"
   ]
  },
  {
   "cell_type": "markdown",
   "metadata": {},
   "source": [
    "Using the OpenMMDynamics class, we can perform Molecular Dynamics"
   ]
  },
  {
   "cell_type": "code",
   "execution_count": null,
   "metadata": {},
   "outputs": [],
   "source": [
    "molecule = vlx.Molecule.read_xyz_file(\"data/phenylalanine.xyz\")\n",
    "molecule.show(atom_indices=True)"
   ]
  },
  {
   "cell_type": "markdown",
   "metadata": {},
   "source": [
    "Once a force field is derived, different functions can be used which use the OpenMM library to perform molecular dynamics simulations. This is available in the OpenMMDynamics class. For instance to perform a molecular dynamics:*"
   ]
  },
  {
   "cell_type": "code",
   "execution_count": null,
   "metadata": {},
   "outputs": [],
   "source": [
    "ff_gen = vlx.MMForceFieldGenerator()\n",
    "ff_gen.create_topology(molecule)\n",
    "opm_dyn = vlx.OpenMMDynamics()\n",
    "opm_dyn.create_system_from_molecule(molecule,\n",
    "                                    ff_gen,\n",
    "                                    filename='phenylalanine',\n",
    "                                    residue_name='MOL')\n",
    "opm_dyn.run_md(ensemble='NVE', temperature=300, timestep=2.0, nsteps=100000, traj_file='phenylalanine_md.pdb')"
   ]
  },
  {
   "cell_type": "markdown",
   "metadata": {},
   "source": [
    "Moreover, we have developed a function to extract conformers from the MD simulation at high temperature. The user can define a number of snapshots to be saved and decide to optimize them or not. In addition, those snapshots can be filtered to avoid that the same conformer is present multiple timess by using the option unique conformers."
   ]
  },
  {
   "cell_type": "code",
   "execution_count": null,
   "metadata": {},
   "outputs": [],
   "source": [
    "opm_energies, opm_geometries = opm_dyn.conformational_sampling(ensemble='NVT', \n",
    "                                temperature=1000, \n",
    "                                timestep=2.0, \n",
    "                                nsteps=100000, \n",
    "                                snapshots=500,\n",
    "                                unique_conformers=True,\n",
    "                                qm_driver=None,\n",
    "                                basis=None,\n",
    "                                constraints=None)"
   ]
  }
 ],
 "metadata": {
  "kernelspec": {
   "display_name": "vlx-github",
   "language": "python",
   "name": "python3"
  },
  "language_info": {
   "codemirror_mode": {
    "name": "ipython",
    "version": 3
   },
   "file_extension": ".py",
   "mimetype": "text/x-python",
   "name": "python",
   "nbconvert_exporter": "python",
   "pygments_lexer": "ipython3",
   "version": "3.12.8"
  }
 },
 "nbformat": 4,
 "nbformat_minor": 2
}
