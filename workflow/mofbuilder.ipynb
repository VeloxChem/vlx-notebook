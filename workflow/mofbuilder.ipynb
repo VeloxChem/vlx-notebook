{
 "cells": [
  {
   "cell_type": "markdown",
   "metadata": {},
   "source": [
    "# **MOF builder**"
   ]
  },
  {
   "cell_type": "markdown",
   "metadata": {},
   "source": [
    "This is a notebook for builidng a Metal Organic Framework (MOF). First, we initialize the `MofBuilder` and show all available MOFs families:"
   ]
  },
  {
   "cell_type": "code",
   "execution_count": null,
   "metadata": {},
   "outputs": [],
   "source": [
    "import veloxchem as vlx\n",
    "\n",
    "mof = vlx.MofBuilder()\n",
    "# The next line can be skipped if you know the family name\n",
    "mof.show_available_mof_families()  "
   ]
  },
  {
   "cell_type": "markdown",
   "metadata": {},
   "source": [
    "To build a target MOF, one needs to: \n",
    "1. assign MOF family\n",
    "2. assign the node metal type \n",
    "3. upload the linker file (with carboxylate) in xyz format\n",
    "\n",
    "\n",
    "One can also set the supercell size of the model, then we can ***build*** the MOF, and save the model with gromacs file format, as well as show it:"
   ]
  },
  {
   "cell_type": "code",
   "execution_count": null,
   "metadata": {},
   "outputs": [],
   "source": [
    "mof.mof_family = 'UiO-66'\n",
    "mof.node_metal = 'Zr'\n",
    "mof.linker_xyz_file = 'data/linker.xyz'\n",
    "mof.supercell = (1, 1, 1)  # (1,1,1) means primitive cell\n",
    "mof.build()\n",
    "mof.show(residue_indices=True, residue_names=False)"
   ]
  },
  {
   "cell_type": "markdown",
   "metadata": {},
   "source": [
    "We can make defective models by removing linkers or nodes.\n",
    "In this example we just want to remove the linker in the corner:"
   ]
  },
  {
   "cell_type": "code",
   "execution_count": null,
   "metadata": {},
   "outputs": [],
   "source": [
    "# The index of the linkers or nodes to be removed can be shown \n",
    "# in the last cell output.\n",
    "# Remove the linker with index \"17, 18, 19\"\n",
    "mof.remove(linkers=[17, 18, 39], update_node_termination=True)  \n",
    "mof.show(residue_indices=True)\n",
    "mof.write_gromacs_files()"
   ]
  }
 ],
 "metadata": {
  "kernelspec": {
   "display_name": "vlxenv-workflow-paper",
   "language": "python",
   "name": "vlxenv-workflow-paper"
  },
  "language_info": {
   "codemirror_mode": {
    "name": "ipython",
    "version": 3
   },
   "file_extension": ".py",
   "mimetype": "text/x-python",
   "name": "python",
   "nbconvert_exporter": "python",
   "pygments_lexer": "ipython3",
   "version": "3.13.5"
  }
 },
 "nbformat": 4,
 "nbformat_minor": 4
}
