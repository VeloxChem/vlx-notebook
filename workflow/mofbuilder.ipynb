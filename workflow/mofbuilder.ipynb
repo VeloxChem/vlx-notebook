{
 "cells": [
  {
   "cell_type": "markdown",
   "metadata": {},
   "source": [
    "# MOF(metal organic framework) Builder \n",
    "initialize the Mofbuilder and ask the Mofbuilder to show all available MOFs family"
   ]
  },
  {
   "cell_type": "code",
   "execution_count": 1,
   "metadata": {},
   "outputs": [
    {
     "name": "stdout",
     "output_type": "stream",
     "text": [
      "/home/linares/miniconda3/envs/vlx-github/lib/python3.12/site-packages/veloxchem/database\n",
      "Available MOF Family:\n",
      "UiO-66 UiO-67 UiO-68 PCN-222 MOF-545 NU-1000 PCN-224 MOF-525 MOF-535 MOF-808 MOF-818 PCN-777 NU-901 MIL-100 PCN-228 PCN-229 PCN-230 MIL-101\n"
     ]
    }
   ],
   "source": [
    "import veloxchem as vlx\n",
    "\n",
    "mof = vlx.MofBuilder()\n",
    "mof.show_available_mof_families()  # can be skipped if you know the family name"
   ]
  },
  {
   "cell_type": "markdown",
   "metadata": {},
   "source": [
    "To build a target MOF, you need to: \n",
    "1. assign MOF family\n",
    "2. assign the node metal type \n",
    "3. upload the linker file (with carboxylate) in xyz format \\\n",
    "\n",
    "\n",
    "you can also set the supercell size of the model \\\n",
    "then we can ***build*** the MOF \\\n",
    "we can save the model with gromacs file format and show it"
   ]
  },
  {
   "cell_type": "code",
   "execution_count": 2,
   "metadata": {},
   "outputs": [
    {
     "name": "stdout",
     "output_type": "stream",
     "text": [
      "UiO-66 selected\n",
      "available metal nodes: ['Zr', 'Hf']\n",
      "please select a metal node\n",
      "will search template cif files in /home/linares/miniconda3/envs/vlx-github/lib/python3.12/site-packages/veloxchem/database/template_database\n",
      "fcu.cif is found in template_database\n",
      "fcu.cif will be used for MOF building\n",
      "Zr node is selected\n",
      "found the file including ['12c', 'Zr']\n",
      "File copied from /home/linares/miniconda3/envs/vlx-github/lib/python3.12/site-packages/veloxchem/database/nodes_database/12c_Zr.pdb to nodes/12c_Zr.pdb\n",
      "nodes/12c_Zr.pdb is fetched\n",
      "default node without dummy atoms will be usednodes/12c_Zr.pdb\n",
      "nodes will be saved in nodes\n",
      "found the file including ['12c', 'Zr']\n",
      "2 is selected for linker splitting\n",
      "center is two points\n",
      "[9, 14]\n",
      "ditopic linker: center are two points\n",
      "find connected X in edge:   24\n",
      "find connected X in edge:   39\n",
      "pairXs: [24, 39]\n",
      "linker_center_frag: 46 [18, 33]\n",
      "linker edge fragment edges/diedge.pdb is saved and will be used for MOF building\n",
      "--------------------------------------------------------------------------------\n",
      "                     Preparation is completed                     \n",
      "--------------------------------------------------------------------------------\n",
      "MOF builder is ready to build\n",
      "ditopic mof builder driver is called\n",
      " no symmetry operation\n",
      " no symmetry operation\n",
      "trying to read pdb file nodes/12c_Zr.pdb\n",
      "trying to read pdb file edges/diedge.pdb\n",
      "--------------------------------------------------------------------------------\n",
      "                     start to optimize the rotations                     \n",
      "--------------------------------------------------------------------------------\n"
     ]
    },
    {
     "name": "stderr",
     "output_type": "stream",
     "text": [
      "/home/linares/miniconda3/envs/vlx-github/lib/python3.12/site-packages/veloxchem/mofutils.py:3155: SyntaxWarning: invalid escape sequence '\\d'\n",
      "  value_label = re.sub(\"\\d\", \"\", line[2]) + str(ind_inres)  # atom_label\n"
     ]
    },
    {
     "ename": "NameError",
     "evalue": "name 'assert_msg_critical' is not defined",
     "output_type": "error",
     "traceback": [
      "\u001b[0;31m---------------------------------------------------------------------------\u001b[0m",
      "\u001b[0;31mNameError\u001b[0m                                 Traceback (most recent call last)",
      "Cell \u001b[0;32mIn[2], line 5\u001b[0m\n\u001b[1;32m      3\u001b[0m mof\u001b[38;5;241m.\u001b[39mlinker_xyz_file \u001b[38;5;241m=\u001b[39m \u001b[38;5;124m'\u001b[39m\u001b[38;5;124mdata/linker.xyz\u001b[39m\u001b[38;5;124m'\u001b[39m\n\u001b[1;32m      4\u001b[0m mof\u001b[38;5;241m.\u001b[39msupercell \u001b[38;5;241m=\u001b[39m (\u001b[38;5;241m1\u001b[39m,\u001b[38;5;241m1\u001b[39m,\u001b[38;5;241m1\u001b[39m) \u001b[38;5;66;03m# (1,1,1) means primitive cell \u001b[39;00m\n\u001b[0;32m----> 5\u001b[0m \u001b[43mmof\u001b[49m\u001b[38;5;241;43m.\u001b[39;49m\u001b[43mbuild\u001b[49m\u001b[43m(\u001b[49m\u001b[43m)\u001b[49m\n\u001b[1;32m      6\u001b[0m mof\u001b[38;5;241m.\u001b[39mwrite_gromacs_files()\n\u001b[1;32m      7\u001b[0m mof\u001b[38;5;241m.\u001b[39mshow(res_indices\u001b[38;5;241m=\u001b[39m\u001b[38;5;28;01mTrue\u001b[39;00m,res_names\u001b[38;5;241m=\u001b[39m\u001b[38;5;28;01mFalse\u001b[39;00m)\n",
      "File \u001b[0;32m~/miniconda3/envs/vlx-github/lib/python3.12/site-packages/veloxchem/mofbuilder.py:231\u001b[0m, in \u001b[0;36mMofBuilder.build\u001b[0;34m(self)\u001b[0m\n\u001b[1;32m    229\u001b[0m \u001b[38;5;28mself\u001b[39m\u001b[38;5;241m.\u001b[39mnet\u001b[38;5;241m.\u001b[39mnode_info(node_pdb)\n\u001b[1;32m    230\u001b[0m \u001b[38;5;28mself\u001b[39m\u001b[38;5;241m.\u001b[39mnet\u001b[38;5;241m.\u001b[39mlinker_info(linker_pdb)\n\u001b[0;32m--> 231\u001b[0m \u001b[38;5;28;43mself\u001b[39;49m\u001b[38;5;241;43m.\u001b[39;49m\u001b[43mnet\u001b[49m\u001b[38;5;241;43m.\u001b[39;49m\u001b[43moptimize\u001b[49m\u001b[43m(\u001b[49m\u001b[43m)\u001b[49m\n\u001b[1;32m    232\u001b[0m \u001b[38;5;28mprint\u001b[39m(\u001b[38;5;124m\"\u001b[39m\u001b[38;5;124m-\u001b[39m\u001b[38;5;124m\"\u001b[39m \u001b[38;5;241m*\u001b[39m \u001b[38;5;241m80\u001b[39m)\n\u001b[1;32m    233\u001b[0m \u001b[38;5;28mprint\u001b[39m(\n\u001b[1;32m    234\u001b[0m     \u001b[38;5;124m\"\u001b[39m\u001b[38;5;124m \u001b[39m\u001b[38;5;124m\"\u001b[39m \u001b[38;5;241m*\u001b[39m \u001b[38;5;241m15\u001b[39m,\n\u001b[1;32m    235\u001b[0m     \u001b[38;5;124m\"\u001b[39m\u001b[38;5;124mBuilding time cost: \u001b[39m\u001b[38;5;132;01m%.5f\u001b[39;00m\u001b[38;5;124m seconds \u001b[39m\u001b[38;5;124m\"\u001b[39m \u001b[38;5;241m%\u001b[39m (time\u001b[38;5;241m.\u001b[39mtime() \u001b[38;5;241m-\u001b[39m start_time),\n\u001b[1;32m    236\u001b[0m )\n",
      "File \u001b[0;32m~/miniconda3/envs/vlx-github/lib/python3.12/site-packages/veloxchem/mofutils.py:3687\u001b[0m, in \u001b[0;36mNetOptimizer.optimize\u001b[0;34m(self)\u001b[0m\n\u001b[1;32m   3660\u001b[0m initial_guess_set_rotations \u001b[38;5;241m=\u001b[39m (\n\u001b[1;32m   3661\u001b[0m     np\u001b[38;5;241m.\u001b[39meye(\u001b[38;5;241m3\u001b[39m, \u001b[38;5;241m3\u001b[39m)\u001b[38;5;241m.\u001b[39mreshape(\u001b[38;5;241m1\u001b[39m, \u001b[38;5;241m3\u001b[39m, \u001b[38;5;241m3\u001b[39m)\u001b[38;5;241m.\u001b[39mrepeat(\u001b[38;5;28mlen\u001b[39m(pname_set), axis\u001b[38;5;241m=\u001b[39m\u001b[38;5;241m0\u001b[39m)\n\u001b[1;32m   3662\u001b[0m )\n\u001b[1;32m   3664\u001b[0m \u001b[38;5;66;03m##\u001b[39;00m\n\u001b[1;32m   3665\u001b[0m \u001b[38;5;66;03m# (\u001b[39;00m\n\u001b[1;32m   3666\u001b[0m \u001b[38;5;66;03m#    optimized_rotations_pre,\u001b[39;00m\n\u001b[0;32m   (...)\u001b[0m\n\u001b[1;32m   3681\u001b[0m \u001b[38;5;66;03m#    iprint=self.iprint,\u001b[39;00m\n\u001b[1;32m   3682\u001b[0m \u001b[38;5;66;03m# )\u001b[39;00m\n\u001b[1;32m   3684\u001b[0m (\n\u001b[1;32m   3685\u001b[0m     optimized_set_rotations,\n\u001b[1;32m   3686\u001b[0m     _,\n\u001b[0;32m-> 3687\u001b[0m ) \u001b[38;5;241m=\u001b[39m \u001b[43moptimize_rotations_after\u001b[49m\u001b[43m(\u001b[49m\n\u001b[1;32m   3688\u001b[0m \u001b[43m    \u001b[49m\u001b[43mnum_nodes\u001b[49m\u001b[43m,\u001b[49m\n\u001b[1;32m   3689\u001b[0m \u001b[43m    \u001b[49m\u001b[43mG\u001b[49m\u001b[43m,\u001b[49m\n\u001b[1;32m   3690\u001b[0m \u001b[43m    \u001b[49m\u001b[43msorted_nodes\u001b[49m\u001b[43m,\u001b[49m\n\u001b[1;32m   3691\u001b[0m \u001b[43m    \u001b[49m\u001b[43msorted_edges_of_sortednodeidx\u001b[49m\u001b[43m,\u001b[49m\n\u001b[1;32m   3692\u001b[0m \u001b[43m    \u001b[49m\u001b[43mXatoms_positions_dict\u001b[49m\u001b[43m,\u001b[49m\n\u001b[1;32m   3693\u001b[0m \u001b[43m    \u001b[49m\u001b[43minitial_guess_set_rotations\u001b[49m\u001b[43m,\u001b[49m\n\u001b[1;32m   3694\u001b[0m \u001b[43m    \u001b[49m\u001b[38;5;66;43;03m# optimized_rotations_pre,\u001b[39;49;00m\n\u001b[1;32m   3695\u001b[0m \u001b[43m    \u001b[49m\u001b[43mpname_set_dict\u001b[49m\u001b[43m,\u001b[49m\n\u001b[1;32m   3696\u001b[0m \u001b[43m    \u001b[49m\u001b[43mopt_method\u001b[49m\u001b[38;5;241;43m=\u001b[39;49m\u001b[38;5;28;43mself\u001b[39;49m\u001b[38;5;241;43m.\u001b[39;49m\u001b[43mopt_method\u001b[49m\u001b[43m,\u001b[49m\n\u001b[1;32m   3697\u001b[0m \u001b[43m    \u001b[49m\u001b[43mmaxfun\u001b[49m\u001b[38;5;241;43m=\u001b[39;49m\u001b[38;5;28;43mself\u001b[39;49m\u001b[38;5;241;43m.\u001b[39;49m\u001b[43mmaxfun\u001b[49m\u001b[43m,\u001b[49m\n\u001b[1;32m   3698\u001b[0m \u001b[43m    \u001b[49m\u001b[43mmaxiter\u001b[49m\u001b[38;5;241;43m=\u001b[39;49m\u001b[38;5;28;43mself\u001b[39;49m\u001b[38;5;241;43m.\u001b[39;49m\u001b[43mmaxiter\u001b[49m\u001b[43m,\u001b[49m\n\u001b[1;32m   3699\u001b[0m \u001b[43m    \u001b[49m\u001b[43mdisp\u001b[49m\u001b[38;5;241;43m=\u001b[39;49m\u001b[38;5;28;43mself\u001b[39;49m\u001b[38;5;241;43m.\u001b[39;49m\u001b[43mdisplay\u001b[49m\u001b[43m,\u001b[49m\n\u001b[1;32m   3700\u001b[0m \u001b[43m    \u001b[49m\u001b[43meps\u001b[49m\u001b[38;5;241;43m=\u001b[39;49m\u001b[38;5;28;43mself\u001b[39;49m\u001b[38;5;241;43m.\u001b[39;49m\u001b[43meps\u001b[49m\u001b[43m,\u001b[49m\n\u001b[1;32m   3701\u001b[0m \u001b[43m    \u001b[49m\u001b[43miprint\u001b[49m\u001b[38;5;241;43m=\u001b[39;49m\u001b[38;5;28;43mself\u001b[39;49m\u001b[38;5;241;43m.\u001b[39;49m\u001b[43miprint\u001b[49m\u001b[43m,\u001b[49m\n\u001b[1;32m   3702\u001b[0m \u001b[43m\u001b[49m\u001b[43m)\u001b[49m\n\u001b[1;32m   3703\u001b[0m \u001b[38;5;28mprint\u001b[39m(\u001b[38;5;124m\"\u001b[39m\u001b[38;5;124m-\u001b[39m\u001b[38;5;124m\"\u001b[39m \u001b[38;5;241m*\u001b[39m \u001b[38;5;241m80\u001b[39m)\n\u001b[1;32m   3704\u001b[0m \u001b[38;5;28mprint\u001b[39m(\u001b[38;5;124m\"\u001b[39m\u001b[38;5;124m \u001b[39m\u001b[38;5;124m\"\u001b[39m \u001b[38;5;241m*\u001b[39m \u001b[38;5;241m20\u001b[39m, \u001b[38;5;124m\"\u001b[39m\u001b[38;5;124mrotations optimization completed\u001b[39m\u001b[38;5;124m\"\u001b[39m, \u001b[38;5;124m\"\u001b[39m\u001b[38;5;124m \u001b[39m\u001b[38;5;124m\"\u001b[39m \u001b[38;5;241m*\u001b[39m \u001b[38;5;241m20\u001b[39m)\n",
      "File \u001b[0;32m~/miniconda3/envs/vlx-github/lib/python3.12/site-packages/veloxchem/mofoptimizer.py:335\u001b[0m, in \u001b[0;36moptimize_rotations_after\u001b[0;34m(num_nodes, G, sorted_nodes, sorted_edges, atom_positions, initial_rotations, pname_set_dict, opt_method, maxfun, maxiter, disp, eps, iprint)\u001b[0m\n\u001b[1;32m    309\u001b[0m \u001b[38;5;28;01mdef\u001b[39;00m\u001b[38;5;250m \u001b[39m\u001b[38;5;21moptimize_rotations_after\u001b[39m(\n\u001b[1;32m    310\u001b[0m     num_nodes,\n\u001b[1;32m    311\u001b[0m     G,\n\u001b[0;32m   (...)\u001b[0m\n\u001b[1;32m    322\u001b[0m     iprint,\n\u001b[1;32m    323\u001b[0m ):\n\u001b[1;32m    324\u001b[0m \u001b[38;5;250m    \u001b[39m\u001b[38;5;124;03m\"\"\"\u001b[39;00m\n\u001b[1;32m    325\u001b[0m \u001b[38;5;124;03m    Optimize rotations for all nodes in the graph.\u001b[39;00m\n\u001b[1;32m    326\u001b[0m \n\u001b[0;32m   (...)\u001b[0m\n\u001b[1;32m    332\u001b[0m \u001b[38;5;124;03m        list: Optimized rotation matrices for all nodes.\u001b[39;00m\n\u001b[1;32m    333\u001b[0m \u001b[38;5;124;03m    \"\"\"\u001b[39;00m\n\u001b[0;32m--> 335\u001b[0m     \u001b[43massert_msg_critical\u001b[49m(\n\u001b[1;32m    336\u001b[0m         \u001b[38;5;124m\"\u001b[39m\u001b[38;5;124mscipy\u001b[39m\u001b[38;5;124m\"\u001b[39m \u001b[38;5;129;01min\u001b[39;00m sys\u001b[38;5;241m.\u001b[39mmodules, \u001b[38;5;124m\"\u001b[39m\u001b[38;5;124mscipy is required for optimize_rotations_after.\u001b[39m\u001b[38;5;124m\"\u001b[39m\n\u001b[1;32m    337\u001b[0m     )\n\u001b[1;32m    339\u001b[0m     \u001b[38;5;28mprint\u001b[39m(\u001b[38;5;124m\"\u001b[39m\u001b[38;5;124moptimize_rotations information:\u001b[39m\u001b[38;5;124m\"\u001b[39m)\n\u001b[1;32m    340\u001b[0m     \u001b[38;5;28mprint\u001b[39m(\u001b[38;5;124m\"\u001b[39m\u001b[38;5;124mopt_method:\u001b[39m\u001b[38;5;124m\"\u001b[39m, opt_method)\n",
      "\u001b[0;31mNameError\u001b[0m: name 'assert_msg_critical' is not defined"
     ]
    }
   ],
   "source": [
    "mof.mof_family = 'UiO-66'\n",
    "mof.node_metal = 'Zr'\n",
    "mof.linker_xyz_file = 'data/linker.xyz'\n",
    "mof.supercell = (1, 1, 1)  # (1,1,1) means primitive cell\n",
    "mof.build()\n",
    "mof.show(res_indices=True, res_names=False)"
   ]
  },
  {
   "cell_type": "markdown",
   "metadata": {},
   "source": [
    "we can make defective models by remove linkers or nodes \\\n",
    "here we just want to remove the linker in the corner "
   ]
  },
  {
   "cell_type": "code",
   "execution_count": null,
   "metadata": {},
   "outputs": [],
   "source": [
    "#the index of the linkers or nodes to be removed can be shown in the last cell output\n",
    "mof.remove(linkers=[17, 18, 39], update_node_termination=True)  # remove the linker with index \"17, 18, 19\"\n",
    "mof.show(res_indices=True)\n",
    "mof.write_gromacs_files()"
   ]
  }
 ],
 "metadata": {
  "kernelspec": {
   "display_name": "vlx-github",
   "language": "python",
   "name": "python3"
  },
  "language_info": {
   "codemirror_mode": {
    "name": "ipython",
    "version": 3
   },
   "file_extension": ".py",
   "mimetype": "text/x-python",
   "name": "python",
   "nbconvert_exporter": "python",
   "pygments_lexer": "ipython3",
   "version": "3.12.8"
  }
 },
 "nbformat": 4,
 "nbformat_minor": 2
}
