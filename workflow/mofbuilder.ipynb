{
 "cells": [
  {
   "cell_type": "markdown",
   "metadata": {},
   "source": [
    "# MOF(metal organic framework) Builder \n",
    "initialize the Mofbuilder and ask the Mofbuilder to show all available MOFs family"
   ]
  },
  {
   "cell_type": "code",
   "execution_count": null,
   "metadata": {},
   "outputs": [],
   "source": [
    "import veloxchem as vlx\n",
    "\n",
    "mof = vlx.MofBuilder()\n",
    "mof.show_available_mof_families()  # can be skipped if you know the family name"
   ]
  },
  {
   "cell_type": "markdown",
   "metadata": {},
   "source": [
    "To build a target MOF, you need to: \n",
    "1. assign MOF family\n",
    "2. assign the node metal type \n",
    "3. upload the linker file (with carboxylate) in xyz format \\\n",
    "\n",
    "\n",
    "you can also set the supercell size of the model \\\n",
    "then we can ***build*** the MOF \\\n",
    "we can save the model with gromacs file format and show it"
   ]
  },
  {
   "cell_type": "code",
   "execution_count": null,
   "metadata": {},
   "outputs": [],
   "source": [
    "mof.mof_family = 'UiO-66'\n",
    "mof.node_metal = 'Zr'\n",
    "mof.linker_xyz_file = 'data/linker.xyz'\n",
    "mof.supercell = (1, 1, 1)  # (1,1,1) means primitive cell\n",
    "mof.build()\n",
    "mof.show(res_indices=True, res_names=False)"
   ]
  },
  {
   "cell_type": "markdown",
   "metadata": {},
   "source": [
    "we can make defective models by remove linkers or nodes \\\n",
    "here we just want to remove the linker in the corner "
   ]
  },
  {
   "cell_type": "code",
   "execution_count": null,
   "metadata": {},
   "outputs": [],
   "source": [
    "#the index of the linkers or nodes to be removed can be shown in the last cell output\n",
    "mof.remove(linkers=[17, 18, 39],\n",
    "           update_node_termination=True)  # remove the linker with index 33\n",
    "mof.show(res_indices=True)\n",
    "mof.write_gromacs_files()"
   ]
  }
 ],
 "metadata": {
  "kernelspec": {
   "display_name": "vlx",
   "language": "python",
   "name": "python3"
  },
  "language_info": {
   "codemirror_mode": {
    "name": "ipython",
    "version": 3
   },
   "file_extension": ".py",
   "mimetype": "text/x-python",
   "name": "python",
   "nbconvert_exporter": "python",
   "pygments_lexer": "ipython3",
   "version": "3.12.3"
  }
 },
 "nbformat": 4,
 "nbformat_minor": 2
}
