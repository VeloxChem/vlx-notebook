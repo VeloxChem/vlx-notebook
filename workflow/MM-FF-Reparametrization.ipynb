{
 "cells": [
  {
   "cell_type": "markdown",
   "id": "0f98e9a2",
   "metadata": {},
   "source": [
    "# Force-Field Definition and Reparametrization"
   ]
  },
  {
   "cell_type": "code",
   "execution_count": null,
   "id": "77ece45c-9769-448f-a584-0034d51b5b47",
   "metadata": {},
   "outputs": [],
   "source": [
    "import veloxchem as vlx\n",
    "import numpy as np\n",
    "\n",
    "# load B3LYP optimized geometry in the xyz format\n",
    "molecule = vlx.Molecule.read_xyz_file(\"data/hs276_optim_b3lyp_dev2-svp.xyz\")\n",
    "molecule.show(atom_indices=True, width=600, height=450)"
   ]
  },
  {
   "cell_type": "markdown",
   "id": "dbe770b5",
   "metadata": {},
   "source": [
    "*This part of the code load the MM Forfield Generator and create an initial topology for the molecule object. By default, RESP charges are computed at the B3LYP/6-31G* as recommended."
   ]
  },
  {
   "cell_type": "code",
   "execution_count": null,
   "id": "593b5e66-29c2-467e-9627-c28d53cbfaf6",
   "metadata": {},
   "outputs": [],
   "source": [
    "ff_gen = vlx.MMForceFieldGenerator()\n",
    "ff_gen.create_topology(molecule)\n",
    "ff_gen.write_gromacs_files('HS-276_initial', 'MOL')"
   ]
  },
  {
   "cell_type": "markdown",
   "id": "fe52a48c",
   "metadata": {},
   "source": [
    "The Force-Field Generator can identify rotatable bonds."
   ]
  },
  {
   "cell_type": "code",
   "execution_count": null,
   "id": "a9a09738",
   "metadata": {},
   "outputs": [],
   "source": [
    "rot_bonds = ff_gen.rotatable_bonds\n",
    "print(rot_bonds)"
   ]
  },
  {
   "cell_type": "markdown",
   "id": "64b58dde",
   "metadata": {},
   "source": [
    "## Reparametrization\n",
    "We will here focus on the reparametrization of the barrier around the rotatable bond [21, 22]. We use the file 16-21-22-27.xyz from the data folder containing the results from a relaxed scan around rotatable bond [21, 22], i. e. optimized geometries and energies (in the comment line for each geometries).\n"
   ]
  },
  {
   "cell_type": "code",
   "execution_count": null,
   "id": "35303b4d",
   "metadata": {},
   "outputs": [],
   "source": [
    "ff_gen.reparameterize_dihedrals(rotatable_bond=(21,22), scan_file=\"data/16-21-22-27.xyz\", \n",
    "    visualize=True)"
   ]
  },
  {
   "cell_type": "markdown",
   "id": "67fd5efa",
   "metadata": {},
   "source": [
    "The rotational barrier is now much improved but the relative energies between the two conformer minima are still not well reproduced, leading to significant errors in the statistical dihedral distributions. As a remedy to this situation, an additional dihedral potential can be added."
   ]
  },
  {
   "cell_type": "code",
   "execution_count": null,
   "id": "dabf8fc4",
   "metadata": {},
   "outputs": [],
   "source": [
    "ff_gen.add_dihedral((16, 21, 22, 27), barrier=0.0, phase=180.0, periodicity=1)"
   ]
  },
  {
   "cell_type": "markdown",
   "id": "f121e7c5",
   "metadata": {},
   "source": [
    "We can now restart the reparametrization procedure with this added dihedral angle."
   ]
  },
  {
   "cell_type": "code",
   "execution_count": null,
   "id": "7a6d69ea",
   "metadata": {},
   "outputs": [],
   "source": [
    "ff_gen.reparameterize_dihedrals(rotatable_bond=(21,22), scan_file=\"data/16-21-22-27.xyz\", \n",
    "    visualize=True, initial_validation=False)"
   ]
  },
  {
   "cell_type": "markdown",
   "id": "17fd5f7a",
   "metadata": {},
   "source": [
    "Another dihedral angle can be added for a better agreement with the QM Potential Energy Surface."
   ]
  },
  {
   "cell_type": "code",
   "execution_count": null,
   "id": "28727b14",
   "metadata": {},
   "outputs": [],
   "source": [
    "ff_gen.add_dihedral((16, 21, 22, 27), barrier=0.0, phase=0.0, periodicity=4)"
   ]
  },
  {
   "cell_type": "markdown",
   "id": "4e1f5fde",
   "metadata": {},
   "source": [
    "And start a new parametrization with this added dihedral angle."
   ]
  },
  {
   "cell_type": "code",
   "execution_count": null,
   "id": "1beee786",
   "metadata": {},
   "outputs": [],
   "source": [
    "ff_gen.reparameterize_dihedrals(rotatable_bond=(21,22), scan_file=\"data/16-21-22-27.xyz\", \n",
    "    visualize=True, initial_validation=False)"
   ]
  },
  {
   "cell_type": "markdown",
   "id": "89d01889",
   "metadata": {},
   "source": [
    "| Rotatable Bond | Max difference (kJ/mol) | Std deviation (kJ/mol) |\n",
    "|----------------|-------------------------|------------------------|\n",
    "| [21, 22]      | 0.477                   | 0.212                  |"
   ]
  },
  {
   "cell_type": "markdown",
   "id": "08cbbdfe",
   "metadata": {},
   "source": [
    "With this excellent agreement between the QM and MM Potential Energy Surface, we can now save the topology as, i. e., Gromacs ouptut files."
   ]
  },
  {
   "cell_type": "code",
   "execution_count": null,
   "id": "70aae44d",
   "metadata": {},
   "outputs": [],
   "source": [
    "ff_gen.write_gromacs_files('HS-276_final', 'MOL')"
   ]
  }
 ],
 "metadata": {
  "kernelspec": {
   "display_name": "vlx-github",
   "language": "python",
   "name": "python3"
  },
  "language_info": {
   "codemirror_mode": {
    "name": "ipython",
    "version": 3
   },
   "file_extension": ".py",
   "mimetype": "text/x-python",
   "name": "python",
   "nbconvert_exporter": "python",
   "pygments_lexer": "ipython3",
   "version": "3.12.8"
  }
 },
 "nbformat": 4,
 "nbformat_minor": 5
}
