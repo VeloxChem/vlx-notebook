{
 "cells": [
  {
   "cell_type": "markdown",
   "id": "e02603b3",
   "metadata": {},
   "source": [
    "# EVB"
   ]
  },
  {
   "cell_type": "code",
   "execution_count": null,
   "id": "9b2d3557",
   "metadata": {},
   "outputs": [],
   "source": [
    "import veloxchem as vlx"
   ]
  },
  {
   "cell_type": "markdown",
   "id": "2ab0efaa",
   "metadata": {},
   "source": [
    "Create the driver object for the EVB protocol, build the forcefields from two xyz files supplied in the `data` folder and then build the OpenMM systems that will be used for the FEP. "
   ]
  },
  {
   "cell_type": "code",
   "execution_count": null,
   "id": "beca19ea",
   "metadata": {},
   "outputs": [],
   "source": [
    "evb = vlx.EvbDriver()\n",
    "evb.name = 'Sn2'\n",
    "evb.input_folder = 'data'\n",
    "evb.build_ff_from_files('CH3Cl_Br',\n",
    "                        'CH3Br_Cl',\n",
    "                        reactant_charge=-1,\n",
    "                        product_charge=-1)\n",
    "                        \n",
    "evb.build_systems(['vacuum', 'water', 'dmf', 'acetone'])"
   ]
  },
  {
   "cell_type": "markdown",
   "id": "2112f1ab",
   "metadata": {},
   "source": [
    "Run the FEP and compute the free energy profiles based on reference values. These values correspond to the first environment psecified in the `build_systems` function, which in this case is the vacuum configuration. This will take a significant amount of time to run. It is recommended to use GPU acceleration for this. See http://docs.openmm.org/latest/userguide/application/01_getting_started.html."
   ]
  },
  {
   "cell_type": "code",
   "execution_count": null,
   "id": "c915c5cf",
   "metadata": {},
   "outputs": [],
   "source": [
    "evb.run_FEP()\n",
    "results = evb.compute_energy_profiles(barrier=42, free_energy=13.5)"
   ]
  },
  {
   "cell_type": "markdown",
   "id": "a99733de",
   "metadata": {},
   "source": [
    "The results can then plotted"
   ]
  },
  {
   "cell_type": "code",
   "execution_count": null,
   "id": "3a41fce1",
   "metadata": {},
   "outputs": [],
   "source": [
    "evb.plot_results(results)"
   ]
  }
 ],
 "metadata": {
  "kernelspec": {
   "display_name": "vlx-github",
   "language": "python",
   "name": "python3"
  },
  "language_info": {
   "codemirror_mode": {
    "name": "ipython",
    "version": 3
   },
   "file_extension": ".py",
   "mimetype": "text/x-python",
   "name": "python",
   "nbconvert_exporter": "python",
   "pygments_lexer": "ipython3",
   "version": "3.12.8"
  }
 },
 "nbformat": 4,
 "nbformat_minor": 5
}
