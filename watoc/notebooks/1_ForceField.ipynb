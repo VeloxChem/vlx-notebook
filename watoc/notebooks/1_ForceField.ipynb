{
 "cells": [
  {
   "cell_type": "markdown",
   "id": "8c665096-0907-4e08-8fb6-cc8e129ca1e0",
   "metadata": {},
   "source": [
    "# Force field generator\n",
    "GAFF2 force fields are generated using the standard bonded and LJ parameters, and atomic charges are computed using the RESP charge model, which are computed at the HF/6-31G* level by default."
   ]
  },
  {
   "cell_type": "markdown",
   "id": "fc0d6326-3b6e-41b3-a1a5-100fd9f3e057",
   "metadata": {},
   "source": [
    "The first thing we need to do is to import VeloxChem."
   ]
  },
  {
   "cell_type": "code",
   "execution_count": null,
   "id": "78fce883-dc73-41a2-956a-66751218922c",
   "metadata": {},
   "outputs": [],
   "source": [
    "import veloxchem as vlx"
   ]
  },
  {
   "cell_type": "markdown",
   "id": "e178fdc0-cba9-4495-80f4-329875454c45",
   "metadata": {},
   "source": [
    "Next we define our molecule using the ```Molecule()``` class. You can read xyz-files, xyz strings, pdb-files etc. Here we will use RDKit to generate the coordinates from a SMILES code. The ```.show()``` function calls py3Dmol to display the structure."
   ]
  },
  {
   "cell_type": "code",
   "execution_count": null,
   "id": "c3cfd5ec-e58f-46dd-a117-ae529e4d8e4e",
   "metadata": {},
   "outputs": [],
   "source": [
    "molecule = vlx.Molecule.read_smiles('NCCCC(=O)O')\n",
    "molecule.show(atom_indices=True)\n",
    "print(molecule.get_xyz_string())"
   ]
  },
  {
   "cell_type": "markdown",
   "id": "d498b2f1-4012-4b81-8ce6-115354d8fc13",
   "metadata": {},
   "source": [
    "The ```MMForceFieldGenerator()```is then stored in an object, and the ```.create_topology()``` function will identify bonding topology using NetworkX. Based on the connectivity it will assign atom types, after which all bonded and LJ parameters are generated. The charges will be computed with the RESP charge model."
   ]
  },
  {
   "cell_type": "code",
   "execution_count": null,
   "id": "8635ac6f-4745-411e-8c9f-51a431c97f7e",
   "metadata": {
    "scrolled": true
   },
   "outputs": [],
   "source": [
    "ff_gen = vlx.MMForceFieldGenerator()\n",
    "ff_gen.create_topology(molecule)"
   ]
  },
  {
   "cell_type": "markdown",
   "id": "5714f444-4fde-4d35-a60a-2e56a66aec60",
   "metadata": {},
   "source": [
    "If we want the topology and force fields written to files, there are two options 1) Gromacs files and 2) OpenMM files. The arguments are the filename and the residue name."
   ]
  },
  {
   "cell_type": "code",
   "execution_count": null,
   "id": "a8f8e41e-a6fc-404a-909f-749e1bf96df5",
   "metadata": {},
   "outputs": [],
   "source": [
    "ff_gen.write_gromacs_files('gromacs', 'MOL')\n",
    "ff_gen.write_openmm_files('openmm', 'MOL')"
   ]
  },
  {
   "cell_type": "markdown",
   "id": "6518432a-cfd4-4c4f-89ef-656ee98a5696",
   "metadata": {},
   "source": [
    "### Use non-default scf settings"
   ]
  },
  {
   "cell_type": "markdown",
   "id": "f576e67c-29ea-48e7-90b1-bec644bd9364",
   "metadata": {},
   "source": [
    "If you want to compute the charges as a different level of theory than HF/6-31G* you can compute an SCF at the other level (B3LYP/def2-SVP below), and pass the results from the scf computation to the force field generator."
   ]
  },
  {
   "cell_type": "code",
   "execution_count": null,
   "id": "14412edb-5ac7-408d-951e-246c0db5d4c4",
   "metadata": {
    "scrolled": true
   },
   "outputs": [],
   "source": [
    "basis = vlx.MolecularBasis.read(molecule, 'def2-svp')\n",
    "scf_drv = vlx.ScfRestrictedDriver()\n",
    "scf_drv.xcfun = \"b3lyp\"\n",
    "results = scf_drv.compute(molecule, basis)\n",
    "ff_gen2 = vlx.MMForceFieldGenerator()\n",
    "ff_gen2.create_topology(molecule, basis, results)\n",
    "ff_gen2.write_gromacs_files('gromacs_dft', 'MOL')"
   ]
  },
  {
   "cell_type": "code",
   "execution_count": null,
   "id": "889f6482-c178-4656-842e-1a32ef7674c0",
   "metadata": {},
   "outputs": [],
   "source": [
    "print(results)"
   ]
  },
  {
   "cell_type": "code",
   "execution_count": null,
   "id": "4105cc3b-8145-4f92-9ea9-bada3b32fc2d",
   "metadata": {},
   "outputs": [],
   "source": []
  }
 ],
 "metadata": {
  "kernelspec": {
   "display_name": "vlx_az",
   "language": "python",
   "name": "python3"
  },
  "language_info": {
   "codemirror_mode": {
    "name": "ipython",
    "version": 3
   },
   "file_extension": ".py",
   "mimetype": "text/x-python",
   "name": "python",
   "nbconvert_exporter": "python",
   "pygments_lexer": "ipython3",
   "version": "3.12.10"
  }
 },
 "nbformat": 4,
 "nbformat_minor": 5
}
