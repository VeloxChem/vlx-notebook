{
 "cells": [
  {
   "cell_type": "markdown",
   "id": "8c665096-0907-4e08-8fb6-cc8e129ca1e0",
   "metadata": {},
   "source": [
    "# Conformer search using MD\n",
    "In this notebook we generate conformers by generating a force field, running MD at high temperature and minimizing snapshots along the trajectory."
   ]
  },
  {
   "cell_type": "markdown",
   "id": "fc0d6326-3b6e-41b3-a1a5-100fd9f3e057",
   "metadata": {},
   "source": [
    "The first thing we need to do is to import VeloxChem."
   ]
  },
  {
   "cell_type": "code",
   "execution_count": null,
   "id": "78fce883-dc73-41a2-956a-66751218922c",
   "metadata": {},
   "outputs": [],
   "source": [
    "import veloxchem as vlx"
   ]
  },
  {
   "cell_type": "markdown",
   "id": "e178fdc0-cba9-4495-80f4-329875454c45",
   "metadata": {},
   "source": [
    "We will use a manganese complex with flexible side-groups containing amines from https://doi.org/10.1002/celc.202300553 "
   ]
  },
  {
   "cell_type": "code",
   "execution_count": null,
   "id": "e963347d-29fc-4f95-a6b6-f8e4c44340dd",
   "metadata": {},
   "outputs": [],
   "source": [
    "mn_bpy = \"\"\"\n",
    "Mn         0.00000        0.00000        0.00000\n",
    "C          2.58620       -1.29180        0.46370\n",
    "C          3.59640       -2.27710        0.67460\n",
    "C          3.28440       -3.61190        0.68150\n",
    "C          1.94540       -3.98510        0.45880\n",
    "C          0.99280       -2.99890        0.21190\n",
    "N          1.26900       -1.67380        0.21330\n",
    "H          4.62540       -1.96940        0.81760\n",
    "H          4.05590       -4.36280        0.83950\n",
    "H          1.64200       -5.02440        0.42730\n",
    "C          3.40650        2.81870        0.48690\n",
    "C          2.15400        2.30690        0.15970\n",
    "N          1.84920        0.98750        0.19210\n",
    "C          2.87670        0.09810        0.51050\n",
    "C          4.16250        0.58950        0.89120\n",
    "C          4.43240        1.93110        0.88830\n",
    "H          3.56820        3.88950        0.43360\n",
    "H          4.92910       -0.10590        1.21100\n",
    "H          5.41030        2.30420        1.18520\n",
    "O         -0.01190        0.01570       -2.95830\n",
    "C          0.03300        0.00040       -1.79270\n",
    "O         -2.64840       -1.26130        0.21930\n",
    "C         -1.55700       -0.86630        0.12030\n",
    "O         -1.86640        2.26590        0.17540\n",
    "C         -1.04700        1.44130        0.10100\n",
    "C         -0.51860        5.46860       -0.94830\n",
    "C         -0.26390        5.19870        0.39950\n",
    "C          0.55610        4.13280        0.76440\n",
    "C          1.14420        3.33600       -0.24360\n",
    "C          0.91940        3.62360       -1.60070\n",
    "C          0.06950        4.68670       -1.93870\n",
    "H         -1.16720        6.29900       -1.22180\n",
    "H         -0.70220        5.80830        1.18390\n",
    "H         -0.09140        4.91010       -2.99050\n",
    "C         -2.88340       -4.76240       -0.32660\n",
    "C         -2.38180       -4.52620        0.95180\n",
    "C         -1.14710       -3.89550        1.12630\n",
    "C         -0.39690       -3.51830       -0.00610\n",
    "C         -0.88340       -3.78660       -1.30120\n",
    "C         -2.13660       -4.39200       -1.44530\n",
    "H         -3.85020       -5.24650       -0.45160\n",
    "H         -2.94260       -4.81650        1.83520\n",
    "H         -2.51840       -4.59140       -2.44520\n",
    "C          1.59390        2.84910       -2.71990\n",
    "H          2.22210        2.04580       -2.30550\n",
    "H          0.81730        2.34920       -3.30300\n",
    "C         -0.05590       -3.46510       -2.53160\n",
    "H          0.26780       -2.42730       -2.47240\n",
    "H         -0.70080       -3.53870       -3.42900\n",
    "N          2.33760        3.73250       -3.63500\n",
    "N          1.14750       -4.29110       -2.63710\n",
    "C          2.10010       -3.80100       -3.63100\n",
    "H          2.85830       -4.58200       -3.76940\n",
    "H          1.63310       -3.64910       -4.62490\n",
    "C          2.80000       -2.50800       -3.19230\n",
    "H          3.59410       -2.24960       -3.90320\n",
    "H          2.11340       -1.65780       -3.14670\n",
    "H          3.23640       -2.63480       -2.19700\n",
    "C          0.90690       -5.73150       -2.68520\n",
    "H          1.87920       -6.23000       -2.57960\n",
    "H          0.32490       -6.00170       -1.79650\n",
    "C          0.19310       -6.26800       -3.93850\n",
    "H          0.08800       -7.35760       -3.88160\n",
    "H         -0.81110       -5.84290       -4.04090\n",
    "H          0.75420       -6.03130       -4.84920\n",
    "C          2.69540        3.05610       -4.88870\n",
    "H          3.44210        3.67870       -5.39770\n",
    "H          3.18130        2.07900       -4.70850\n",
    "C          1.49770        2.86380       -5.82370\n",
    "H          1.82900        2.44640       -6.78150\n",
    "H          0.75370        2.17650       -5.40740\n",
    "H          1.00440        3.82300       -6.01470\n",
    "C          3.49240        4.38330       -2.99500\n",
    "H          3.81650        5.20270       -3.65130\n",
    "H          3.13210        4.84700       -2.06990\n",
    "H          5.47230        4.07250       -2.15730\n",
    "C          4.70190        3.48770       -2.67370\n",
    "H          4.42670        2.66010       -2.01470\n",
    "H          5.15030        3.07490       -3.58390\n",
    "C          0.85040        3.81430        2.22600\n",
    "C         -0.59030       -3.62860        2.52010\n",
    "H          0.82820        2.71840        2.34870\n",
    "H          1.88490        4.11000        2.44020\n",
    "N         -0.02600        4.49570        3.18160\n",
    "C         -1.35740        3.86280        3.22650\n",
    "C          0.61550        4.64310        4.49760\n",
    "H         -0.05220        5.22770        5.14010\n",
    "C          1.01000        3.34420        5.22520\n",
    "H          1.51360        5.25950        4.35700\n",
    "H          1.46340        3.58120        6.19450\n",
    "H          0.14780        2.69560        5.40540\n",
    "H          1.73890        2.76640        4.64700\n",
    "C         -2.40930        4.72330        3.92760\n",
    "H         -1.66800        3.70380        2.19090\n",
    "H         -1.31870        2.86070        3.68180\n",
    "H         -3.39790        4.26230        3.82190\n",
    "H         -2.21600        4.83580        5.00020\n",
    "H         -2.44820        5.72480        3.48340\n",
    "H         -0.05830       -2.66420        2.50260\n",
    "N         -1.59870       -3.69370        3.58290\n",
    "H          0.17960       -4.38180        2.73320\n",
    "C         -0.99520       -3.96810        4.89570\n",
    "C         -2.47140       -2.50610        3.55570\n",
    "H         -1.80270       -4.15940        5.61160\n",
    "H         -0.44110       -4.91160        4.80710\n",
    "C         -0.05770       -2.88720        5.46600\n",
    "H          0.35880       -3.21890        6.42430\n",
    "H          0.77600       -2.67790        4.78870\n",
    "H         -0.58300       -1.94250        5.64120\n",
    "C         -3.69910       -2.63770        4.45740\n",
    "H         -1.92110       -1.58550        3.80720\n",
    "H         -2.80420       -2.37770        2.52220\n",
    "H         -4.37290       -1.78970        4.29240\n",
    "H         -4.24730       -3.56050        4.23470\n",
    "H         -3.43910       -2.64510        5.52180\n",
    "\"\"\""
   ]
  },
  {
   "cell_type": "code",
   "execution_count": null,
   "id": "c3cfd5ec-e58f-46dd-a117-ae529e4d8e4e",
   "metadata": {},
   "outputs": [],
   "source": [
    "molecule = vlx.Molecule.read_str(mn_bpy)\n",
    "molecule.set_charge(-1)\n",
    "molecule.show()"
   ]
  },
  {
   "cell_type": "markdown",
   "id": "d498b2f1-4012-4b81-8ce6-115354d8fc13",
   "metadata": {},
   "source": [
    "Since this contains a metal we will use DFT to compute the charges. Then a force field is generated."
   ]
  },
  {
   "cell_type": "code",
   "execution_count": null,
   "id": "8635ac6f-4745-411e-8c9f-51a431c97f7e",
   "metadata": {
    "scrolled": true
   },
   "outputs": [],
   "source": [
    "basis = vlx.MolecularBasis.read(molecule, 'def2-sv(p)')\n",
    "scf_drv = vlx.ScfRestrictedDriver()\n",
    "scf_drv.xcfun = \"blyp\"\n",
    "scf_drv.ri_coulomb = True\n",
    "scf_drv.grid_level = 2\n",
    "scf_drv.level_shifting = 1.0\n",
    "scf_drv.conv_thresh = 1e-3\n",
    "scf_drv.dispersion = True\n",
    "results = scf_drv.compute(molecule, basis)\n",
    "ff_gen = vlx.MMForceFieldGenerator()\n",
    "ff_gen.create_topology(molecule, basis, results)"
   ]
  },
  {
   "cell_type": "markdown",
   "id": "5714f444-4fde-4d35-a60a-2e56a66aec60",
   "metadata": {},
   "source": [
    "Next we start the conformational sampling by initiating the ```OpenMMDynamics()``` class."
   ]
  },
  {
   "cell_type": "code",
   "execution_count": null,
   "id": "7bac1e26",
   "metadata": {},
   "outputs": [],
   "source": [
    "opm_dyn = vlx.OpenMMDynamics()\n",
    "opm_dyn.create_system_from_molecule(molecule, ff_gen)\n",
    "conformers_dict = opm_dyn.conformational_sampling(temperature=1000, ensemble='NVT', nsteps=100000, snapshots=100)"
   ]
  },
  {
   "cell_type": "markdown",
   "id": "d80b941a",
   "metadata": {},
   "source": [
    "The energy, molecule objects, and geometries are saved from each unique conformer in the ```conformer_dict``` dictionary. We visualize the two lowest energy structures below."
   ]
  },
  {
   "cell_type": "code",
   "execution_count": null,
   "id": "3cdf93fe-f2c3-44a4-ac73-2b2395e0b9cf",
   "metadata": {},
   "outputs": [],
   "source": [
    "minimum = conformers_dict['molecules'][0]\n",
    "print(\"Minimum energy conformer:\" + str(conformers_dict['energies'][0]))\n",
    "minimum.show()\n",
    "minimum2 = conformers_dict['molecules'][1]\n",
    "print(\"Minimum energy conformer:\" + str(conformers_dict['energies'][1]))\n",
    "minimum2.show()"
   ]
  },
  {
   "cell_type": "markdown",
   "id": "8a9b1b6a",
   "metadata": {},
   "source": [
    "To check if our new structure is lower in energy than our input, we use DFT to minimize the geometry."
   ]
  },
  {
   "cell_type": "code",
   "execution_count": null,
   "id": "14412edb-5ac7-408d-951e-246c0db5d4c4",
   "metadata": {},
   "outputs": [],
   "source": [
    "minimum.set_charge(-1)\n",
    "basis = vlx.MolecularBasis.read(minimum, 'def2-sv(p)')\n",
    "scf_drv = vlx.ScfRestrictedDriver()\n",
    "scf_drv.xcfun = \"blyp\"\n",
    "scf_drv.ri_coulomb = True\n",
    "scf_drv.grid_level = 2\n",
    "scf_drv.dispersion = True\n",
    "scf_drv.level_shifting = 1.0\n",
    "scf_drv.conv_thresh = 1e-3\n",
    "results2 = scf_drv.compute(minimum, basis)\n",
    "scf_drv.level_shifting = 1.0\n",
    "opt_drv = vlx.OptimizationDriver(scf_drv)\n",
    "opt_drv.conv_maxiter = True\n",
    "opt_drv.max_iter = 10\n",
    "opt_results = opt_drv.compute(minimum, basis, results2)"
   ]
  },
  {
   "cell_type": "code",
   "execution_count": null,
   "id": "eeb1702f",
   "metadata": {},
   "outputs": [],
   "source": []
  }
 ],
 "metadata": {
  "kernelspec": {
   "display_name": "vlxenv",
   "language": "python",
   "name": "python3"
  },
  "language_info": {
   "codemirror_mode": {
    "name": "ipython",
    "version": 3
   },
   "file_extension": ".py",
   "mimetype": "text/x-python",
   "name": "python",
   "nbconvert_exporter": "python",
   "pygments_lexer": "ipython3",
   "version": "3.13.3"
  }
 },
 "nbformat": 4,
 "nbformat_minor": 5
}
