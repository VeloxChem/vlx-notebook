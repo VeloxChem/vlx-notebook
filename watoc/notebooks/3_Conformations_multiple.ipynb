{
 "cells": [
  {
   "cell_type": "markdown",
   "id": "8624bad2",
   "metadata": {},
   "source": [
    "# Conformational search using MD for multiple molecules\n",
    "If we have several molecules we can use the multiple molecule conformational search. It generates forcefields and then uses the OpenMM MD driver with a centroid force in a high temperature MD run. A selected number of conformations are minimized."
   ]
  },
  {
   "cell_type": "code",
   "execution_count": null,
   "id": "e1211925",
   "metadata": {},
   "outputs": [],
   "source": [
    "import veloxchem as vlx"
   ]
  },
  {
   "cell_type": "markdown",
   "id": "01545d83",
   "metadata": {},
   "source": [
    "Load your molecules and create a list containing those molecules."
   ]
  },
  {
   "cell_type": "code",
   "execution_count": null,
   "id": "6337bf56",
   "metadata": {},
   "outputs": [],
   "source": [
    "mol1 = vlx.Molecule.read_smiles('C([C@@H]1[C@H]([C@@H]([C@H](C(O1)O)O)O)O)O')\n",
    "mol2 = vlx.Molecule.read_smiles('O')\n",
    "mol3 = vlx.Molecule.read_smiles('O')\n",
    "\n",
    "molecules = [mol1, mol2, mol3]"
   ]
  },
  {
   "cell_type": "markdown",
   "id": "b0d17bf4",
   "metadata": {},
   "source": [
    "Initiate and run the conformational search for multiple molecules."
   ]
  },
  {
   "cell_type": "code",
   "execution_count": null,
   "id": "330b4e87",
   "metadata": {},
   "outputs": [],
   "source": [
    "omm = vlx.OpenMMDynamics()\n",
    "conformer_dict = omm.conformational_sampling_multiple(molecules, temperature = 800, nsteps = 100000, snapshots = 40, lowest_conformations = 5)"
   ]
  },
  {
   "cell_type": "markdown",
   "id": "b5367de5",
   "metadata": {},
   "source": [
    "Show the structures"
   ]
  },
  {
   "cell_type": "code",
   "execution_count": null,
   "id": "f001b4f2",
   "metadata": {},
   "outputs": [],
   "source": [
    "for mol, e in zip(conformer_dict['molecules'], conformer_dict['energies']):\n",
    "    mol.show()\n",
    "    print(e,'kJ/mol')"
   ]
  },
  {
   "cell_type": "markdown",
   "id": "2d9dff25",
   "metadata": {},
   "source": [
    "Optimize the lowest conformers and performa a single point energy correction"
   ]
  },
  {
   "cell_type": "code",
   "execution_count": null,
   "id": "124a9318",
   "metadata": {},
   "outputs": [],
   "source": [
    "# Set up the functionals and basis sets used in the calculation\n",
    "opt_functional = \"BLYP\"\n",
    "opt_basis = \"def2-svp\"\n",
    "sp_functional = \"m06-l\"\n",
    "sp_basis = \"def2-tzvp\"\n",
    "\n",
    "# Maximum number of optimization steps \n",
    "max_opt_steps = 15\n",
    "\n",
    "energies = []\n",
    "geometries = []\n",
    "for i in range(len(conformer_dict['molecules'])):\n",
    "    basis = vlx.MolecularBasis.read(conformer_dict['molecules'][i], opt_basis)\n",
    "    scf_drv = vlx.ScfRestrictedDriver()\n",
    "    scf_drv.xcfun = opt_functional\n",
    "    scf_drv.dispersion = True\n",
    "    scf_drv.conv_thresh = 1e-3\n",
    "    scf_drv.grid_level = 2\n",
    "    #scf_drv.solvation_model = \"cpcm\"\n",
    "    scf_drv.ri_coulomb = True\n",
    "    results = scf_drv.compute(conformer_dict['molecules'][i], basis)\n",
    "\n",
    "    opt_drv = vlx.OptimizationDriver(scf_drv)\n",
    "    opt_drv.max_iter = max_opt_steps\n",
    "    opt_drv.conv_maxiter = True\n",
    "    opt_results = opt_drv.compute(conformer_dict['molecules'][i], basis, results)\n",
    "    geometries.append(opt_results['final_geometry'])\n",
    "    \n",
    "    molecule = vlx.Molecule.read_xyz_string(opt_results['final_geometry'])\n",
    "    basis = vlx.MolecularBasis.read(molecule, sp_basis)\n",
    "    scf_drv = vlx.ScfRestrictedDriver()\n",
    "    scf_drv.xcfun = sp_functional\n",
    "    scf_drv.dispersion = True\n",
    "    scf_drv.conv_thresh = 1e-3\n",
    "    scf_drv.grid_level = 4\n",
    "    #scf_drv.solvation_model = \"cpcm\"\n",
    "    scf_drv.ri_coulomb = True\n",
    "    results = scf_drv.compute(molecule, basis)\n",
    "\n",
    "    energies.append(results['scf_energy'])\n"
   ]
  },
  {
   "cell_type": "code",
   "execution_count": null,
   "id": "9e06a839",
   "metadata": {},
   "outputs": [],
   "source": [
    "print(energies)"
   ]
  },
  {
   "cell_type": "code",
   "execution_count": null,
   "id": "29bc18ac",
   "metadata": {},
   "outputs": [],
   "source": [
    "mol = vlx.Molecule.read_xyz_string(geometries[0])\n",
    "mol.show()"
   ]
  },
  {
   "cell_type": "code",
   "execution_count": null,
   "id": "170a8b36",
   "metadata": {},
   "outputs": [],
   "source": []
  }
 ],
 "metadata": {
  "kernelspec": {
   "display_name": "vlx_az",
   "language": "python",
   "name": "python3"
  },
  "language_info": {
   "codemirror_mode": {
    "name": "ipython",
    "version": 3
   },
   "file_extension": ".py",
   "mimetype": "text/x-python",
   "name": "python",
   "nbconvert_exporter": "python",
   "pygments_lexer": "ipython3",
   "version": "3.12.10"
  }
 },
 "nbformat": 4,
 "nbformat_minor": 5
}
