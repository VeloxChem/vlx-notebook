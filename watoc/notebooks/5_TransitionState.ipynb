{
 "cells": [
  {
   "cell_type": "markdown",
   "id": "6fbc2e97-18e1-45c1-a562-fec1ca0909e5",
   "metadata": {},
   "source": [
    "# Transition states\n",
    "In this notebook we will locate a transition state by using a workflow which 1) Optimizes the reactant 2) performs a scan of one bond distance involved in the reaction 3) Takes the highest energy, computes the Hessian and optimizes the transition state."
   ]
  },
  {
   "cell_type": "code",
   "execution_count": null,
   "id": "2017d6c2-2ee3-4b7a-beef-3826dbbc87c2",
   "metadata": {},
   "outputs": [],
   "source": [
    "import veloxchem as vlx"
   ]
  },
  {
   "cell_type": "code",
   "execution_count": null,
   "id": "e783016d-b3cf-4464-9733-e3a81b6c6ec1",
   "metadata": {},
   "outputs": [],
   "source": [
    "molecule = vlx.Molecule.read_smiles('c1ccccc1C(=O)C=CO')\n",
    "molecule.set_dihedral_in_degrees([8,7,9,10], 0)\n",
    "molecule.set_dihedral_in_degrees([7,9,10,11], 0)\n",
    "molecule.set_dihedral_in_degrees([9,10,11,19], 0)\n",
    "molecule.show(atom_indices=True)"
   ]
  },
  {
   "cell_type": "code",
   "execution_count": null,
   "id": "593bdf37-6f7b-4fd4-9a5b-a3b9fff270ce",
   "metadata": {
    "scrolled": true
   },
   "outputs": [],
   "source": [
    "basis = vlx.MolecularBasis.read(molecule, 'def2-svp')\n",
    "\n",
    "scf_drv = vlx.ScfRestrictedDriver()\n",
    "scf_drv.xcfun = 'blyp'\n",
    "scf_drv.ri_coulomb = True\n",
    "scf_results = scf_drv.compute(molecule, basis)\n",
    "\n",
    "opt_drv = vlx.OptimizationDriver(scf_drv)\n",
    "opt_drv.conv_energy = 1e-04\n",
    "opt_drv.conv_drms = 1e-02\n",
    "opt_drv.conv_dmax = 2e-02\n",
    "opt_drv.conv_grms = 4e-03\n",
    "opt_drv.conv_gmax = 8e-03\n",
    "opt_results = opt_drv.compute(molecule, basis, scf_results)"
   ]
  },
  {
   "cell_type": "code",
   "execution_count": null,
   "id": "ddd68c1d-9f8a-40ad-b41b-6a8b27001810",
   "metadata": {},
   "outputs": [],
   "source": [
    "opt_drv.show_convergence(opt_results)"
   ]
  },
  {
   "cell_type": "code",
   "execution_count": null,
   "id": "a11a8766-7396-4fa0-b44e-c488687045a8",
   "metadata": {},
   "outputs": [],
   "source": [
    "molecule = vlx.Molecule.read_xyz_string(opt_results['final_geometry'])\n",
    "molecule.show(atom_indices=True)"
   ]
  },
  {
   "cell_type": "code",
   "execution_count": null,
   "id": "42a2a5b1-4e86-41ca-a769-da5ec362b98a",
   "metadata": {
    "scrolled": true
   },
   "outputs": [],
   "source": [
    "opt_drv.constraints = [\"scan distance 11 19 1.1 1.4 4\"]\n",
    "\n",
    "scan_results = opt_drv.compute(molecule, basis, scf_results)"
   ]
  },
  {
   "cell_type": "code",
   "execution_count": null,
   "id": "6707eda6-f304-44d5-b704-f8203ae54943",
   "metadata": {},
   "outputs": [],
   "source": [
    "m = max(scan_results['scan_energies'])\n",
    "index_max = scan_results['scan_energies'].index(m)"
   ]
  },
  {
   "cell_type": "code",
   "execution_count": null,
   "id": "e37bef13-d30c-4fc1-a2a8-e3e44c9c4507",
   "metadata": {},
   "outputs": [],
   "source": [
    "ts_guess = vlx.Molecule.read_xyz_string(scan_results['scan_geometries'][index_max])\n",
    "ts_guess.show()"
   ]
  },
  {
   "cell_type": "code",
   "execution_count": null,
   "id": "b1468b31-32a3-4329-af10-3d27e9504947",
   "metadata": {
    "scrolled": true
   },
   "outputs": [],
   "source": [
    "basis_ts = vlx.MolecularBasis.read(ts_guess, 'def2-svp')\n",
    "scf_results_ts = scf_drv.compute(ts_guess, basis_ts)\n",
    "\n",
    "ts_drv = vlx.OptimizationDriver(scf_drv)\n",
    "ts_drv.transition = True\n",
    "ts_results = ts_drv.compute(ts_guess, basis_ts, scf_results_ts)"
   ]
  },
  {
   "cell_type": "code",
   "execution_count": null,
   "id": "d286bb8f-9fa5-435e-9be2-9733cf94ce2b",
   "metadata": {},
   "outputs": [],
   "source": [
    "ts_drv.show_convergence(ts_results)"
   ]
  },
  {
   "cell_type": "code",
   "execution_count": null,
   "id": "d93addcc-511e-487f-8366-bd2a4c5567f0",
   "metadata": {},
   "outputs": [],
   "source": [
    "activation_energy = ts_results['opt_energies'][-1]-opt_results['opt_energies'][-1]\n",
    "print(f\"Activation energy: {2625.5*activation_energy:.2f} kJ/mol\")"
   ]
  },
  {
   "cell_type": "code",
   "execution_count": null,
   "id": "a99640c0-bc89-4baf-906c-f329e9a5deb5",
   "metadata": {},
   "outputs": [],
   "source": []
  }
 ],
 "metadata": {
  "kernelspec": {
   "display_name": "Python 3 (ipykernel)",
   "language": "python",
   "name": "python3"
  },
  "language_info": {
   "codemirror_mode": {
    "name": "ipython",
    "version": 3
   },
   "file_extension": ".py",
   "mimetype": "text/x-python",
   "name": "python",
   "nbconvert_exporter": "python",
   "pygments_lexer": "ipython3",
   "version": "3.12.9"
  }
 },
 "nbformat": 4,
 "nbformat_minor": 5
}
