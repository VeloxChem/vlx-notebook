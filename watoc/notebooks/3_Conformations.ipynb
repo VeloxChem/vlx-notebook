{
 "cells": [
  {
   "cell_type": "markdown",
   "id": "f15957a5-ac69-4359-bfa5-0ad493969283",
   "metadata": {},
   "source": [
    "# Conformer finder using MM\n",
    "With this method we generate all conformers by identifying rotatable bonds and rotate them according to their dihedral periodicities. "
   ]
  },
  {
   "cell_type": "code",
   "execution_count": null,
   "id": "65b1be0b-e341-4b7b-a874-346bb352e583",
   "metadata": {},
   "outputs": [],
   "source": [
    "import veloxchem as vlx\n",
    "import time\n",
    "start_time = time.time()"
   ]
  },
  {
   "cell_type": "markdown",
   "id": "b408fd10",
   "metadata": {},
   "source": [
    "We define our molecule and visualize it."
   ]
  },
  {
   "cell_type": "code",
   "execution_count": null,
   "id": "67e9869b-03bb-46f6-92fa-b33bac07a7b9",
   "metadata": {},
   "outputs": [],
   "source": [
    "#Lynparza\n",
    "molecule = vlx.Molecule.read_name('paxlovid')\n",
    "molecule.show()"
   ]
  },
  {
   "cell_type": "markdown",
   "id": "1efc4866-abcd-4d44-bf7a-12a418e9e1f2",
   "metadata": {},
   "source": [
    "This time we generate a forcefield using custom SCF settings."
   ]
  },
  {
   "cell_type": "code",
   "execution_count": null,
   "id": "2903834a-1a9c-4a39-84c4-2a7d5b3cde3a",
   "metadata": {
    "scrolled": true
   },
   "outputs": [],
   "source": [
    "basis = vlx.MolecularBasis.read(molecule, 'def2-SVP')\n",
    "scf_drv = vlx.ScfRestrictedDriver()\n",
    "scf_drv.xcfun = \"blyp\"\n",
    "scf_drv.ri_coulomb = True\n",
    "scf_drv.grid_level = 2\n",
    "scf_drv.conv_thresh = 1e-3\n",
    "scf_drv.dispersion = True\n",
    "scf_drv.timing = True\n",
    "results = scf_drv.compute(molecule, basis)\n",
    "resp_drv = vlx.RespChargesDriver()\n",
    "charges = resp_drv.compute(molecule, basis, results, 'resp')"
   ]
  },
  {
   "cell_type": "markdown",
   "id": "0ab0c03a",
   "metadata": {},
   "source": [
    "Now we can run the conformer generator. We just need to make sure to use our computed RESP charges from the previous cell."
   ]
  },
  {
   "cell_type": "code",
   "execution_count": null,
   "id": "fcad2da3",
   "metadata": {},
   "outputs": [],
   "source": [
    "conf_generator = vlx.ConformerGenerator()\n",
    "conf_generator.resp_charges = False\n",
    "conf_generator.partial_charges = charges\n",
    "conformers = conf_generator.generate(molecule)"
   ]
  },
  {
   "cell_type": "markdown",
   "id": "4b9e6f4a",
   "metadata": {},
   "source": [
    "We can visualize the lowest energy conformer."
   ]
  },
  {
   "cell_type": "code",
   "execution_count": null,
   "id": "a0d31962-a984-4d2d-a027-32f8172c92a7",
   "metadata": {
    "scrolled": true
   },
   "outputs": [],
   "source": [
    "conf_generator.show_global_minimum()"
   ]
  },
  {
   "cell_type": "markdown",
   "id": "b11b7d1f-0512-473b-b773-b536426a7745",
   "metadata": {},
   "source": [
    "FInaly we compute the energy of the new conformer to compare it to the initial structure."
   ]
  },
  {
   "cell_type": "code",
   "execution_count": null,
   "id": "a0b5d07a-7118-4ff9-9aba-f84596a01e41",
   "metadata": {
    "scrolled": true
   },
   "outputs": [],
   "source": [
    "molecule = conformers['molecules'][0]\n",
    "basis = vlx.MolecularBasis.read(molecule, 'def2-SVP')\n",
    "scf_drv = vlx.ScfRestrictedDriver()\n",
    "scf_drv.xcfun = \"blyp\"\n",
    "scf_drv.ri_coulomb = True\n",
    "scf_drv.grid_level = 2\n",
    "scf_drv.conv_thresh = 1e-3\n",
    "scf_drv.dispersion = True\n",
    "results2 = scf_drv.compute(molecule, basis)"
   ]
  },
  {
   "cell_type": "code",
   "execution_count": null,
   "id": "7eacd734-f1b8-4615-a4f6-ffe9e566eb16",
   "metadata": {},
   "outputs": [],
   "source": [
    "print(f\"New conformer is {(results2['scf_energy']-results['scf_energy'])*2625.5:.1f} kJ/mol lower in energy than the original structure\")\n"
   ]
  },
  {
   "cell_type": "code",
   "execution_count": null,
   "id": "a3ccf1b8-17ab-4ed9-a79c-2626d710da93",
   "metadata": {},
   "outputs": [],
   "source": [
    "print(time.time()-start_time)"
   ]
  }
 ],
 "metadata": {
  "kernelspec": {
   "display_name": "vlx_az",
   "language": "python",
   "name": "python3"
  },
  "language_info": {
   "codemirror_mode": {
    "name": "ipython",
    "version": 3
   },
   "file_extension": ".py",
   "mimetype": "text/x-python",
   "name": "python",
   "nbconvert_exporter": "python",
   "pygments_lexer": "ipython3",
   "version": "3.12.10"
  }
 },
 "nbformat": 4,
 "nbformat_minor": 5
}
