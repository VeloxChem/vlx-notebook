{
 "cells": [
  {
   "cell_type": "markdown",
   "id": "3385351a-6049-4c36-ab9b-a89958c484ce",
   "metadata": {},
   "source": [
    "# Geometry Optimization"
   ]
  },
  {
   "cell_type": "markdown",
   "id": "81a29069-3c82-47df-a88e-02ace6598655",
   "metadata": {},
   "source": [
    "In this notebook we will show a geometry optimization. We use the geomeTRIC package to optimize the geometries based on the VeloxChem computed forces."
   ]
  },
  {
   "cell_type": "code",
   "execution_count": null,
   "id": "d540f3a6-8c80-4720-8df2-690a38076852",
   "metadata": {},
   "outputs": [],
   "source": [
    "import veloxchem as vlx"
   ]
  },
  {
   "cell_type": "markdown",
   "id": "e9d161e2",
   "metadata": {},
   "source": [
    "Define your molecule."
   ]
  },
  {
   "cell_type": "code",
   "execution_count": null,
   "id": "68260d72-244c-4685-a78c-d683c65fec92",
   "metadata": {},
   "outputs": [],
   "source": [
    "molecule = vlx.Molecule.read_smiles('c1ccccc1c2ccccc2')\n",
    "molecule.show(atom_indices=True)"
   ]
  },
  {
   "cell_type": "markdown",
   "id": "b4feec50",
   "metadata": {},
   "source": [
    "The next code is to initiate the SCF driver and then pass that to the optimization driver which will optimize the geometry."
   ]
  },
  {
   "cell_type": "code",
   "execution_count": null,
   "id": "258c1cd5-a326-4aa3-ad0b-ffef8d08b309",
   "metadata": {
    "scrolled": true
   },
   "outputs": [],
   "source": [
    "basis = vlx.MolecularBasis.read(molecule, 'def2-SVP')\n",
    "scf_drv = vlx.ScfRestrictedDriver()\n",
    "scf_drv.xcfun = \"blyp\"\n",
    "scf_drv.ri_coulomb = True\n",
    "scf_drv.grid_level = 2\n",
    "results = scf_drv.compute(molecule, basis)\n",
    "opt_drv = vlx.OptimizationDriver(scf_drv)\n",
    "opt_results = opt_drv.compute(molecule, basis, results)\n"
   ]
  },
  {
   "cell_type": "markdown",
   "id": "813801ef",
   "metadata": {},
   "source": [
    "We can then visualize the optimization."
   ]
  },
  {
   "cell_type": "code",
   "execution_count": null,
   "id": "17afd973-601d-452b-b1c6-184f6523c797",
   "metadata": {},
   "outputs": [],
   "source": [
    "opt_drv.show_convergence(opt_results)"
   ]
  },
  {
   "cell_type": "code",
   "execution_count": null,
   "id": "aa1ffe5b",
   "metadata": {},
   "outputs": [],
   "source": []
  }
 ],
 "metadata": {
  "kernelspec": {
   "display_name": "vlx_az",
   "language": "python",
   "name": "python3"
  },
  "language_info": {
   "codemirror_mode": {
    "name": "ipython",
    "version": 3
   },
   "file_extension": ".py",
   "mimetype": "text/x-python",
   "name": "python",
   "nbconvert_exporter": "python",
   "pygments_lexer": "ipython3",
   "version": "3.12.10"
  }
 },
 "nbformat": 4,
 "nbformat_minor": 5
}
