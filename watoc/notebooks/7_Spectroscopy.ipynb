{
 "cells": [
  {
   "cell_type": "markdown",
   "id": "53ed14e1-dbf8-4ee0-bdac-edd1bccb1621",
   "metadata": {},
   "source": [
    "# Spectroscopy"
   ]
  },
  {
   "cell_type": "markdown",
   "id": "760b9211-ac38-449a-8c90-037d887a4a15",
   "metadata": {},
   "source": [
    "## Infrared\n",
    "We will compute spectra for Alanine in this notebook. If your computer is slow, just change the SMILES code to something small, e.g. formaldehyde 'C=O'."
   ]
  },
  {
   "cell_type": "code",
   "execution_count": null,
   "id": "ffb1647a-0939-4006-8379-6d465f503d80",
   "metadata": {},
   "outputs": [],
   "source": [
    "import veloxchem as vlx\n",
    "import time\n",
    "start_time = time.time()"
   ]
  },
  {
   "cell_type": "code",
   "execution_count": null,
   "id": "70e91fd3-4362-423a-be8c-8c7ba63b7e45",
   "metadata": {},
   "outputs": [],
   "source": [
    "molecule = vlx.Molecule.read_smiles('C[C@@H](C(=O)O)N')\n",
    "molecule.show(atom_indices=True)"
   ]
  },
  {
   "cell_type": "markdown",
   "id": "2c09483f-a8b5-40c4-b541-c2bad37bd0ef",
   "metadata": {},
   "source": [
    "We start by optimizing the molecule."
   ]
  },
  {
   "cell_type": "code",
   "execution_count": null,
   "id": "452ea46d-6cc3-469f-9801-24d10187bce8",
   "metadata": {
    "scrolled": true
   },
   "outputs": [],
   "source": [
    "basis = vlx.MolecularBasis.read(molecule, 'def2-sv(p)')\n",
    "scf_drv = vlx.ScfRestrictedDriver()\n",
    "scf_drv.xcfun = 'blyp'\n",
    "scf_drv.ri_coulomb = True\n",
    "scf_drv.dispersion = True\n",
    "scf_drv.grid_level = 2\n",
    "scf_drv.conv_thresh = 1e-03\n",
    "results = scf_drv.compute(molecule, basis)\n",
    "resp_drv = vlx.RespChargesDriver()\n",
    "charges = resp_drv.compute(molecule, basis, results, 'resp')\n",
    "conf_generator = vlx.ConformerGenerator()\n",
    "conf_generator.resp_charges = False\n",
    "conf_generator.partial_charges = charges\n",
    "conformers = conf_generator.generate(molecule)\n",
    "molecule = conformers['molecules'][0]\n",
    "basis = vlx.MolecularBasis.read(molecule, 'def2-SVP')\n",
    "opt_drv = vlx.OptimizationDriver(scf_drv)\n",
    "opt_drv.conv_energy = 1e-04\n",
    "opt_drv.conv_drms = 1e-02\n",
    "opt_drv.conv_dmax = 2e-02\n",
    "opt_drv.conv_grms = 4e-03\n",
    "opt_drv.conv_gmax = 8e-03\n",
    "opt_results = opt_drv.compute(molecule, basis, results)"
   ]
  },
  {
   "cell_type": "markdown",
   "id": "843c6bd2-1975-49a0-896a-df38a209fdef",
   "metadata": {},
   "source": [
    "We have a function to display the convergence and the corresponding geometries."
   ]
  },
  {
   "cell_type": "code",
   "execution_count": null,
   "id": "abb7a0b8-c23c-458a-b6c8-f8bb8a15f09e",
   "metadata": {},
   "outputs": [],
   "source": [
    "opt_drv.show_convergence(opt_results)"
   ]
  },
  {
   "cell_type": "markdown",
   "id": "be86add2-d79b-4a5d-b3eb-6ade20877354",
   "metadata": {},
   "source": [
    "Now we read in the final geometry from the optimization and compute the vibrational analysis using the ```.VibrationalAnalysis()```class. "
   ]
  },
  {
   "cell_type": "code",
   "execution_count": null,
   "id": "69f1b7dc-1380-42df-bef3-cf044964a66c",
   "metadata": {
    "scrolled": true
   },
   "outputs": [],
   "source": [
    "molecule2 = vlx.Molecule.read_xyz_string(opt_results['final_geometry'])\n",
    "basis2 = vlx.MolecularBasis.read(molecule2, 'def2-sv(p)')\n",
    "scf_drv2 = vlx.ScfRestrictedDriver()\n",
    "scf_drv2.xcfun = 'b3lyp'\n",
    "results2 = scf_drv2.compute(molecule2, basis2)\n",
    "vibanalysis_drv = vlx.VibrationalAnalysis(scf_drv2)\n",
    "vib_results = vibanalysis_drv.compute(molecule2, basis2)"
   ]
  },
  {
   "cell_type": "markdown",
   "id": "51e4630c-718a-4563-9151-2b08c17bba8b",
   "metadata": {},
   "source": [
    "The results could either be accessed as arrays..."
   ]
  },
  {
   "cell_type": "code",
   "execution_count": null,
   "id": "6fe48c6f-f529-41a9-915b-5156489422e1",
   "metadata": {},
   "outputs": [],
   "source": [
    "print(vibanalysis_drv.vib_frequencies)"
   ]
  },
  {
   "cell_type": "code",
   "execution_count": null,
   "id": "1ef8a58d-f03b-4c88-9517-39b5f98c58a3",
   "metadata": {},
   "outputs": [],
   "source": [
    "print(vibanalysis_drv.ir_intensities)"
   ]
  },
  {
   "cell_type": "markdown",
   "id": "ac1ace1a-84dc-4d71-a3df-3a4fe5608b9e",
   "metadata": {},
   "source": [
    "... or we can use the build in plot function to show the spectra and the animate function to visualize a specific mode. (If you have another molecule than alanine just exchange the mode=26 for another mode)"
   ]
  },
  {
   "cell_type": "code",
   "execution_count": null,
   "id": "429067ec-c91f-4be1-8539-119f76af78c5",
   "metadata": {},
   "outputs": [],
   "source": [
    "vibanalysis_drv.plot_ir(vib_results, invert_axes=True)"
   ]
  },
  {
   "cell_type": "code",
   "execution_count": null,
   "id": "7f7adaae-b9b7-4123-a486-c3dae0d88612",
   "metadata": {},
   "outputs": [],
   "source": [
    "vibanalysis_drv.animate(vib_results, mode=31)"
   ]
  },
  {
   "cell_type": "code",
   "execution_count": null,
   "id": "e3663d56-5d74-4c92-bd78-1c7ff035f013",
   "metadata": {},
   "outputs": [],
   "source": [
    "vibanalysis_drv.gibbs_free_energy"
   ]
  },
  {
   "cell_type": "markdown",
   "id": "2fa85dad-456d-4068-9cdc-6ee7592cc753",
   "metadata": {},
   "source": [
    "## UV/vis"
   ]
  },
  {
   "cell_type": "markdown",
   "id": "8d3a18ea-61f8-4ad6-aa97-7941732d10f9",
   "metadata": {},
   "source": [
    "To compute UV/Vis spectra you call the linear response solver. We use the molecule, basis set and scf results object from the IR computation."
   ]
  },
  {
   "cell_type": "code",
   "execution_count": null,
   "id": "5af8db81-29d1-4311-b3f6-cb67463eb4e7",
   "metadata": {
    "scrolled": true
   },
   "outputs": [],
   "source": [
    "rpa_solver = vlx.lreigensolver.LinearResponseEigenSolver()\n",
    "rpa_solver.update_settings({\"nstates\": 4})\n",
    "rpa_results = rpa_solver.compute(molecule2, basis2, results2)\n",
    "print(\"Time: \" + str(time.time() - start_time) + \" seconds\")"
   ]
  },
  {
   "cell_type": "markdown",
   "id": "843890c0-b23e-47af-90df-56cb05ff0c78",
   "metadata": {},
   "source": [
    "The results can be visualized as plots. The response solver also computes the rotatory strengths and we can plot the ECD spectrum with the plot_ecd function."
   ]
  },
  {
   "cell_type": "code",
   "execution_count": null,
   "id": "62160ec8-3120-4ac5-ae3a-2374aa1174c1",
   "metadata": {},
   "outputs": [],
   "source": [
    "rpa_solver.plot_uv_vis(rpa_results)"
   ]
  },
  {
   "cell_type": "code",
   "execution_count": null,
   "id": "acf37d9d-e189-41a4-a672-f778c81a54ac",
   "metadata": {},
   "outputs": [],
   "source": [
    "rpa_solver.plot_ecd(rpa_results)"
   ]
  }
 ],
 "metadata": {
  "kernelspec": {
   "display_name": "vlxenv",
   "language": "python",
   "name": "python3"
  },
  "language_info": {
   "codemirror_mode": {
    "name": "ipython",
    "version": 3
   },
   "file_extension": ".py",
   "mimetype": "text/x-python",
   "name": "python",
   "nbconvert_exporter": "python",
   "pygments_lexer": "ipython3",
   "version": "3.13.3"
  }
 },
 "nbformat": 4,
 "nbformat_minor": 5
}
