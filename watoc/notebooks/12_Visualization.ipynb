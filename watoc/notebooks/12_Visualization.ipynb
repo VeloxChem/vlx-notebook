{
 "cells": [
  {
   "cell_type": "markdown",
   "id": "bbdcc908",
   "metadata": {},
   "source": [
    "# Visualization in Jupyter notebooks\n",
    "Here, we explain how to visualize VeloxChem results in the Jupyter Notebook. The calculation can either be performed and visualized in the Jupyter Notebook or the results can be imported from a VeloxChem h5 file and then visualized.\n",
    "## Molecular structure"
   ]
  },
  {
   "cell_type": "markdown",
   "id": "c009e31c",
   "metadata": {},
   "source": [
    "In Jupyter notebook, a Veloxchem molecule object can be visualize using the show function. This is powevered by Py3DMol. The atom_indices and atom_labels options can be used."
   ]
  },
  {
   "cell_type": "markdown",
   "id": "1a6f19a4",
   "metadata": {},
   "source": [
    "**Directly from a Jupyter Notebook cell**"
   ]
  },
  {
   "cell_type": "code",
   "execution_count": null,
   "id": "df335b64",
   "metadata": {},
   "outputs": [],
   "source": [
    "import veloxchem as vlx\n",
    "molecule = vlx.Molecule.read_smiles('C1=CC=C(C=C1)C(=O)O')\n",
    "molecule.show(atom_indices=True, atom_labels=True)"
   ]
  },
  {
   "cell_type": "markdown",
   "id": "1d3d6fcf",
   "metadata": {},
   "source": [
    "**From an h5 file**"
   ]
  },
  {
   "cell_type": "code",
   "execution_count": null,
   "id": "9718df57",
   "metadata": {},
   "outputs": [],
   "source": [
    "biph_dict = vlx.read_results(\"output_files/biphenyl-scf.h5\", label=\"scf\")\n",
    "biph = vlx.Molecule.from_dict(biph_dict)\n",
    "biph.show()\n"
   ]
  },
  {
   "cell_type": "markdown",
   "id": "3a325952",
   "metadata": {},
   "source": [
    "## Structure optimization\n"
   ]
  },
  {
   "cell_type": "markdown",
   "id": "f84c3bcc",
   "metadata": {},
   "source": [
    "**Directly from a Jupyter Notebook cell**"
   ]
  },
  {
   "cell_type": "code",
   "execution_count": null,
   "id": "1af2b1fb",
   "metadata": {},
   "outputs": [],
   "source": [
    "molecule = vlx.Molecule.read_smiles('CCO')\n",
    "basis = vlx.MolecularBasis.read(molecule, 'def2-svp')\n",
    "\n",
    "scf_drv = vlx.ScfRestrictedDriver()\n",
    "scf_drv.ostream.mute()\n",
    "scf_drv.xcfun = 'b3lyp'\n",
    "scf_drv.dispersion = 'd4'\n",
    "results = scf_drv.compute(molecule, basis)\n",
    "\n",
    "opt_drv = vlx.OptimizationDriver(scf_drv)\n",
    "opt_results = opt_drv.compute(molecule, basis, results)\n",
    "opt_drv.show_convergence(opt_results)"
   ]
  },
  {
   "cell_type": "markdown",
   "id": "8c6512eb",
   "metadata": {},
   "source": [
    "**From an h5 file**"
   ]
  },
  {
   "cell_type": "code",
   "execution_count": null,
   "id": "da6c82bd",
   "metadata": {},
   "outputs": [],
   "source": [
    "opt_results = vlx.read_results(\"output_files/bithio-S0-opt.h5\", label=\"opt\")\n",
    "opt_drv.show_convergence(opt_results)"
   ]
  },
  {
   "cell_type": "markdown",
   "id": "9e3332ba",
   "metadata": {},
   "source": [
    "## Spectrum plotting\n"
   ]
  },
  {
   "cell_type": "markdown",
   "id": "85da005f",
   "metadata": {},
   "source": [
    "**Directly from a Jupyter Notebook cell**"
   ]
  },
  {
   "cell_type": "code",
   "execution_count": null,
   "id": "df1563fe",
   "metadata": {},
   "outputs": [],
   "source": [
    "molecule = vlx.Molecule.read_smiles('CCO')\n",
    "basis = vlx.MolecularBasis.read(molecule, 'def2-svp')\n",
    "\n",
    "scf_drv = vlx.ScfRestrictedDriver()\n",
    "scf_drv.ostream.mute()\n",
    "scf_drv.xcfun = 'b3lyp'\n",
    "results = scf_drv.compute(molecule, basis)\n",
    "\n",
    "rsp_drv = vlx.lreigensolver.LinearResponseEigenSolver()\n",
    "rsp_drv.ostream.mute()\n",
    "rsp_drv.nstates = 10\n",
    "rsp_drv.nto = True\n",
    "rsp_results = rsp_drv.compute(molecule, basis, results)\n",
    "rsp_drv.plot(rsp_results)\n",
    "\n"
   ]
  },
  {
   "cell_type": "markdown",
   "id": "fcd3c6c2",
   "metadata": {},
   "source": [
    "**From an h5 file**"
   ]
  },
  {
   "cell_type": "code",
   "execution_count": null,
   "id": "8be52fbf",
   "metadata": {},
   "outputs": [],
   "source": [
    "rsp_results = vlx.read_results(\"output_files/alanine-ecd.h5\", label=\"rsp\")\n",
    "rsp_drv.plot_ecd(rsp_results)"
   ]
  },
  {
   "cell_type": "markdown",
   "id": "51a46d05",
   "metadata": {},
   "source": [
    "## Normal modes"
   ]
  },
  {
   "cell_type": "markdown",
   "id": "87fced28",
   "metadata": {},
   "source": [
    "**Directly from a Jupyter Notebook cell**"
   ]
  },
  {
   "cell_type": "code",
   "execution_count": null,
   "id": "101264c6",
   "metadata": {},
   "outputs": [],
   "source": [
    "molecule = vlx.Molecule.read_smiles('CCO')\n",
    "basis = vlx.MolecularBasis.read(molecule, 'def2-svp')\n",
    "\n",
    "scf_drv = vlx.ScfRestrictedDriver()\n",
    "scf_drv.ostream.mute()\n",
    "scf_drv.xcfun = 'b3lyp'\n",
    "results = scf_drv.compute(molecule, basis)\n",
    "\n",
    "vib_drv = vlx.VibrationalAnalysis(scf_drv)\n",
    "vib_drv.ostream.mute()\n",
    "vib_results = vib_drv.compute(molecule, basis)\n",
    "vib_drv.plot(vib_results)\n",
    "vib_drv.animate(vib_results, mode=14)"
   ]
  },
  {
   "cell_type": "markdown",
   "id": "969ae28b",
   "metadata": {},
   "source": [
    "**From an h5 file**"
   ]
  },
  {
   "cell_type": "code",
   "execution_count": null,
   "id": "6ca8dc60",
   "metadata": {},
   "outputs": [],
   "source": [
    "vib_results = vlx.read_results(\"output_files/acro-raman.h5\", label=\"vib\")\n",
    "vib_drv.plot_raman(vib_results)\n",
    "vib_drv.animate(vib_results, mode=14)\n"
   ]
  }
 ],
 "metadata": {
  "kernelspec": {
   "display_name": "vlx_az",
   "language": "python",
   "name": "python3"
  },
  "language_info": {
   "codemirror_mode": {
    "name": "ipython",
    "version": 3
   },
   "file_extension": ".py",
   "mimetype": "text/x-python",
   "name": "python",
   "nbconvert_exporter": "python",
   "pygments_lexer": "ipython3",
   "version": "3.12.10"
  }
 },
 "nbformat": 4,
 "nbformat_minor": 5
}
