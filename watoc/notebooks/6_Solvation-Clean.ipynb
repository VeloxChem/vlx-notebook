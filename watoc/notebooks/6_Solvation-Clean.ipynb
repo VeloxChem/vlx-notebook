{
 "cells": [
  {
   "cell_type": "markdown",
   "id": "c57a5d4a-bd90-4e1d-9b08-8e0a43894ce0",
   "metadata": {},
   "source": [
    "# Solvation\n",
    "VeloxChem has two ways to compute the Gibbs energy of solvation - implicit CPCM and explicit solvation using alchemical free energy perturbation."
   ]
  },
  {
   "cell_type": "code",
   "execution_count": null,
   "id": "96f9b924-645e-4223-a9b1-cc98359d11d6",
   "metadata": {},
   "outputs": [],
   "source": [
    "import veloxchem as vlx"
   ]
  },
  {
   "cell_type": "markdown",
   "id": "031e72dd-67be-4ef1-a785-7f2d0a7c530f",
   "metadata": {},
   "source": [
    "In this example we will solvate a phenolate anion using both methods. First we define the molecule object and set the charge to -1."
   ]
  },
  {
   "cell_type": "code",
   "execution_count": null,
   "id": "c121d185-3138-4d01-ab44-05aa45043644",
   "metadata": {},
   "outputs": [],
   "source": [
    "molecule = vlx.Molecule.read_smiles('c1ccccc1[O-]')\n",
    "molecule.set_charge(-1)\n",
    "molecule.show()"
   ]
  },
  {
   "cell_type": "markdown",
   "id": "01552647-e58f-4ff9-8e32-e838c42e7910",
   "metadata": {},
   "source": [
    "### Implicit solvation\n",
    "To compute the solvation free energy using CPCM we simply compute the gas phase energy first, then use ```.solvation_model = 'cpcm'``` on the scf driver, and then compute the scf again. The free energy of solvation will be the difference between the cpcm_results and scf_results."
   ]
  },
  {
   "cell_type": "code",
   "execution_count": null,
   "id": "a17e7814-4f95-4b03-bb14-e38dfa8a441e",
   "metadata": {
    "scrolled": true
   },
   "outputs": [],
   "source": [
    "basis = vlx.MolecularBasis.read(molecule, 'def2-svp')\n",
    "scf_drv = vlx.ScfRestrictedDriver()\n",
    "scf_drv.xcfun = \"b3lyp\"\n",
    "scf_results = scf_drv.compute(molecule, basis)\n",
    "scf_drv.solvation_model = 'cpcm'\n",
    "cpcm_results = scf_drv.compute(molecule, basis)"
   ]
  },
  {
   "cell_type": "code",
   "execution_count": null,
   "id": "ac3e4941-2eb7-4168-ad05-e051772eec0c",
   "metadata": {},
   "outputs": [],
   "source": [
    "Gsolv = cpcm_results['scf_energy'] - scf_results['scf_energy']\n",
    "\n",
    "print('Experimental solvation free energy:')\n",
    "print('-72.5 kcal/ mol')\n",
    "print(f\"{-72.5*4.184:.1f} kJ/ mol\")\n",
    "print(\" \")\n",
    "print('CPCM solvation free energy:')\n",
    "print(f\"{Gsolv*627.5:.1f} kcal/mol\")\n",
    "print(f\"{Gsolv*2625.5:.1f} kJ/mol\")"
   ]
  },
  {
   "cell_type": "markdown",
   "id": "ca8becc9-7a97-49fe-b59a-414491ceae96",
   "metadata": {},
   "source": [
    "### Explicit Solvation\n",
    "To compute the solvation using alchemical free energy perturbation protocol you need the two lines below. This will generate a force field with RESP charges (HF/6-31G*), solvate it in a box with 2 nm padding and run every lamda for 1 ns."
   ]
  },
  {
   "cell_type": "markdown",
   "id": "1893542c-8a58-42d4-950d-ca907c10c7e6",
   "metadata": {},
   "source": [
    "To run the cells below remove the \"\"\" in the cells. These computations can be a bit slow so do not run them if you do not have a good GPU."
   ]
  },
  {
   "cell_type": "code",
   "execution_count": null,
   "id": "1717311c-05a6-4b67-9951-818b5a4fb4ec",
   "metadata": {
    "scrolled": true
   },
   "outputs": [],
   "source": [
    "\"\"\"\n",
    "explicit_solvation = vlx.SolvationFepDriver()\n",
    "explicit_solvation_result = explicit_solvation.compute_solvation(molecule, solvent='spce')\n",
    "\"\"\""
   ]
  },
  {
   "cell_type": "markdown",
   "id": "85eabf80-59fb-4002-965b-cece29d651b7",
   "metadata": {},
   "source": [
    "If you want to try it a bit faster you can lower the padding and simulation time per lambda. If you have a GPU it will be significantly faster if you specify a different platform than CPU (OpenCL, HIP, CUDA)."
   ]
  },
  {
   "cell_type": "code",
   "execution_count": null,
   "id": "4341d3dd-6cb0-4950-9417-20add2ecbf1c",
   "metadata": {},
   "outputs": [],
   "source": [
    "\"\"\"\n",
    "explicit_solvation = vlx.SolvationFepDriver()\n",
    "explicit_solvation.padding = 1.1\n",
    "explicit_solvation.platform = \"OpenCL\"\n",
    "explicit_solvation.num_steps = 100000\n",
    "explicit_solvation_result = explicit_solvation.compute_solvation(molecule, solvent='spce')\n",
    "\"\"\""
   ]
  },
  {
   "cell_type": "code",
   "execution_count": null,
   "id": "7dcb2f3a-35c8-44d2-a328-6da08055d0b1",
   "metadata": {},
   "outputs": [],
   "source": [
    "\"\"\"solvation = explicit_solvation_result[-1]-molecule.get_charge()*57.7/4.184 #correction term added for the potential in taking the ion across the interface https://doi.org/10.1021/acs.jpclett.7b01125\n",
    "print(f\"{solvation:.1f} kcal/mol\")\n",
    "print(f\"{solvation*4.184:.1f} kJ/mol\")\n",
    "\"\"\""
   ]
  },
  {
   "cell_type": "markdown",
   "id": "f0ebe479-4ee3-4be7-96d2-22f362d87cb5",
   "metadata": {},
   "source": [
    "You can also specify your own force field for both the solute and solvent. Here I have used a forcefield with RESP charges computed with DFT and CPCM."
   ]
  },
  {
   "cell_type": "code",
   "execution_count": null,
   "id": "3bc66ce9-5382-4215-8127-092e786232c4",
   "metadata": {
    "scrolled": true
   },
   "outputs": [],
   "source": [
    "\"\"\"\n",
    "ff_gen = vlx.MMForceFieldGenerator()\n",
    "ff_gen.create_topology(molecule, basis, cpcm_results)\n",
    "explicit_solvation2 = vlx.SolvationFepDriver()\n",
    "explicit_solvation2.padding = 1.1\n",
    "explicit_solvation2.platform = \"OpenCL\"\n",
    "explicit_solvation2.num_steps = 100000\n",
    "explicit_solvation_result2 = explicit_solvation2.compute_solvation(molecule, ff_gen_solute=ff_gen, solvent='spce')\n",
    "\"\"\""
   ]
  },
  {
   "cell_type": "code",
   "execution_count": null,
   "id": "a889d679-ff41-4ec5-839b-f6adf0400b70",
   "metadata": {},
   "outputs": [],
   "source": [
    "\"\"\"\n",
    "solvation2 = explicit_solvation_result2[-1]-molecule.get_charge()*57.7/4.184\n",
    "print(solvation2)\n",
    "print(solvation2*4.184)\n",
    "\"\"\""
   ]
  }
 ],
 "metadata": {
  "kernelspec": {
   "display_name": "vlxenv",
   "language": "python",
   "name": "python3"
  },
  "language_info": {
   "codemirror_mode": {
    "name": "ipython",
    "version": 3
   },
   "file_extension": ".py",
   "mimetype": "text/x-python",
   "name": "python",
   "nbconvert_exporter": "python",
   "pygments_lexer": "ipython3",
   "version": "3.13.3"
  }
 },
 "nbformat": 4,
 "nbformat_minor": 5
}
