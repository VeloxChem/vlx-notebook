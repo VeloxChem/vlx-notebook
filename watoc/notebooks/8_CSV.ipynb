{
 "cells": [
  {
   "cell_type": "code",
   "execution_count": null,
   "id": "28146546-8986-41e5-b3f8-c706d6e75c2b",
   "metadata": {},
   "outputs": [],
   "source": [
    "import veloxchem as vlx\n",
    "from pandas import *\n",
    "from rdkit import Chem"
   ]
  },
  {
   "cell_type": "code",
   "execution_count": null,
   "id": "e84c7816-6694-431e-8180-c8d9bf2d13a8",
   "metadata": {
    "scrolled": true
   },
   "outputs": [],
   "source": [
    "data = read_csv(\"nucleophilicity_with_names.csv\")\n",
    "smiles_list = data['smiles'].tolist()"
   ]
  },
  {
   "cell_type": "code",
   "execution_count": null,
   "id": "a821daf6-9760-4316-bde4-55fbba49e277",
   "metadata": {},
   "outputs": [],
   "source": [
    "mol = vlx.Molecule.read_smiles(smiles_list[1])\n",
    "mol.show()\n",
    "rd_mol = Chem.MolFromSmiles(smiles_list[1])\n",
    "charge = Chem.GetFormalCharge(rd_mol)"
   ]
  },
  {
   "cell_type": "code",
   "execution_count": null,
   "id": "c0793a40-b4e5-428d-8613-3629e363da21",
   "metadata": {},
   "outputs": [],
   "source": [
    "results = []\n",
    "for i in range(len(smiles_list)):\n",
    "    mol = vlx.Molecule.read_smiles(smiles_list[i])\n",
    "    rd_mol = Chem.MolFromSmiles(smiles_list[i])\n",
    "    charge = Chem.GetFormalCharge(rd_mol)\n",
    "    mol.set_charge(charge)\n",
    "    basis = vlx.MolecularBasis.read(mol, 'def2-svp')\n",
    "    scf_drv = vlx.ScfRestrictedDriver()\n",
    "    scf_drv.ri_coulomb = True\n",
    "    scf_drv.grid_level = 2\n",
    "    scf_drv.level_shifting = 0.0\n",
    "    scf_drv.xcfun = \"pbe\"\n",
    "    scf_drv.dispersion = True\n",
    "    scf_drv.conv_thresh = 1e-4\n",
    "    scf_drv.ostream.mute()\n",
    "    result = scf_drv.compute(mol, basis)\n",
    "    if result == None:\n",
    "        scf_drv.level_shifting = 1.0\n",
    "        result = scf_drv.compute(mol, basis)\n",
    "        if result == None:\n",
    "            print(\"SCF failed\")\n",
    "        else:\n",
    "            results.append(result['scf_energy'])\n",
    "            print(str(\"Energy: \" + str(result['scf_energy'])) + \" of structure \" + str(i+1) + \" with level shifting 1.0\")\n",
    "    else:\n",
    "        results.append(result['scf_energy'])\n",
    "        print(str(\"Energy: \" + str(result['scf_energy'])) + \" of structure \" + str(i+1))\n",
    "print(\"Finished\")"
   ]
  },
  {
   "cell_type": "code",
   "execution_count": null,
   "id": "f2af253a",
   "metadata": {},
   "outputs": [],
   "source": [
    "opt_geometries = []\n",
    "opt_energies = []\n",
    "for i in range(10):\n",
    "    mol = vlx.Molecule.read_smiles(smiles_list[i])\n",
    "    rd_mol = Chem.MolFromSmiles(smiles_list[i])\n",
    "    charge = Chem.GetFormalCharge(rd_mol)\n",
    "    mol.set_charge(charge)\n",
    "    basis = vlx.MolecularBasis.read(mol, 'def2-svp')\n",
    "    scf_drv = vlx.ScfRestrictedDriver()\n",
    "    scf_drv.ri_coulomb = True\n",
    "    scf_drv.grid_level = 2\n",
    "    scf_drv.level_shifting = 1.0\n",
    "    scf_drv.xcfun = \"pbe\"\n",
    "    scf_drv.ostream.mute()\n",
    "    scf_drv.dispersion = True\n",
    "    scf_drv.conv_thresh = 1e-4\n",
    "    result = scf_drv.compute(mol, basis)\n",
    "\n",
    "    if result == None:\n",
    "        scf_drv.level_shifting = 1.0\n",
    "        result = scf_drv.compute(mol, basis)\n",
    "        if result == None:\n",
    "            print(\"SCF failed\")\n",
    "            continue\n",
    "        \n",
    "    opt_drv = vlx.OptimizationDriver(scf_drv)\n",
    "    scf_drv.level_shifting = 1.0\n",
    "    opt_drv.conv_energy = 1e-04\n",
    "    opt_drv.conv_drms = 1e-02\n",
    "    opt_drv.conv_dmax = 2e-02\n",
    "    opt_drv.conv_grms = 4e-03\n",
    "    opt_drv.conv_gmax = 8e-03\n",
    "    opt_results = opt_drv.compute(mol, basis, result)\n",
    "    opt_geometries.append(opt_results['final_geometry'])\n",
    "    opt_energies.append(opt_results['opt_energies'][-1])\n",
    "    print(str(\"Energy: \" + str(opt_results['opt_energies'][-1])) + \" of optimized structure \" + str(i+1) + \". Optimized in \" + str(len(opt_results['opt_energies'])) + \" iterations.\")\n",
    "print(\"Finished\")"
   ]
  },
  {
   "cell_type": "code",
   "execution_count": null,
   "id": "9aba4c6e",
   "metadata": {},
   "outputs": [],
   "source": []
  }
 ],
 "metadata": {
  "kernelspec": {
   "display_name": "vlx_az",
   "language": "python",
   "name": "python3"
  },
  "language_info": {
   "codemirror_mode": {
    "name": "ipython",
    "version": 3
   },
   "file_extension": ".py",
   "mimetype": "text/x-python",
   "name": "python",
   "nbconvert_exporter": "python",
   "pygments_lexer": "ipython3",
   "version": "3.12.10"
  }
 },
 "nbformat": 4,
 "nbformat_minor": 5
}
