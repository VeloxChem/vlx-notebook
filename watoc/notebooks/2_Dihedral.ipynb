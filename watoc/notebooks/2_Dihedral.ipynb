{
 "cells": [
  {
   "cell_type": "markdown",
   "id": "cbce30f4-45ef-444d-904b-56be3b716233",
   "metadata": {},
   "source": [
    "## Reparametrize force fields\n",
    "Automatized refining of a dihedral angle to fit to QM data. GAFF2 is known to not have well parametrized sp2-sp2 single bond dihedrals. In this example we will reparametrize the rotatable bond in acrolein."
   ]
  },
  {
   "cell_type": "markdown",
   "id": "3a1c1f7c-937a-4488-a618-7d8963a68128",
   "metadata": {},
   "source": [
    "We start by importing VeloxChem and defining our molecule object."
   ]
  },
  {
   "cell_type": "code",
   "execution_count": null,
   "id": "8824f5a2-7c27-4eea-9403-4df4d50a3637",
   "metadata": {},
   "outputs": [],
   "source": [
    "import veloxchem as vlx"
   ]
  },
  {
   "cell_type": "code",
   "execution_count": null,
   "id": "1330f4b9-ca12-442f-a426-4318201a3308",
   "metadata": {},
   "outputs": [],
   "source": [
    "molecule = vlx.Molecule.read_smiles('C=CC=O')\n",
    "molecule.show(atom_indices=True)"
   ]
  },
  {
   "cell_type": "markdown",
   "id": "4dccaea1-ce89-40b6-8ce0-1330cd494f7a",
   "metadata": {},
   "source": [
    "Now we generate a force field and write force field files"
   ]
  },
  {
   "cell_type": "code",
   "execution_count": null,
   "id": "3881a4b9-b599-4b81-a5b6-51228398bce6",
   "metadata": {
    "scrolled": true
   },
   "outputs": [],
   "source": [
    "ff_gen = vlx.MMForceFieldGenerator()\n",
    "ff_gen.create_topology(molecule)\n",
    "ff_gen.write_openmm_files('acrolein_initial', 'MOL')"
   ]
  },
  {
   "cell_type": "markdown",
   "id": "a836b456-491b-4481-a57f-f508059c9f14",
   "metadata": {},
   "source": [
    "We can then identify which bond is rotatable."
   ]
  },
  {
   "cell_type": "code",
   "execution_count": null,
   "id": "c6d5c404-3894-42b6-a929-d34a75782170",
   "metadata": {},
   "outputs": [],
   "source": [
    "rot_bonds = ff_gen.rotatable_bonds\n",
    "print(rot_bonds)"
   ]
  },
  {
   "cell_type": "markdown",
   "id": "b7ce9155-3024-4656-ab3f-e1931f53914b",
   "metadata": {},
   "source": [
    "Now we will make the first round of reparametrization. The ```reparametrize_dihedrals()``` function will perform a scan of the dihedral at the HF/6-31G* level (can be changed) and it will refit the dihedral force constants associated with the rotatable bond. The QM results will be stored in an xyz-file with the name of the dihedral scanned."
   ]
  },
  {
   "cell_type": "code",
   "execution_count": null,
   "id": "93f7bbcf-c631-48f4-894d-dc0184102c0a",
   "metadata": {},
   "outputs": [],
   "source": [
    "scf_drv = vlx.ScfRestrictedDriver()\n",
    "scf_drv.xcfun = 'BLYP'\n",
    "scf_drv.ri_coulomb = True\n",
    "scf_drv.grid_level = 2\n",
    "scf_drv.conv_thresh = 1e-3\n",
    "basis = vlx.MolecularBasis.read(molecule, 'def2-sv(p)')\n",
    "scan_results = ff_gen.scan_dihedral(scf_drv, basis, [2,3], scan_range=[180, 360], n_points=7)\n",
    "ff_gen.reparameterize_dihedrals([2,3], scan_results, visualize=True)"
   ]
  },
  {
   "cell_type": "code",
   "execution_count": null,
   "id": "ab0dbab7-cb5e-4b88-b3ca-bc59e7f05e45",
   "metadata": {},
   "outputs": [],
   "source": [
    "ff_gen.add_dihedral([1,2,3,4], 2, 0, 1)\n",
    "ff_gen.reparameterize_dihedrals([2,3], scan_results, visualize=True)"
   ]
  },
  {
   "cell_type": "code",
   "execution_count": null,
   "id": "bfa7b776-df4a-4f3c-af1a-c5f9235cd30f",
   "metadata": {},
   "outputs": [],
   "source": [
    "ff_gen.write_openmm_files('acrolein_final', 'MOL')"
   ]
  }
 ],
 "metadata": {
  "kernelspec": {
   "display_name": "vlx_az",
   "language": "python",
   "name": "python3"
  },
  "language_info": {
   "codemirror_mode": {
    "name": "ipython",
    "version": 3
   },
   "file_extension": ".py",
   "mimetype": "text/x-python",
   "name": "python",
   "nbconvert_exporter": "python",
   "pygments_lexer": "ipython3",
   "version": "3.12.10"
  }
 },
 "nbformat": 4,
 "nbformat_minor": 5
}
