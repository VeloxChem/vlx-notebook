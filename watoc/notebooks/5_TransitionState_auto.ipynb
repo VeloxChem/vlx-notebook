{
 "cells": [
  {
   "cell_type": "markdown",
   "id": "6fbc2e97-18e1-45c1-a562-fec1ca0909e5",
   "metadata": {},
   "source": [
    "# Transition states\n",
    "In this notebook we will locate a transition state by using interpolated force fields from reactant to product(s)."
   ]
  },
  {
   "cell_type": "code",
   "execution_count": null,
   "id": "2017d6c2-2ee3-4b7a-beef-3826dbbc87c2",
   "metadata": {},
   "outputs": [],
   "source": [
    "import veloxchem as vlx\n",
    "import time"
   ]
  },
  {
   "cell_type": "code",
   "execution_count": null,
   "id": "f64effb1",
   "metadata": {},
   "outputs": [],
   "source": [
    "rea = vlx.Molecule.read_smiles('C1=CCCCC1')\n",
    "pro1 = vlx.Molecule.read_smiles('C=CC=C')\n",
    "pro2 = vlx.Molecule.read_smiles('C=C')\n",
    "rea.show()\n",
    "pro1.show()\n",
    "pro2.show()"
   ]
  },
  {
   "cell_type": "code",
   "execution_count": null,
   "id": "e783016d-b3cf-4464-9733-e3a81b6c6ec1",
   "metadata": {},
   "outputs": [],
   "source": [
    "start_time = time.time()\n",
    "EVB = vlx.EvbDriver()\n",
    "# EVB.ostream.mute()\n",
    "EVB.build_ff_from_molecules(rea, [pro1, pro2])\n",
    "scf_drv = vlx.ScfRestrictedDriver()\n",
    "scf_drv.xcfun = \"BLYP\" \n",
    "scf_drv.ri_coulomb = True\n",
    "scf_drv.grid_level = 2\n",
    "ts_guesser = vlx.TransitionStateGuesser()\n",
    "ts_guesser.scf_drv = scf_drv\n",
    "#some options to tune the algorithm, don't have to be bothered with if not necessary\n",
    "# ts_guesser.lambda_vec = np.round(np.linspace(0, 1, 21), 3)\n",
    "ts_guesser.scf_basis = 'def2-sv(p)'  # Default is def2-SVP\n",
    "# ts_guesser.mute_scf = True\n",
    "# ts_guesser.mm_temperature = 600\n",
    "#ts_guesser.mm_steps = 50\n",
    "# ts_guesser.mm_step_size = 0.001 * mmunit.picoseconds\n",
    "\n",
    "TS_mol, results = ts_guesser.find_TS(\n",
    "    EVB,\n",
    "    scf=True,\n",
    ")\n",
    "\n",
    "ts_guesser.show_results()\n"
   ]
  },
  {
   "cell_type": "code",
   "execution_count": null,
   "id": "593bdf37-6f7b-4fd4-9a5b-a3b9fff270ce",
   "metadata": {
    "scrolled": true
   },
   "outputs": [],
   "source": [
    "basis = vlx.MolecularBasis.read(TS_mol, 'def2-sv(p)')\n",
    "\n",
    "scf_drv = vlx.ScfRestrictedDriver()\n",
    "scf_drv.xcfun = 'blyp'\n",
    "scf_drv.ri_coulomb = True\n",
    "scf_results = scf_drv.compute(TS_mol, basis)\n",
    "\n",
    "opt_drv = vlx.OptimizationDriver(scf_drv)\n",
    "opt_drv.conv_energy = 1e-04\n",
    "opt_drv.conv_drms = 1e-02\n",
    "opt_drv.conv_dmax = 2e-02\n",
    "opt_drv.conv_grms = 4e-03\n",
    "opt_drv.conv_gmax = 8e-03\n",
    "opt_drv.transition = True\n",
    "opt_results = opt_drv.compute(TS_mol, basis, scf_results)"
   ]
  },
  {
   "cell_type": "code",
   "execution_count": null,
   "id": "bed12481",
   "metadata": {},
   "outputs": [],
   "source": [
    "print(time.time() - start_time)"
   ]
  },
  {
   "cell_type": "code",
   "execution_count": null,
   "id": "ddd68c1d-9f8a-40ad-b41b-6a8b27001810",
   "metadata": {},
   "outputs": [],
   "source": [
    "opt_drv.show_convergence(opt_results)"
   ]
  },
  {
   "cell_type": "code",
   "execution_count": null,
   "id": "a99640c0-bc89-4baf-906c-f329e9a5deb5",
   "metadata": {},
   "outputs": [],
   "source": []
  }
 ],
 "metadata": {
  "kernelspec": {
   "display_name": "vlxenv",
   "language": "python",
   "name": "python3"
  },
  "language_info": {
   "codemirror_mode": {
    "name": "ipython",
    "version": 3
   },
   "file_extension": ".py",
   "mimetype": "text/x-python",
   "name": "python",
   "nbconvert_exporter": "python",
   "pygments_lexer": "ipython3",
   "version": "3.13.3"
  }
 },
 "nbformat": 4,
 "nbformat_minor": 5
}
