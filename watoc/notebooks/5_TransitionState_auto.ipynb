{
 "cells": [
  {
   "cell_type": "markdown",
   "id": "6fbc2e97-18e1-45c1-a562-fec1ca0909e5",
   "metadata": {},
   "source": [
    "# Transition states\n",
    "In this notebook we will locate a transition state by using interpolated force fields from reactant to product(s)."
   ]
  },
  {
   "cell_type": "code",
   "execution_count": null,
   "id": "2017d6c2-2ee3-4b7a-beef-3826dbbc87c2",
   "metadata": {},
   "outputs": [],
   "source": [
    "import veloxchem as vlx\n",
    "import time\n",
    "import numpy as np\n",
    "\n",
    "start_time = time.time()"
   ]
  },
  {
   "cell_type": "code",
   "execution_count": null,
   "id": "f64effb1",
   "metadata": {},
   "outputs": [],
   "source": [
    "charge = 0\n",
    "multiplicity = 2\n",
    "basis_set = 'def2-sv(p)'\n",
    "\n",
    "# rea1 = vlx.Molecule.read_smiles('C1=CCCC(C=O)C1')\n",
    "# rea1.set_charge(charge)\n",
    "# rea1.set_multiplicity(multiplicity)\n",
    "# pro1 = vlx.Molecule.read_smiles('C=CC=C')\n",
    "# pro1.set_charge(charge)\n",
    "# pro1.set_multiplicity(multiplicity)\n",
    "# pro2 = vlx.Molecule.read_smiles('C=CC=O')\n",
    "# rea1.show()\n",
    "# pro1.show()\n",
    "# pro2.show()\n",
    "\n",
    "# rea1 = vlx.Molecule.read_name('1,4-Dimethyl-1H-1,2,3-triazole')\n",
    "# rea1.set_charge(charge)\n",
    "# rea1.set_multiplicity(multiplicity)\n",
    "# pro1 = vlx.Molecule.read_name('methyl azide')\n",
    "# pro1.set_charge(charge)\n",
    "# pro1.set_multiplicity(multiplicity)\n",
    "# pro2 = vlx.Molecule.read_name('methylacetylene')\n",
    "# rea1.show()\n",
    "# pro1.show()\n",
    "# pro2.show()\n",
    "\n",
    "# rea1 = vlx.Molecule.read_smiles('C/C(C)=C(C)/C/C(=N\\\\C#CC)C')\n",
    "# rea1.set_charge(charge)\n",
    "# rea1.set_multiplicity(multiplicity)\n",
    "# pro1 = vlx.Molecule.read_smiles('C=C(C)[C@]/2(C)CC(C)=NC2=C/C')\n",
    "# pro1.set_charge(charge)\n",
    "# pro1.set_multiplicity(multiplicity)\n",
    "# rea1.show()\n",
    "# pro1.show()\n",
    "\n",
    "rea1 = vlx.Molecule.read_smiles('CCCC[O]')\n",
    "rea1.set_charge(charge)\n",
    "rea1.set_multiplicity(multiplicity)\n",
    "pro1 = vlx.Molecule.read_smiles('[CH2]CCCO')\n",
    "pro1.set_charge(charge)\n",
    "pro1.set_multiplicity(multiplicity)\n",
    "rea1.show()\n",
    "pro1.show()\n",
    "\n",
    "rea_list = [rea1]\n",
    "pro_list = [pro1]\n"
   ]
  },
  {
   "cell_type": "code",
   "execution_count": null,
   "id": "e783016d-b3cf-4464-9733-e3a81b6c6ec1",
   "metadata": {},
   "outputs": [],
   "source": [
    "ts_guesser = vlx.TransitionStateGuesser()\n",
    "TS_mol, results = ts_guesser.find_TS(rea_list, pro_list, scf=False)\n",
    "ts_guesser.show_results()"
   ]
  },
  {
   "cell_type": "code",
   "execution_count": null,
   "id": "593bdf37-6f7b-4fd4-9a5b-a3b9fff270ce",
   "metadata": {
    "scrolled": true
   },
   "outputs": [],
   "source": [
    "TS_mol.set_charge(charge)\n",
    "TS_mol.set_multiplicity(multiplicity)\n",
    "basis = vlx.MolecularBasis.read(TS_mol, basis_set)\n",
    "\n",
    "if multiplicity == 1:\n",
    "    scf_drv = vlx.ScfRestrictedDriver()\n",
    "else:\n",
    "    scf_drv = vlx.ScfUnrestrictedDriver()\n",
    "scf_drv.xcfun = 'blyp'\n",
    "scf_drv.conv_thresh = 1e-4\n",
    "scf_drv.ri_coulomb = True\n",
    "scf_results = scf_drv.compute(TS_mol, basis)\n",
    "if multiplicity >= 1:\n",
    "    xtb_drv = vlx.XtbDriver()\n",
    "    vibanalysis_drv = vlx.VibrationalAnalysis(xtb_drv)\n",
    "    vib_results = vibanalysis_drv.compute(TS_mol)\n",
    "    np.savetxt(\"hessian.txt\", vibanalysis_drv.hessian)\n",
    "\n",
    "opt_drv = vlx.OptimizationDriver(scf_drv)\n",
    "if multiplicity >= 1:\n",
    "    opt_drv.hessian = 'file:hessian.txt'\n",
    "opt_drv.conv_energy = 1e-04\n",
    "opt_drv.conv_drms = 1e-02\n",
    "opt_drv.conv_dmax = 2e-02\n",
    "opt_drv.conv_grms = 4e-03\n",
    "opt_drv.conv_gmax = 8e-03\n",
    "opt_drv.tmax = 0.02\n",
    "opt_drv.transition = True\n",
    "opt_results = opt_drv.compute(TS_mol, basis, scf_results)"
   ]
  },
  {
   "cell_type": "code",
   "execution_count": null,
   "id": "ddd68c1d-9f8a-40ad-b41b-6a8b27001810",
   "metadata": {},
   "outputs": [],
   "source": [
    "opt_drv.show_convergence(opt_results)"
   ]
  },
  {
   "cell_type": "code",
   "execution_count": null,
   "id": "a99640c0-bc89-4baf-906c-f329e9a5deb5",
   "metadata": {},
   "outputs": [],
   "source": [
    "molecule2 = vlx.Molecule.read_xyz_string(opt_results['final_geometry'])\n",
    "molecule2.set_charge(charge)\n",
    "molecule2.set_multiplicity(multiplicity)\n",
    "if multiplicity >= 1:\n",
    "    xtb_drv = vlx.XtbDriver()\n",
    "    vibanalysis_drv = vlx.VibrationalAnalysis(xtb_drv)\n",
    "    vib_results = vibanalysis_drv.compute(TS_mol)\n",
    "else:\n",
    "    basis2 = vlx.MolecularBasis.read(molecule2, basis_set)\n",
    "    scf_drv2 = vlx.ScfRestrictedDriver()\n",
    "    scf_drv2.xcfun = 'blyp'\n",
    "    results2 = scf_drv2.compute(molecule2, basis2)\n",
    "    vibanalysis_drv = vlx.VibrationalAnalysis(scf_drv2)\n",
    "    vib_results = vibanalysis_drv.compute(molecule2, basis2)"
   ]
  },
  {
   "cell_type": "code",
   "execution_count": null,
   "id": "93da5011",
   "metadata": {},
   "outputs": [],
   "source": [
    "vibanalysis_drv.animate(vib_results, mode=1)"
   ]
  },
  {
   "cell_type": "code",
   "execution_count": null,
   "id": "5472d63e",
   "metadata": {},
   "outputs": [],
   "source": [
    "print(time.time() - start_time)"
   ]
  },
  {
   "cell_type": "code",
   "execution_count": null,
   "id": "0edb0bcf",
   "metadata": {},
   "outputs": [],
   "source": []
  }
 ],
 "metadata": {
  "kernelspec": {
   "display_name": "vlx_az",
   "language": "python",
   "name": "python3"
  },
  "language_info": {
   "codemirror_mode": {
    "name": "ipython",
    "version": 3
   },
   "file_extension": ".py",
   "mimetype": "text/x-python",
   "name": "python",
   "nbconvert_exporter": "python",
   "pygments_lexer": "ipython3",
   "version": "3.12.10"
  }
 },
 "nbformat": 4,
 "nbformat_minor": 5
}
