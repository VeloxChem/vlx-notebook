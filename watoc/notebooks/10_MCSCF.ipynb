{
 "cells": [
  {
   "cell_type": "markdown",
   "id": "3aab8fcc-ab56-4699-b37f-c38eb3432d99",
   "metadata": {},
   "source": [
    "# MCSCF"
   ]
  },
  {
   "cell_type": "code",
   "execution_count": 1,
   "id": "57bee0d0-5073-4646-8a37-5327abf3ce46",
   "metadata": {},
   "outputs": [],
   "source": [
    "import veloxchem as vlx\n",
    "import multipsi as mtp"
   ]
  },
  {
   "cell_type": "markdown",
   "id": "f71de55e-8b35-49e8-bd3d-7f65323e9a56",
   "metadata": {},
   "source": [
    "## Simple MCSCF of the ozone molecule"
   ]
  },
  {
   "cell_type": "code",
   "execution_count": 2,
   "id": "fe0eafbd-39dc-4075-8cc0-79152a0c880d",
   "metadata": {},
   "outputs": [
    {
     "data": {
      "application/3dmoljs_load.v0": "<div id=\"3dmolviewer_1750152507619892\"  style=\"position: relative; width: 400px; height: 300px;\">\n        <p id=\"3dmolwarning_1750152507619892\" style=\"background-color:#ffcccc;color:black\">3Dmol.js failed to load for some reason.  Please check your browser console for error messages.<br></p>\n        </div>\n<script>\n\nvar loadScriptAsync = function(uri){\n  return new Promise((resolve, reject) => {\n    //this is to ignore the existence of requirejs amd\n    var savedexports, savedmodule;\n    if (typeof exports !== 'undefined') savedexports = exports;\n    else exports = {}\n    if (typeof module !== 'undefined') savedmodule = module;\n    else module = {}\n\n    var tag = document.createElement('script');\n    tag.src = uri;\n    tag.async = true;\n    tag.onload = () => {\n        exports = savedexports;\n        module = savedmodule;\n        resolve();\n    };\n  var firstScriptTag = document.getElementsByTagName('script')[0];\n  firstScriptTag.parentNode.insertBefore(tag, firstScriptTag);\n});\n};\n\nif(typeof $3Dmolpromise === 'undefined') {\n$3Dmolpromise = null;\n  $3Dmolpromise = loadScriptAsync('https://cdnjs.cloudflare.com/ajax/libs/3Dmol/2.4.2/3Dmol-min.js');\n}\n\nvar viewer_1750152507619892 = null;\nvar warn = document.getElementById(\"3dmolwarning_1750152507619892\");\nif(warn) {\n    warn.parentNode.removeChild(warn);\n}\n$3Dmolpromise.then(function() {\nviewer_1750152507619892 = $3Dmol.createViewer(document.getElementById(\"3dmolviewer_1750152507619892\"),{backgroundColor:\"white\"});\nviewer_1750152507619892.zoomTo();\n\tviewer_1750152507619892.addModel(\"3\\n\\nO              0.000000000000         0.000000000000         0.000000000000\\nO              0.000000000000         1.088500000000         0.669700000000\\nO              0.000000000000        -1.088500000000         0.669700000000\\n\");\n\tviewer_1750152507619892.setViewStyle({\"style\": \"outline\", \"width\": 0.05});\n\tviewer_1750152507619892.setStyle({\"stick\": {}, \"sphere\": {\"scale\": 0.25}});\n\tviewer_1750152507619892.zoomTo();\nviewer_1750152507619892.render();\n});\n</script>",
      "text/html": [
       "<div id=\"3dmolviewer_1750152507619892\"  style=\"position: relative; width: 400px; height: 300px;\">\n",
       "        <p id=\"3dmolwarning_1750152507619892\" style=\"background-color:#ffcccc;color:black\">3Dmol.js failed to load for some reason.  Please check your browser console for error messages.<br></p>\n",
       "        </div>\n",
       "<script>\n",
       "\n",
       "var loadScriptAsync = function(uri){\n",
       "  return new Promise((resolve, reject) => {\n",
       "    //this is to ignore the existence of requirejs amd\n",
       "    var savedexports, savedmodule;\n",
       "    if (typeof exports !== 'undefined') savedexports = exports;\n",
       "    else exports = {}\n",
       "    if (typeof module !== 'undefined') savedmodule = module;\n",
       "    else module = {}\n",
       "\n",
       "    var tag = document.createElement('script');\n",
       "    tag.src = uri;\n",
       "    tag.async = true;\n",
       "    tag.onload = () => {\n",
       "        exports = savedexports;\n",
       "        module = savedmodule;\n",
       "        resolve();\n",
       "    };\n",
       "  var firstScriptTag = document.getElementsByTagName('script')[0];\n",
       "  firstScriptTag.parentNode.insertBefore(tag, firstScriptTag);\n",
       "});\n",
       "};\n",
       "\n",
       "if(typeof $3Dmolpromise === 'undefined') {\n",
       "$3Dmolpromise = null;\n",
       "  $3Dmolpromise = loadScriptAsync('https://cdnjs.cloudflare.com/ajax/libs/3Dmol/2.4.2/3Dmol-min.js');\n",
       "}\n",
       "\n",
       "var viewer_1750152507619892 = null;\n",
       "var warn = document.getElementById(\"3dmolwarning_1750152507619892\");\n",
       "if(warn) {\n",
       "    warn.parentNode.removeChild(warn);\n",
       "}\n",
       "$3Dmolpromise.then(function() {\n",
       "viewer_1750152507619892 = $3Dmol.createViewer(document.getElementById(\"3dmolviewer_1750152507619892\"),{backgroundColor:\"white\"});\n",
       "viewer_1750152507619892.zoomTo();\n",
       "\tviewer_1750152507619892.addModel(\"3\\n\\nO              0.000000000000         0.000000000000         0.000000000000\\nO              0.000000000000         1.088500000000         0.669700000000\\nO              0.000000000000        -1.088500000000         0.669700000000\\n\");\n",
       "\tviewer_1750152507619892.setViewStyle({\"style\": \"outline\", \"width\": 0.05});\n",
       "\tviewer_1750152507619892.setStyle({\"stick\": {}, \"sphere\": {\"scale\": 0.25}});\n",
       "\tviewer_1750152507619892.zoomTo();\n",
       "viewer_1750152507619892.render();\n",
       "});\n",
       "</script>"
      ]
     },
     "metadata": {},
     "output_type": "display_data"
    }
   ],
   "source": [
    "mol_str = \"\"\"\n",
    "O 0.0000   0.0000   0.0000\n",
    "O 0.0000   1.0885   0.6697\n",
    "O 0.0000  -1.0885   0.6697\n",
    "\"\"\"\n",
    "\n",
    "molecule = vlx.Molecule.read_str(mol_str)\n",
    "basis = vlx.MolecularBasis.read(molecule,\"def2-svp\")\n",
    "\n",
    "molecule.show()"
   ]
  },
  {
   "cell_type": "markdown",
   "id": "0a385a3b-e483-41fb-b432-bcf68bd85e08",
   "metadata": {},
   "source": [
    "Before running MCSCF, we need starting orbitals. We can run a Hartree-Fock or DFT calculation using VeloxChem or simply use a cheap guess."
   ]
  },
  {
   "cell_type": "code",
   "execution_count": 3,
   "id": "cc86593d-290e-4d16-8581-4750b5ec45db",
   "metadata": {},
   "outputs": [],
   "source": [
    "orbguess = mtp.OrbitalGuess()\n",
    "start_orbs = orbguess.compute(molecule, basis)"
   ]
  },
  {
   "cell_type": "markdown",
   "id": "93149fec-cf63-47b1-9263-c047f4f132bd",
   "metadata": {},
   "source": [
    "We then need to define an active space. Here, we will use all valence 2p orbitals, i.e. 9 orbitals. This corresponds to 12 electrons. With this, we have all we need to run a MCSCF."
   ]
  },
  {
   "cell_type": "code",
   "execution_count": 4,
   "id": "d68d48bb-375c-48da-b4bc-7d698a6db6b8",
   "metadata": {
    "scrolled": true
   },
   "outputs": [
    {
     "name": "stdout",
     "output_type": "stream",
     "text": [
      "                                                                                                                          \n",
      "                          Multi-Configurational Self-Consistent Field Driver\n",
      "                         ====================================================\n",
      "                                                                                                                          \n",
      "\n",
      "               Active space definition:\n",
      "               ------------------------\n",
      "               Number of inactive (occupied) orbitals: 6\n",
      "               Number of active orbitals:              9\n",
      "               Number of virtual orbitals:             27\n",
      "\n",
      "               This is a CASSCF wavefunction: CAS(12,9)\n",
      "\n",
      "               CI expansion:\n",
      "               -------------\n",
      "               Number of determinants:      7056\n",
      "\n",
      "\n",
      "                                                                                                                          \n",
      "               ╭────────────────────────────────────╮\n",
      "               │          Driver settings           │\n",
      "               ╰────────────────────────────────────╯\n",
      "                                                                                                                          \n",
      "                                                                                                                          \n",
      "               Number of states              :   1\n",
      "               State-specific calculation\n",
      "                - State of interest          :   1\n",
      "               Max. iterations               :   50\n",
      "               BFGS window                   :   5\n",
      "               Convergence thresholds:\n",
      "                - Energy change              :   1e-08\n",
      "                - Gradient sq. norm          :   1e-08\n",
      "                                                                                                                          \n",
      "                                                                                                                          \n",
      "                          MCSCF Iterations\n",
      "                         -------------------\n",
      "                                                                                                                          \n",
      "     Iter. | Average Energy | E. Change | Grad. Norm | CI Iter. | Trust rad. |  Time\n",
      "     ---------------------------------------------------------------------------------\n",
      "        1     -223.990804437     0.0e+00      1.3e+00         16        0.40    0:00:00\n",
      "        2     -224.232908972    -2.4e-01      1.4e-01         13        0.40    0:00:00\n",
      "        3     -224.282444053    -5.0e-02      9.9e-03          4        0.48    0:00:00\n",
      "        4     -224.287947547    -5.5e-03      1.3e-03          5        0.58    0:00:00\n",
      "        5     -224.288699205    -7.5e-04      1.4e-04          7        0.69    0:00:00\n",
      "        6     -224.288825541    -1.3e-04      3.4e-05          8        0.80    0:00:00\n",
      "        7     -224.288849991    -2.4e-05      1.0e-05          9        0.80    0:00:00\n",
      "        8     -224.288856149    -6.2e-06      8.6e-07         10        0.80    0:00:00\n",
      "        9     -224.288856768    -6.2e-07      1.1e-07         11        0.80    0:00:00\n",
      "       10     -224.288856965    -2.0e-07      4.8e-08         13        0.80    0:00:00\n",
      "       11     -224.288857015    -5.0e-08      2.0e-08         13        0.80    0:00:00\n",
      "       12     -224.288857027    -1.3e-08      1.9e-09         14        0.80    0:00:00\n",
      "       13     -224.288857028    -9.1e-10      1.1e-10         14        0.80    0:00:00\n",
      "** Convergence reached in 13 iterations\n",
      "       14     -224.288857028    -6.8e-11      9.8e-12         14        0.80    0:00:00\n",
      "                                                                                                                          \n",
      "               Final results\n",
      "               -------------\n",
      "                                                                                                                          \n",
      "* State 1\n",
      "  - S^2    : 0.00  (multiplicity = 1.0 )\n",
      "  - Energy : -224.28885702812042\n",
      "  - Natural orbitals\n",
      "1.99224 1.99029 1.96397 1.95643 1.94794 1.76948 0.26738 0.06074 0.05154\n",
      "                                                                                                                          \n",
      "                                                 Spin Restricted Orbitals                                                 \n",
      "                                                 ------------------------                                                 \n",
      "                                                                                                                          \n",
      "               Molecular Orbital No.   5:                                                                                 \n",
      "               --------------------------                                                                                 \n",
      "               Occupation: 2.000 Energy:   -1.26697 a.u.                                                                  \n",
      "               (   2 O   1s  :     0.22) (   2 O   2s  :     0.45) (   2 O   3s  :     0.34)                              \n",
      "               (   3 O   1s  :    -0.22) (   3 O   2s  :    -0.45) (   3 O   3s  :    -0.34)                              \n",
      "                                                                                                                          \n",
      "               Molecular Orbital No.   6:                                                                                 \n",
      "               --------------------------                                                                                 \n",
      "               Occupation: 2.000 Energy:   -1.01014 a.u.                                                                  \n",
      "               (   1 O   1s  :     0.18) (   1 O   2s  :     0.41) (   1 O   3s  :     0.31)                              \n",
      "               (   1 O   1p0 :    -0.25) (   2 O   2s  :    -0.27) (   2 O   3s  :    -0.23)                              \n",
      "               (   2 O   1p0 :    -0.20) (   3 O   2s  :    -0.27) (   3 O   3s  :    -0.23)                              \n",
      "               (   3 O   1p0 :    -0.20)                                                                                  \n",
      "                                                                                                                          \n",
      "               Molecular Orbital No.   7:                                                                                 \n",
      "               --------------------------                                                                                 \n",
      "               Occupation: 1.992 Energy:   -0.60885 a.u.                                                                  \n",
      "               (   2 O   1p-1:    -0.23) (   2 O   1p0 :     0.41) (   2 O   2p-1:    -0.19)                              \n",
      "               (   2 O   2p0 :     0.27) (   3 O   1p-1:    -0.23) (   3 O   1p0 :    -0.41)                              \n",
      "               (   3 O   2p-1:    -0.19) (   3 O   2p0 :    -0.27)                                                        \n",
      "                                                                                                                          \n",
      "               Molecular Orbital No.   8:                                                                                 \n",
      "               --------------------------                                                                                 \n",
      "               Occupation: 1.990 Energy:   -0.74347 a.u.                                                                  \n",
      "               (   1 O   2s  :     0.32) (   1 O   3s  :     0.33) (   2 O   3s  :    -0.16)                              \n",
      "               (   2 O   1p-1:    -0.23) (   2 O   1p0 :     0.33) (   2 O   2p0 :     0.26)                              \n",
      "               (   3 O   3s  :    -0.16) (   3 O   1p-1:     0.23) (   3 O   1p0 :     0.33)                              \n",
      "               (   3 O   2p0 :     0.26)                                                                                  \n",
      "                                                                                                                          \n",
      "               Molecular Orbital No.   9:                                                                                 \n",
      "               --------------------------                                                                                 \n",
      "               Occupation: 1.964 Energy:   -0.76348 a.u.                                                                  \n",
      "               (   1 O   1p+1:    -0.55) (   1 O   2p+1:    -0.34) (   2 O   1p+1:    -0.23)                              \n",
      "               (   3 O   1p+1:    -0.23)                                                                                  \n",
      "                                                                                                                          \n",
      "               Molecular Orbital No.  10:                                                                                 \n",
      "               --------------------------                                                                                 \n",
      "               Occupation: 1.956 Energy:   -0.84371 a.u.                                                                  \n",
      "               (   1 O   1p0 :     0.54) (   1 O   2p0 :     0.33) (   2 O   1p-1:    -0.19)                              \n",
      "               (   2 O   1p0 :    -0.25) (   2 O   2p0 :    -0.17) (   3 O   1p-1:     0.19)                              \n",
      "               (   3 O   1p0 :    -0.25) (   3 O   2p0 :    -0.17)                                                        \n",
      "                                                                                                                          \n",
      "               Molecular Orbital No.  11:                                                                                 \n",
      "               --------------------------                                                                                 \n",
      "               Occupation: 1.948 Energy:   -0.83932 a.u.                                                                  \n",
      "               (   1 O   1p-1:    -0.48) (   1 O   2p-1:    -0.20) (   2 O   1p-1:     0.35)                              \n",
      "               (   2 O   2p-1:     0.20) (   3 O   1p-1:     0.35) (   3 O   2p-1:     0.20)                              \n",
      "                                                                                                                          \n",
      "               Molecular Orbital No.  12:                                                                                 \n",
      "               --------------------------                                                                                 \n",
      "               Occupation: 1.769 Energy:   -0.43543 a.u.                                                                  \n",
      "               (   2 O   1p+1:    -0.48) (   2 O   2p+1:    -0.34) (   3 O   1p+1:     0.48)                              \n",
      "               (   3 O   2p+1:     0.34)                                                                                  \n",
      "                                                                                                                          \n",
      "               Molecular Orbital No.  13:                                                                                 \n",
      "               --------------------------                                                                                 \n",
      "               Occupation: 0.267 Energy:   -0.05109 a.u.                                                                  \n",
      "               (   1 O   1p+1:     0.46) (   1 O   2p+1:     0.28) (   2 O   1p+1:    -0.50)                              \n",
      "               (   2 O   2p+1:    -0.24) (   3 O   1p+1:    -0.50) (   3 O   2p+1:    -0.24)                              \n",
      "                                                                                                                          \n",
      "               Molecular Orbital No.  14:                                                                                 \n",
      "               --------------------------                                                                                 \n",
      "               Occupation: 0.061 Energy:    0.41592 a.u.                                                                  \n",
      "               (   1 O   1s  :    -0.16) (   1 O   2s  :    -0.48) (   1 O   3s  :    -0.30)                              \n",
      "               (   1 O   1p0 :    -0.57) (   2 O   2s  :     0.17) (   2 O   1p-1:    -0.51)                              \n",
      "               (   2 O   1p0 :    -0.15) (   2 O   2p-1:    -0.18) (   3 O   2s  :     0.17)                              \n",
      "               (   3 O   1p-1:     0.51) (   3 O   1p0 :    -0.15) (   3 O   2p-1:     0.18)                              \n",
      "                                                                                                                          \n",
      "               Molecular Orbital No.  15:                                                                                 \n",
      "               --------------------------                                                                                 \n",
      "               Occupation: 0.052 Energy:    0.51207 a.u.                                                                  \n",
      "               (   1 O   1p-1:     0.76) (   1 O   2p-1:     0.34) (   2 O   2s  :    -0.19)                              \n",
      "               (   2 O   3s  :    -0.22) (   2 O   1p-1:     0.34) (   2 O   1p0 :     0.36)                              \n",
      "               (   2 O   2p-1:     0.21) (   3 O   2s  :     0.19) (   3 O   3s  :     0.22)                              \n",
      "               (   3 O   1p-1:     0.34) (   3 O   1p0 :    -0.36) (   3 O   2p-1:     0.21)                              \n",
      "                                                                                                                          \n",
      "               Molecular Orbital No.  16:                                                                                 \n",
      "               --------------------------                                                                                 \n",
      "               Occupation: 0.000 Energy:    0.90478 a.u.                                                                  \n",
      "               (   1 O   1s  :     0.16) (   1 O   2s  :     0.73) (   1 O   3s  :     0.65)                              \n",
      "               (   1 O   1p0 :    -0.29) (   1 O   2p0 :     0.95) (   2 O   2s  :     0.78)                              \n",
      "               (   2 O   3s  :    -1.26) (   2 O   1p-1:    -0.16) (   2 O   2p-1:     0.69)                              \n",
      "               (   3 O   2s  :     0.78) (   3 O   3s  :    -1.26) (   3 O   1p-1:     0.16)                              \n",
      "               (   3 O   2p-1:    -0.69)                                                                                  \n",
      "                                                                                                                          \n",
      "               Molecular Orbital No.  17:                                                                                 \n",
      "               --------------------------                                                                                 \n",
      "               Occupation: 0.000 Energy:    1.02202 a.u.                                                                  \n",
      "               (   1 O   1p-1:     0.31) (   1 O   2p-1:    -1.30) (   2 O   1s  :     0.15)                              \n",
      "               (   2 O   2s  :     0.72) (   2 O   1p-1:     0.34) (   2 O   2p-1:    -0.73)                              \n",
      "               (   2 O   2p0 :    -0.46) (   3 O   1s  :    -0.15) (   3 O   2s  :    -0.72)                              \n",
      "               (   3 O   1p-1:     0.34) (   3 O   2p-1:    -0.73) (   3 O   2p0 :     0.46)                              \n",
      "                                                                                                                          \n",
      "                                                                                                                          \n",
      "                                                Dipole moment for state 1                                                 \n",
      "                                               ---------------------------                                                \n",
      "                                                                                                                          \n",
      "                                   X   :        -0.000000 a.u.        -0.000000 Debye                                     \n",
      "                                   Y   :         0.000000 a.u.         0.000000 Debye                                     \n",
      "                                   Z   :        -0.200656 a.u.        -0.510016 Debye                                     \n",
      "                                 Total :         0.200656 a.u.         0.510016 Debye                                     \n",
      "                                                                                                                          \n",
      "                                                                                                                          \n",
      "Total MCSCF time: 00:00:06\n"
     ]
    }
   ],
   "source": [
    "orb_space = mtp.OrbSpace(molecule, start_orbs)\n",
    "orb_space.cas(12, 9)\n",
    "\n",
    "mcscf_drv = mtp.McscfDriver()\n",
    "mcscf_dict = mcscf_drv.compute(molecule, basis, orb_space)"
   ]
  },
  {
   "cell_type": "markdown",
   "id": "9e16f6cd-7f77-4574-908c-9c6a8cf55fb9",
   "metadata": {},
   "source": [
    "It is good to always check the orbitals after a calculation. The orb_space object contains the updated orbitals with the active space information."
   ]
  },
  {
   "cell_type": "code",
   "execution_count": 5,
   "id": "2d64ca8f-968a-465d-9291-148ff0d4521d",
   "metadata": {},
   "outputs": [
    {
     "name": "stderr",
     "output_type": "stream",
     "text": [
      "/Users/delcey/anaconda3/envs/vlxenv/lib/python3.12/site-packages/traittypes/traittypes.py:97: UserWarning: Given trait value dtype \"float64\" does not match required type \"float32\". A coerced copy has been created.\n",
      "  warnings.warn(\n"
     ]
    },
    {
     "data": {
      "application/vnd.jupyter.widget-view+json": {
       "model_id": "6a0b9eaebd784fc38ae40c7d0f665259",
       "version_major": 2,
       "version_minor": 0
      },
      "text/plain": [
       "Output()"
      ]
     },
     "metadata": {},
     "output_type": "display_data"
    },
    {
     "data": {
      "application/vnd.jupyter.widget-view+json": {
       "model_id": "1a23d80857944b7192e641de1af3ae67",
       "version_major": 2,
       "version_minor": 0
      },
      "text/plain": [
       "Dropdown(description='Orbital:', index=11, options=(('  1 occ=2.000 ene=-20.826  (alpha HOMO-11)', 0), ('  2 o…"
      ]
     },
     "metadata": {},
     "output_type": "display_data"
    },
    {
     "data": {
      "application/vnd.jupyter.widget-view+json": {
       "model_id": "6dd7374302f6467189f6a7583ad95b62",
       "version_major": 2,
       "version_minor": 0
      },
      "text/plain": [
       "Checkbox(value=True, description='Active')"
      ]
     },
     "metadata": {},
     "output_type": "display_data"
    },
    {
     "data": {
      "application/vnd.jupyter.widget-view+json": {
       "model_id": "b09394940a294c0984228b72d44afb30",
       "version_major": 2,
       "version_minor": 0
      },
      "text/plain": [
       "Output()"
      ]
     },
     "metadata": {},
     "output_type": "display_data"
    },
    {
     "data": {
      "application/vnd.jupyter.widget-view+json": {
       "model_id": "b0eb9eb6716a40428055d528bfb82721",
       "version_major": 2,
       "version_minor": 0
      },
      "text/plain": [
       "HBox(children=(Text(value='input-cas.h5', description='Filename'), Button(description='Save h5 file', style=Bu…"
      ]
     },
     "metadata": {},
     "output_type": "display_data"
    }
   ],
   "source": [
    "viewer = mtp.OrbitalViewer()\n",
    "viewer.plot(molecule, basis, orb_space)"
   ]
  },
  {
   "cell_type": "markdown",
   "id": "a8dd6424-d205-4420-90a5-a9f51f129ace",
   "metadata": {},
   "source": [
    "The orbitals in the active space are sorted by occupation numbers, not by energy (although here they match). The HOMO and LUMO in the ozone molecule have occupations differing significantly from 2 and 0, highlighting that this molecule is strongly correlated and would not be well described by single reference methods like DFT."
   ]
  },
  {
   "cell_type": "markdown",
   "id": "2c489a7f-be49-4e03-91d9-3554ab49d570",
   "metadata": {},
   "source": [
    "## Orbital selection for MC-PDFT of a metal complex\n",
    "\n",
    "The example before worked immediately as we used all valence orbitals and they were conveniently located around the HOMO-LUMO gap.\n",
    "\n",
    "This is not always the case, and sometimes, we need manual selection. Here let's look at the metal complex chromyl chloride. We're also going to use MC-PDFT with the translated BLYP functional (tBLYP)."
   ]
  },
  {
   "cell_type": "code",
   "execution_count": 6,
   "id": "30a29de0-4b53-4d1f-aa35-fc5235af7c00",
   "metadata": {
    "scrolled": true
   },
   "outputs": [
    {
     "data": {
      "application/3dmoljs_load.v0": "<div id=\"3dmolviewer_1750152514669526\"  style=\"position: relative; width: 400px; height: 300px;\">\n        <p id=\"3dmolwarning_1750152514669526\" style=\"background-color:#ffcccc;color:black\">3Dmol.js failed to load for some reason.  Please check your browser console for error messages.<br></p>\n        </div>\n<script>\n\nvar loadScriptAsync = function(uri){\n  return new Promise((resolve, reject) => {\n    //this is to ignore the existence of requirejs amd\n    var savedexports, savedmodule;\n    if (typeof exports !== 'undefined') savedexports = exports;\n    else exports = {}\n    if (typeof module !== 'undefined') savedmodule = module;\n    else module = {}\n\n    var tag = document.createElement('script');\n    tag.src = uri;\n    tag.async = true;\n    tag.onload = () => {\n        exports = savedexports;\n        module = savedmodule;\n        resolve();\n    };\n  var firstScriptTag = document.getElementsByTagName('script')[0];\n  firstScriptTag.parentNode.insertBefore(tag, firstScriptTag);\n});\n};\n\nif(typeof $3Dmolpromise === 'undefined') {\n$3Dmolpromise = null;\n  $3Dmolpromise = loadScriptAsync('https://cdnjs.cloudflare.com/ajax/libs/3Dmol/2.4.2/3Dmol-min.js');\n}\n\nvar viewer_1750152514669526 = null;\nvar warn = document.getElementById(\"3dmolwarning_1750152514669526\");\nif(warn) {\n    warn.parentNode.removeChild(warn);\n}\n$3Dmolpromise.then(function() {\nviewer_1750152514669526 = $3Dmol.createViewer(document.getElementById(\"3dmolviewer_1750152514669526\"),{backgroundColor:\"white\"});\nviewer_1750152514669526.zoomTo();\n\tviewer_1750152514669526.addModel(\"5\\n\\nCr             0.000000000000        -0.000000000000         0.000000000000\\nO              0.920400000000         0.000000000000         1.278200000000\\nO              0.920400000000         0.000000000000        -1.278200000000\\nF             -0.981700000000         1.416200000000        -0.000000000000\\nF             -0.981700000000        -1.416200000000        -0.000000000000\\n\");\n\tviewer_1750152514669526.setViewStyle({\"style\": \"outline\", \"width\": 0.05});\n\tviewer_1750152514669526.setStyle({\"stick\": {}, \"sphere\": {\"scale\": 0.25}});\n\tviewer_1750152514669526.zoomTo();\nviewer_1750152514669526.render();\n});\n</script>",
      "text/html": [
       "<div id=\"3dmolviewer_1750152514669526\"  style=\"position: relative; width: 400px; height: 300px;\">\n",
       "        <p id=\"3dmolwarning_1750152514669526\" style=\"background-color:#ffcccc;color:black\">3Dmol.js failed to load for some reason.  Please check your browser console for error messages.<br></p>\n",
       "        </div>\n",
       "<script>\n",
       "\n",
       "var loadScriptAsync = function(uri){\n",
       "  return new Promise((resolve, reject) => {\n",
       "    //this is to ignore the existence of requirejs amd\n",
       "    var savedexports, savedmodule;\n",
       "    if (typeof exports !== 'undefined') savedexports = exports;\n",
       "    else exports = {}\n",
       "    if (typeof module !== 'undefined') savedmodule = module;\n",
       "    else module = {}\n",
       "\n",
       "    var tag = document.createElement('script');\n",
       "    tag.src = uri;\n",
       "    tag.async = true;\n",
       "    tag.onload = () => {\n",
       "        exports = savedexports;\n",
       "        module = savedmodule;\n",
       "        resolve();\n",
       "    };\n",
       "  var firstScriptTag = document.getElementsByTagName('script')[0];\n",
       "  firstScriptTag.parentNode.insertBefore(tag, firstScriptTag);\n",
       "});\n",
       "};\n",
       "\n",
       "if(typeof $3Dmolpromise === 'undefined') {\n",
       "$3Dmolpromise = null;\n",
       "  $3Dmolpromise = loadScriptAsync('https://cdnjs.cloudflare.com/ajax/libs/3Dmol/2.4.2/3Dmol-min.js');\n",
       "}\n",
       "\n",
       "var viewer_1750152514669526 = null;\n",
       "var warn = document.getElementById(\"3dmolwarning_1750152514669526\");\n",
       "if(warn) {\n",
       "    warn.parentNode.removeChild(warn);\n",
       "}\n",
       "$3Dmolpromise.then(function() {\n",
       "viewer_1750152514669526 = $3Dmol.createViewer(document.getElementById(\"3dmolviewer_1750152514669526\"),{backgroundColor:\"white\"});\n",
       "viewer_1750152514669526.zoomTo();\n",
       "\tviewer_1750152514669526.addModel(\"5\\n\\nCr             0.000000000000        -0.000000000000         0.000000000000\\nO              0.920400000000         0.000000000000         1.278200000000\\nO              0.920400000000         0.000000000000        -1.278200000000\\nF             -0.981700000000         1.416200000000        -0.000000000000\\nF             -0.981700000000        -1.416200000000        -0.000000000000\\n\");\n",
       "\tviewer_1750152514669526.setViewStyle({\"style\": \"outline\", \"width\": 0.05});\n",
       "\tviewer_1750152514669526.setStyle({\"stick\": {}, \"sphere\": {\"scale\": 0.25}});\n",
       "\tviewer_1750152514669526.zoomTo();\n",
       "viewer_1750152514669526.render();\n",
       "});\n",
       "</script>"
      ]
     },
     "metadata": {},
     "output_type": "display_data"
    }
   ],
   "source": [
    "mol_str = \"\"\"\n",
    "Cr             0.0000        -0.0000         0.0000\n",
    "O              0.9204         0.0000         1.2782\n",
    "O              0.9204         0.0000        -1.2782\n",
    "F             -0.9817         1.4162        -0.0000\n",
    "F             -0.9817        -1.4162        -0.0000\n",
    "\"\"\"\n",
    "molecule = vlx.Molecule.read_str(mol_str)\n",
    "basis = vlx.MolecularBasis.read(molecule, 'def2-sv(p)')\n",
    "molecule.show()"
   ]
  },
  {
   "cell_type": "code",
   "execution_count": 7,
   "id": "67e11483-1d4d-4c98-9dd5-2713f995c2e0",
   "metadata": {
    "scrolled": true
   },
   "outputs": [
    {
     "name": "stdout",
     "output_type": "stream",
     "text": [
      "                                                                                                                          \n",
      "                                            Self Consistent Field Driver Setup                                            \n",
      "                                           ====================================                                           \n",
      "                                                                                                                          \n",
      "                   Wave Function Model             : Spin-Restricted Kohn-Sham                                            \n",
      "                   Initial Guess Model             : Superposition of Atomic Densities                                    \n",
      "                   Convergence Accelerator         : Direct Inversion of Iterative Subspace                               \n",
      "                   Max. Number of Iterations       : 50                                                                   \n",
      "                   Max. Number of Error Vectors    : 10                                                                   \n",
      "                   Convergence Threshold           : 1.0e-06                                                              \n",
      "                   ERI Screening Threshold         : 1.0e-12                                                              \n",
      "                   Linear Dependence Threshold     : 1.0e-06                                                              \n",
      "                   Resolution of the Identity      : RI-J                                                                 \n",
      "                   Exchange-Correlation Functional : BLYP                                                                 \n",
      "                   Molecular Grid Level            : 4                                                                    \n",
      "                                                                                                                          \n",
      "* Info * Nuclear repulsion energy: 346.6281305273 a.u.                                                                    \n",
      "                                                                                                                          \n",
      "* Info * Using the BLYP functional.                                                                                       \n",
      "                                                                                                                          \n",
      "         A. D. Becke.,  Phys. Rev. A 38, 3098 (1988)\n",
      "         C. Lee, W. Yang, and R. G. Parr.,  Phys. Rev. B 37, 785 (1988)\n",
      "         B. Miehlich, A. Savin, H. Stoll, and H. Preuss.,  Chem. Phys. Lett. 157, 200 (1989)\n",
      "                                                                                                                          \n",
      "* Info * Using the Libxc library (v7.0.0).                                                                                \n",
      "                                                                                                                          \n",
      "         S. Lehtola, C. Steigemann, M. J.T. Oliveira, and M. A.L. Marques.,  SoftwareX 7, 1–5 (2018)\n",
      "                                                                                                                          \n",
      "* Info * Using the following algorithm for XC numerical integration.                                                      \n",
      "                                                                                                                          \n",
      "         J. Kussmann, H. Laqua and C. Ochsenfeld, J. Chem. Theory Comput. 2021, 17, 1512-1521\n",
      "                                                                                                                          \n",
      "* Info * Molecular grid with 95010 points generated in 0.04 sec.                                                          \n",
      "                                                                                                                          \n",
      "* Info * Overlap matrix computed in 0.00 sec.                                                                             \n",
      "                                                                                                                          \n",
      "* Info * Kinetic energy matrix computed in 0.00 sec.                                                                      \n",
      "                                                                                                                          \n",
      "* Info * Nuclear potential matrix computed in 0.00 sec.                                                                   \n",
      "                                                                                                                          \n",
      "* Info * Orthogonalization matrix computed in 0.00 sec.                                                                   \n",
      "                                                                                                                          \n",
      "* Info * Using the resolution of the identity (RI) approximation.                                                         \n",
      "                                                                                                                          \n",
      "* Info * Dimension of RI auxiliary basis set (DEF2-UNIVERSAL-JFIT): 285                                                   \n",
      "                                                                                                                          \n",
      "* Info * Two-center integrals for RI done in 0.00 sec.                                                                    \n",
      "                                                                                                                          \n",
      "* Info * Matrix inversion for RI done in 0.00 sec.                                                                        \n",
      "                                                                                                                          \n",
      "* Info * Buffer preparation for RI done in 0.10 sec.                                                                      \n",
      "                                                                                                                          \n",
      "                                                                                                                          \n",
      "               Iter. |    Kohn-Sham Energy | Energy Change | Gradient Norm | Max. Gradient | Density Change               \n",
      "               --------------------------------------------------------------------------------------------               \n",
      "                  1     -1380.716319041458    0.0000000000      9.68490766      0.91026643      0.00000000                \n",
      "                  2     -1393.322972789294  -12.6066537478      3.03741459      0.23235223      2.34276405                \n",
      "                  3     -1392.481947182704    0.8410256066      4.47541313      0.25760561      1.56605629                \n",
      "                  4     -1394.050617877965   -1.5686706953      2.02727505      0.17757846      0.88845635                \n",
      "                  5     -1393.555560445744    0.4950574322      3.24108895      0.24524368      0.31294382                \n",
      "                  6     -1393.555507330396    0.0000531153      3.29476649      0.26328819      0.11630118                \n",
      "                  7     -1394.327478384585   -0.7719710542      0.46919429      0.04305368      0.53330491                \n",
      "                  8     -1394.345854488939   -0.0183761044      0.13872358      0.01283163      0.10452920                \n",
      "                  9     -1394.347325722902   -0.0014712340      0.02292487      0.00206865      0.02641565                \n",
      "                 10     -1394.347379758806   -0.0000540359      0.00513695      0.00050611      0.00548284                \n",
      "                 11     -1394.347381735168   -0.0000019764      0.00082108      0.00006417      0.00077299                \n",
      "                 12     -1394.347381802160   -0.0000000670      0.00023419      0.00001547      0.00022533                \n",
      "                 13     -1394.347381805166   -0.0000000030      0.00013842      0.00001337      0.00006488                \n",
      "                 14     -1394.347381806848   -0.0000000017      0.00000628      0.00000050      0.00002115                \n",
      "                 15     -1394.347381806045    0.0000000008      0.00000086      0.00000008      0.00000127                \n",
      "                                                                                                                          \n",
      "               *** SCF converged in 15 iterations. Time: 3.50 sec.                                                        \n",
      "                                                                                                                          \n",
      "               Spin-Restricted Kohn-Sham:                                                                                 \n",
      "               --------------------------                                                                                 \n",
      "               Total Energy                       :    -1394.3473818060 a.u.                                              \n",
      "               Electronic Energy                  :    -1740.9755123333 a.u.                                              \n",
      "               Nuclear Repulsion Energy           :      346.6281305273 a.u.                                              \n",
      "               ------------------------------------                                                                       \n",
      "               Gradient Norm                      :        0.0000008594 a.u.                                              \n",
      "                                                                                                                          \n",
      "                                                                                                                          \n",
      "               Ground State Information                                                                                   \n",
      "               ------------------------                                                                                   \n",
      "               Charge of Molecule            :  0.0                                                                       \n",
      "               Multiplicity (2S+1)           :  1                                                                         \n",
      "               Magnetic Quantum Number (M_S) :  0.0                                                                       \n",
      "                                                                                                                          \n",
      "                                                                                                                          \n",
      "                                                 Spin Restricted Orbitals                                                 \n",
      "                                                 ------------------------                                                 \n",
      "                                                                                                                          \n",
      "               Molecular Orbital No.  25:                                                                                 \n",
      "               --------------------------                                                                                 \n",
      "               Occupation: 2.000 Energy:   -0.37975 a.u.                                                                  \n",
      "               (   1 Cr  2p0 :    -0.17) (   1 Cr  1d+1:     0.21) (   2 O   1p+1:    -0.16)                              \n",
      "               (   2 O   1p0 :    -0.19) (   3 O   1p+1:     0.16) (   3 O   1p0 :    -0.19)                              \n",
      "               (   4 F   1p0 :    -0.39) (   4 F   2p0 :     0.26) (   5 F   1p0 :    -0.39)                              \n",
      "               (   5 F   2p0 :     0.26)                                                                                  \n",
      "                                                                                                                          \n",
      "               Molecular Orbital No.  26:                                                                                 \n",
      "               --------------------------                                                                                 \n",
      "               Occupation: 2.000 Energy:   -0.36687 a.u.                                                                  \n",
      "               (   1 Cr  3s  :     0.18) (   1 Cr  2p+1:     0.17) (   1 Cr  1d+2:    -0.21)                              \n",
      "               (   2 O   1p0 :     0.38) (   2 O   2p0 :     0.26) (   3 O   1p0 :    -0.38)                              \n",
      "               (   3 O   2p0 :    -0.26) (   4 F   1p+1:     0.19) (   5 F   1p+1:     0.19)                              \n",
      "                                                                                                                          \n",
      "               Molecular Orbital No.  27:                                                                                 \n",
      "               --------------------------                                                                                 \n",
      "               Occupation: 2.000 Energy:   -0.35085 a.u.                                                                  \n",
      "               (   1 Cr  1d-2:    -0.15) (   2 O   1p-1:    -0.36) (   2 O   2p-1:    -0.24)                              \n",
      "               (   3 O   1p-1:    -0.36) (   3 O   2p-1:    -0.24) (   4 F   1p-1:    -0.25)                              \n",
      "               (   4 F   2p-1:     0.18) (   5 F   1p-1:    -0.25) (   5 F   2p-1:     0.18)                              \n",
      "                                                                                                                          \n",
      "               Molecular Orbital No.  28:                                                                                 \n",
      "               --------------------------                                                                                 \n",
      "               Occupation: 2.000 Energy:   -0.34924 a.u.                                                                  \n",
      "               (   1 Cr  1d-1:     0.24) (   2 O   1p-1:     0.30) (   2 O   2p-1:     0.20)                              \n",
      "               (   3 O   1p-1:    -0.30) (   3 O   2p-1:    -0.20) (   4 F   1p0 :     0.36)                              \n",
      "               (   4 F   2p0 :    -0.25) (   5 F   1p0 :    -0.36) (   5 F   2p0 :     0.25)                              \n",
      "                                                                                                                          \n",
      "               Molecular Orbital No.  29:                                                                                 \n",
      "               --------------------------                                                                                 \n",
      "               Occupation: 2.000 Energy:   -0.31272 a.u.                                                                  \n",
      "               (   2 O   1p+1:     0.43) (   2 O   1p0 :    -0.18) (   2 O   2p+1:     0.30)                              \n",
      "               (   3 O   1p+1:    -0.43) (   3 O   1p0 :    -0.18) (   3 O   2p+1:    -0.30)                              \n",
      "                                                                                                                          \n",
      "               Molecular Orbital No.  30:                                                                                 \n",
      "               --------------------------                                                                                 \n",
      "               Occupation: 0.000 Energy:   -0.21461 a.u.                                                                  \n",
      "               (   1 Cr  1d+2:     0.75) (   1 Cr  1d0 :    -0.16) (   1 Cr  2d+2:     0.18)                              \n",
      "               (   2 O   1p0 :     0.20) (   2 O   2p0 :     0.17) (   3 O   1p0 :    -0.20)                              \n",
      "               (   3 O   2p0 :    -0.17) (   4 F   1p+1:    -0.20) (   4 F   2p+1:     0.15)                              \n",
      "               (   5 F   1p+1:    -0.20) (   5 F   2p+1:     0.15)                                                        \n",
      "                                                                                                                          \n",
      "               Molecular Orbital No.  31:                                                                                 \n",
      "               --------------------------                                                                                 \n",
      "               Occupation: 0.000 Energy:   -0.20048 a.u.                                                                  \n",
      "               (   1 Cr  1d-1:     0.76) (   1 Cr  2d-1:     0.17) (   2 O   1p-1:    -0.31)                              \n",
      "               (   2 O   2p-1:    -0.24) (   3 O   1p-1:     0.31) (   3 O   2p-1:     0.24)                              \n",
      "                                                                                                                          \n",
      "               Molecular Orbital No.  32:                                                                                 \n",
      "               --------------------------                                                                                 \n",
      "               Occupation: 0.000 Energy:   -0.17450 a.u.                                                                  \n",
      "               (   1 Cr  1d-2:     0.79) (   1 Cr  2d-2:     0.22) (   2 O   1p-1:    -0.22)                              \n",
      "               (   2 O   2p-1:    -0.18) (   3 O   1p-1:    -0.22) (   3 O   2p-1:    -0.18)                              \n",
      "               (   4 F   1p-1:     0.22) (   4 F   2p-1:    -0.19) (   5 F   1p-1:     0.22)                              \n",
      "               (   5 F   2p-1:    -0.19)                                                                                  \n",
      "                                                                                                                          \n",
      "               Molecular Orbital No.  33:                                                                                 \n",
      "               --------------------------                                                                                 \n",
      "               Occupation: 0.000 Energy:   -0.14204 a.u.                                                                  \n",
      "               (   1 Cr  1d0 :    -0.74) (   1 Cr  2d0 :    -0.23) (   2 O   1p+1:    -0.29)                              \n",
      "               (   2 O   2p+1:    -0.27) (   3 O   1p+1:    -0.29) (   3 O   2p+1:    -0.27)                              \n",
      "                                                                                                                          \n",
      "               Molecular Orbital No.  34:                                                                                 \n",
      "               --------------------------                                                                                 \n",
      "               Occupation: 0.000 Energy:   -0.11959 a.u.                                                                  \n",
      "               (   1 Cr  2p0 :    -0.24) (   1 Cr  1d+1:    -0.71) (   1 Cr  2d+1:    -0.27)                              \n",
      "               (   2 O   3s  :     0.19) (   2 O   1p0 :    -0.32) (   2 O   2p0 :    -0.32)                              \n",
      "               (   3 O   3s  :    -0.19) (   3 O   1p0 :    -0.32) (   3 O   2p0 :    -0.32)                              \n",
      "                                                                                                                          \n",
      "                                                                                                                          \n",
      "                                                Ground State Dipole Moment                                                \n",
      "                                               ----------------------------                                               \n",
      "                                                                                                                          \n",
      "                                   X   :        -0.083888 a.u.        -0.213221 Debye                                     \n",
      "                                   Y   :        -0.000000 a.u.        -0.000000 Debye                                     \n",
      "                                   Z   :        -0.000000 a.u.        -0.000000 Debye                                     \n",
      "                                 Total :         0.083888 a.u.         0.213221 Debye                                     \n",
      "                                                                                                                          \n"
     ]
    }
   ],
   "source": [
    "scf_drv = vlx.ScfRestrictedDriver()\n",
    "scf_drv.xcfun = \"BLYP\"\n",
    "scf_drv.ri_coulomb = True\n",
    "scf_results = scf_drv.compute(molecule, basis)"
   ]
  },
  {
   "cell_type": "markdown",
   "id": "1fcff3a1-43f4-4cc8-ba37-ae998bcb335b",
   "metadata": {},
   "source": [
    "We ideally want the Cr - O orbitals, which form the most strongly correlated bonds, but the Cr-Cl and Cl lone pairs are close to the HOMO-LUMO gaps, so we need to manually choose them. The simplest is to use the orbital viewer from MultiPsi to select the orbitals visually and save them in a file."
   ]
  },
  {
   "cell_type": "code",
   "execution_count": 8,
   "id": "75ba8db7-7341-4c73-8860-5c97007cd710",
   "metadata": {},
   "outputs": [
    {
     "data": {
      "application/vnd.jupyter.widget-view+json": {
       "model_id": "2250a231b6e5489a9b5b6c9ad0ecb2c3",
       "version_major": 2,
       "version_minor": 0
      },
      "text/plain": [
       "Output()"
      ]
     },
     "metadata": {},
     "output_type": "display_data"
    },
    {
     "data": {
      "application/vnd.jupyter.widget-view+json": {
       "model_id": "10ec5457d6ac45b38d3c63cea45d3a7c",
       "version_major": 2,
       "version_minor": 0
      },
      "text/plain": [
       "Dropdown(description='Orbital:', index=28, options=(('  1 occ=2.000 ene=-214.810  (alpha HOMO-28)', 0), ('  2 …"
      ]
     },
     "metadata": {},
     "output_type": "display_data"
    },
    {
     "data": {
      "application/vnd.jupyter.widget-view+json": {
       "model_id": "87b2e207fee44c87aaf91610398dfa13",
       "version_major": 2,
       "version_minor": 0
      },
      "text/plain": [
       "Checkbox(value=False, description='Active')"
      ]
     },
     "metadata": {},
     "output_type": "display_data"
    },
    {
     "data": {
      "application/vnd.jupyter.widget-view+json": {
       "model_id": "481020a2d62d413eb243abc453687b2f",
       "version_major": 2,
       "version_minor": 0
      },
      "text/plain": [
       "Output()"
      ]
     },
     "metadata": {},
     "output_type": "display_data"
    },
    {
     "data": {
      "application/vnd.jupyter.widget-view+json": {
       "model_id": "a555ad5bccc242a2b50414ab30c6b893",
       "version_major": 2,
       "version_minor": 0
      },
      "text/plain": [
       "HBox(children=(Text(value='input-cas.h5', description='Filename'), Button(description='Save h5 file', style=Bu…"
      ]
     },
     "metadata": {},
     "output_type": "display_data"
    }
   ],
   "source": [
    "viewer = mtp.OrbitalViewer()\n",
    "viewer.plot(molecule, basis, scf_drv.molecular_orbitals)"
   ]
  },
  {
   "cell_type": "code",
   "execution_count": 9,
   "id": "3df5bc08-87bb-46d9-a256-ce66a7418ebc",
   "metadata": {
    "scrolled": true
   },
   "outputs": [
    {
     "name": "stdout",
     "output_type": "stream",
     "text": [
      "                                                                                                                          \n",
      "                          Multi-Configurational Self-Consistent Field Driver\n",
      "                         ====================================================\n",
      "                                                                                                                          \n",
      "\n",
      "               Active space definition:\n",
      "               ------------------------\n",
      "               Number of inactive (occupied) orbitals: 24\n",
      "               Number of active orbitals:              10\n",
      "               Number of virtual orbitals:             46\n",
      "\n",
      "               This is a CASSCF wavefunction: CAS(10,10)\n",
      "\n",
      "               CI expansion:\n",
      "               -------------\n",
      "               Number of determinants:      63504\n",
      "\n",
      "\n",
      "                                                                                                                          \n",
      "               ╭────────────────────────────────────╮\n",
      "               │          Driver settings           │\n",
      "               ╰────────────────────────────────────╯\n",
      "                                                                                                                          \n",
      "               Functional                    :   tBLYP\n",
      "               Grid level                    :   4\n",
      "                                                                                                                          \n",
      "               Number of states              :   1\n",
      "               State-specific calculation\n",
      "                - State of interest          :   1\n",
      "               Using the resolution of the identity (RI) approximation.\n",
      "                - Auxiliary basis            :   def2-universal-jfit\n",
      "               Max. iterations               :   50\n",
      "               BFGS window                   :   5\n",
      "               Convergence thresholds:\n",
      "                - Energy change              :   1e-06\n",
      "                - Gradient sq. norm          :   1e-06\n",
      "                                                                                                                          \n",
      "                                                                                                                          \n",
      "                          MC-PDFT Iterations\n",
      "                         -------------------\n",
      "                                                                                                                          \n",
      "     Iter. | Average Energy | E. Change | Grad. Norm | CI Iter. | Trust rad. |  Time\n",
      "     ---------------------------------------------------------------------------------\n",
      "        1     -1394.353182276     0.0e+00      8.8e-05          8        0.40    0:00:10\n",
      "        2     -1394.356627163    -3.4e-03      2.4e-04         12        0.40    0:00:15\n",
      "        3     -1394.361127961    -4.5e-03      1.8e-03          5        0.56    0:00:07\n",
      "        4     -1394.364059074    -2.9e-03      3.1e-04          6        0.78    0:00:08\n",
      "        5     -1394.364855396    -8.0e-04      2.0e-04          6        0.78    0:00:09\n",
      "        6     -1394.364902849    -4.7e-05      2.6e-04          7        0.80    0:00:09\n",
      "        7     -1394.365099390    -2.0e-04      1.1e-05          9        0.56    0:00:10\n",
      "        8     -1394.365119721    -2.0e-05      3.0e-06          7        0.67    0:00:11\n",
      "        9     -1394.365126328    -6.6e-06      2.3e-05          8        0.80    0:00:11\n",
      "       10     -1394.365130081    -3.8e-06      9.2e-06          9        0.80    0:00:14\n",
      "       11     -1394.365133509    -3.4e-06      6.7e-07          8        0.80    0:00:12\n",
      "       12     -1394.365133937    -4.3e-07      2.3e-07          9        0.80    0:00:13\n",
      "** Convergence reached in 12 iterations\n",
      "       13     -1394.365134436    -5.0e-07      4.5e-08         11        0.80    0:00:15\n",
      "                                                                                                                          \n",
      "               Final results\n",
      "               -------------\n",
      "                                                                                                                          \n",
      "* State 1\n",
      "  - S^2    : 0.00  (multiplicity = 1.0 )\n",
      "  - Energy : -1394.3651344364232\n",
      "  - Natural orbitals\n",
      "1.99147 1.98946 1.98850 1.98687 1.98256 0.01956 0.01151 0.01121 0.01110 0.00775\n",
      "                                                                                                                          \n",
      "                                                 Spin Restricted Orbitals                                                 \n",
      "                                                 ------------------------                                                 \n",
      "                                                                                                                          \n",
      "               Molecular Orbital No.  23:                                                                                 \n",
      "               --------------------------                                                                                 \n",
      "               Occupation: 2.000 Energy:   -0.38011 a.u.                                                                  \n",
      "               (   4 F   1p+1:     0.42) (   4 F   1p-1:     0.23) (   4 F   2p+1:    -0.29)                              \n",
      "               (   4 F   2p-1:    -0.15) (   5 F   1p+1:    -0.42) (   5 F   1p-1:     0.23)                              \n",
      "               (   5 F   2p+1:     0.29) (   5 F   2p-1:    -0.15)                                                        \n",
      "                                                                                                                          \n",
      "               Molecular Orbital No.  24:                                                                                 \n",
      "               --------------------------                                                                                 \n",
      "               Occupation: 2.000 Energy:   -0.31666 a.u.                                                                  \n",
      "               (   2 O   1p+1:    -0.45) (   2 O   2p+1:    -0.31) (   3 O   1p+1:     0.47)                              \n",
      "               (   3 O   2p+1:     0.32)                                                                                  \n",
      "                                                                                                                          \n",
      "               Molecular Orbital No.  25:                                                                                 \n",
      "               --------------------------                                                                                 \n",
      "               Occupation: 1.991 Energy:   -0.43583 a.u.                                                                  \n",
      "               (   1 Cr  1d0 :     0.48) (   2 O   1p+1:    -0.33) (   2 O   1p0 :    -0.20)                              \n",
      "               (   2 O   2p+1:    -0.20) (   3 O   1p+1:    -0.32) (   3 O   1p0 :     0.20)                              \n",
      "               (   3 O   2p+1:    -0.19)                                                                                  \n",
      "                                                                                                                          \n",
      "               Molecular Orbital No.  26:                                                                                 \n",
      "               --------------------------                                                                                 \n",
      "               Occupation: 1.989 Energy:   -0.43765 a.u.                                                                  \n",
      "               (   1 Cr  1d+1:    -0.55) (   2 O   1p0 :     0.35) (   2 O   2p0 :     0.21)                              \n",
      "               (   3 O   1p0 :     0.38) (   3 O   2p0 :     0.23)                                                        \n",
      "                                                                                                                          \n",
      "               Molecular Orbital No.  27:                                                                                 \n",
      "               --------------------------                                                                                 \n",
      "               Occupation: 1.988 Energy:   -0.40370 a.u.                                                                  \n",
      "               (   1 Cr  2p+1:     0.15) (   1 Cr  1d+2:    -0.41) (   1 Cr  1d0 :     0.16)                              \n",
      "               (   2 O   1p0 :     0.36) (   2 O   2p0 :     0.23) (   3 O   1p0 :    -0.34)                              \n",
      "               (   3 O   2p0 :    -0.22)                                                                                  \n",
      "                                                                                                                          \n",
      "               Molecular Orbital No.  28:                                                                                 \n",
      "               --------------------------                                                                                 \n",
      "               Occupation: 1.987 Energy:   -0.38013 a.u.                                                                  \n",
      "               (   1 Cr  2p-1:     0.15) (   1 Cr  3p-1:    -0.15) (   1 Cr  1d-2:    -0.36)                              \n",
      "               (   2 O   1p-1:    -0.40) (   2 O   2p-1:    -0.25) (   3 O   1p-1:    -0.40)                              \n",
      "               (   3 O   2p-1:    -0.25)                                                                                  \n",
      "                                                                                                                          \n",
      "               Molecular Orbital No.  29:                                                                                 \n",
      "               --------------------------                                                                                 \n",
      "               Occupation: 1.983 Energy:   -0.38861 a.u.                                                                  \n",
      "               (   1 Cr  1d-1:    -0.48) (   1 Cr  2d-1:    -0.15) (   2 O   1p-1:    -0.37)                              \n",
      "               (   2 O   2p-1:    -0.23) (   3 O   1p-1:     0.37) (   3 O   2p-1:     0.23)                              \n",
      "                                                                                                                          \n",
      "               Molecular Orbital No.  30:                                                                                 \n",
      "               --------------------------                                                                                 \n",
      "               Occupation: 0.020 Energy:   -0.16846 a.u.                                                                  \n",
      "               (   1 Cr  1d-1:    -0.73) (   1 Cr  2d-1:    -0.15) (   2 O   1p-1:     0.42)                              \n",
      "               (   3 O   1p-1:    -0.41)                                                                                  \n",
      "                                                                                                                          \n",
      "               Molecular Orbital No.  31:                                                                                 \n",
      "               --------------------------                                                                                 \n",
      "               Occupation: 0.012 Energy:   -0.15766 a.u.                                                                  \n",
      "               (   1 Cr  1d+2:     0.63) (   1 Cr  1d0 :    -0.40) (   2 O   1p+1:    -0.25)                              \n",
      "               (   2 O   1p0 :     0.34) (   3 O   1p+1:    -0.27) (   3 O   1p0 :    -0.24)                              \n",
      "                                                                                                                          \n",
      "               Molecular Orbital No.  32:                                                                                 \n",
      "               --------------------------                                                                                 \n",
      "               Occupation: 0.011 Energy:   -0.05813 a.u.                                                                  \n",
      "               (   1 Cr  1d+1:     0.76) (   2 O   1p+1:     0.15) (   2 O   1p0 :     0.41)                              \n",
      "               (   3 O   1p0 :     0.47)                                                                                  \n",
      "                                                                                                                          \n",
      "               Molecular Orbital No.  33:                                                                                 \n",
      "               --------------------------                                                                                 \n",
      "               Occupation: 0.011 Energy:   -0.09864 a.u.                                                                  \n",
      "               (   1 Cr  3p-1:    -0.27) (   1 Cr  1d-2:    -0.68) (   1 Cr  2d-2:    -0.19)                              \n",
      "               (   2 O   1p-1:     0.40) (   3 O   1p-1:     0.40) (   4 F   1p-1:    -0.19)                              \n",
      "               (   4 F   2p-1:     0.17) (   5 F   1p-1:    -0.19) (   5 F   2p-1:     0.17)                              \n",
      "                                                                                                                          \n",
      "               Molecular Orbital No.  34:                                                                                 \n",
      "               --------------------------                                                                                 \n",
      "               Occupation: 0.008 Energy:   -0.04585 a.u.                                                                  \n",
      "               (   1 Cr  4s  :    -0.27) (   1 Cr  1d+2:    -0.42) (   1 Cr  1d0 :    -0.66)                              \n",
      "               (   2 O   1p+1:    -0.32) (   2 O   1p0 :    -0.28) (   3 O   1p+1:    -0.32)                              \n",
      "               (   3 O   1p0 :     0.29)                                                                                  \n",
      "                                                                                                                          \n",
      "               Molecular Orbital No.  35:                                                                                 \n",
      "               --------------------------                                                                                 \n",
      "               Occupation: 0.000 Energy:   -0.01651 a.u.                                                                  \n",
      "               (   1 Cr  5s  :    -1.28) (   2 O   3s  :     0.18) (   3 O   3s  :     0.18)                              \n",
      "               (   4 F   3s  :     0.19) (   5 F   3s  :     0.19)                                                        \n",
      "                                                                                                                          \n",
      "               Molecular Orbital No.  36:                                                                                 \n",
      "               --------------------------                                                                                 \n",
      "               Occupation: 0.000 Energy:    0.12764 a.u.                                                                  \n",
      "               (   1 Cr  3s  :     0.46) (   1 Cr  4s  :    -3.09) (   1 Cr  5s  :     1.82)                              \n",
      "               (   1 Cr  3p+1:    -0.24) (   2 O   3s  :     0.54) (   2 O   2p0 :    -0.17)                              \n",
      "               (   3 O   3s  :     0.54) (   3 O   2p0 :     0.17) (   4 F   3s  :     0.26)                              \n",
      "               (   5 F   3s  :     0.26)                                                                                  \n",
      "                                                                                                                          \n",
      "                                                                                                                          \n",
      "                                                Dipole moment for state 1                                                 \n",
      "                                               ---------------------------                                                \n",
      "                                                                                                                          \n",
      "                                   X   :        -0.024166 a.u.        -0.061423 Debye                                     \n",
      "                                   Y   :        -0.000029 a.u.        -0.000074 Debye                                     \n",
      "                                   Z   :         0.001263 a.u.         0.003210 Debye                                     \n",
      "                                 Total :         0.024199 a.u.         0.061507 Debye                                     \n",
      "                                                                                                                          \n",
      "                                                                                                                          \n",
      "Total MC-PDFT time: 00:02:29\n"
     ]
    }
   ],
   "source": [
    "# chosen orbitals 20 23 26 27 28 30 31 32 33 34\n",
    "orb_space = mtp.OrbSpace(molecule, \"input-cas.h5\")\n",
    "\n",
    "mcscf_drv = mtp.McscfDriver()\n",
    "mcscf_drv.xcfun = \"tBLYP\"\n",
    "mcscf_drv.ri = True\n",
    "mcscf_drv.gradient_thresh = 1.0e-6\n",
    "mcscf_drv.e_change_thresh = 1.0e-6\n",
    "mcscf_drv.ci_extra_tightness = 1.0e-1\n",
    "mcscf_dict = mcscf_drv.compute(molecule, basis, orb_space)"
   ]
  },
  {
   "cell_type": "markdown",
   "id": "35b7cea8-72eb-44ab-bfbe-5dd8e0e3c9db",
   "metadata": {},
   "source": [
    "Again, we should visualize the final orbitals. Note that the occupation numbers are closer to 2 and 0 than in the ozone example, but this is mostly due to using MC-PDFT."
   ]
  },
  {
   "cell_type": "code",
   "execution_count": 10,
   "id": "4c1bf201-a03b-4e2b-9b37-a21c45fcc0cf",
   "metadata": {},
   "outputs": [
    {
     "data": {
      "application/vnd.jupyter.widget-view+json": {
       "model_id": "4aa5c96a6f774dfc9f4fbfaceb89b526",
       "version_major": 2,
       "version_minor": 0
      },
      "text/plain": [
       "Output()"
      ]
     },
     "metadata": {},
     "output_type": "display_data"
    },
    {
     "data": {
      "application/vnd.jupyter.widget-view+json": {
       "model_id": "72d7b20a52b448679b8a7ac23d684723",
       "version_major": 2,
       "version_minor": 0
      },
      "text/plain": [
       "Dropdown(description='Orbital:', index=28, options=(('  1 occ=2.000 ene=-214.802  (alpha HOMO-28)', 0), ('  2 …"
      ]
     },
     "metadata": {},
     "output_type": "display_data"
    },
    {
     "data": {
      "application/vnd.jupyter.widget-view+json": {
       "model_id": "534e6d3ccd7e4d168f3b4f424c2ef226",
       "version_major": 2,
       "version_minor": 0
      },
      "text/plain": [
       "Checkbox(value=True, description='Active')"
      ]
     },
     "metadata": {},
     "output_type": "display_data"
    },
    {
     "data": {
      "application/vnd.jupyter.widget-view+json": {
       "model_id": "ab382377b8f1468d871060b2a1f9b393",
       "version_major": 2,
       "version_minor": 0
      },
      "text/plain": [
       "Output()"
      ]
     },
     "metadata": {},
     "output_type": "display_data"
    },
    {
     "data": {
      "application/vnd.jupyter.widget-view+json": {
       "model_id": "c7138fd82bcb4d2daaaffcac497b2fbf",
       "version_major": 2,
       "version_minor": 0
      },
      "text/plain": [
       "HBox(children=(Text(value='input-cas.h5', description='Filename'), Button(description='Save h5 file', style=Bu…"
      ]
     },
     "metadata": {},
     "output_type": "display_data"
    }
   ],
   "source": [
    "viewer = mtp.OrbitalViewer()\n",
    "viewer.plot(molecule, basis, orb_space)"
   ]
  },
  {
   "cell_type": "markdown",
   "id": "2302b08f-4341-4f2b-9778-cd8fe694554f",
   "metadata": {},
   "source": [
    "## State-averaged MCSCF for benzene\n",
    "MCSCF is particularly useful to compute excited properties. There are several ways to compute excited states with MCSCF, but a very simple one is using state-averaging, i.e. computing all states simultaneously and using the same orbitals.\n",
    "\n",
    "Here we use benzene as a simple example."
   ]
  },
  {
   "cell_type": "code",
   "execution_count": 11,
   "id": "4d0858ea-785e-4ffc-8378-8052fd6974f5",
   "metadata": {},
   "outputs": [
    {
     "data": {
      "application/3dmoljs_load.v0": "<div id=\"3dmolviewer_17501526728780649\"  style=\"position: relative; width: 400px; height: 300px;\">\n        <p id=\"3dmolwarning_17501526728780649\" style=\"background-color:#ffcccc;color:black\">3Dmol.js failed to load for some reason.  Please check your browser console for error messages.<br></p>\n        </div>\n<script>\n\nvar loadScriptAsync = function(uri){\n  return new Promise((resolve, reject) => {\n    //this is to ignore the existence of requirejs amd\n    var savedexports, savedmodule;\n    if (typeof exports !== 'undefined') savedexports = exports;\n    else exports = {}\n    if (typeof module !== 'undefined') savedmodule = module;\n    else module = {}\n\n    var tag = document.createElement('script');\n    tag.src = uri;\n    tag.async = true;\n    tag.onload = () => {\n        exports = savedexports;\n        module = savedmodule;\n        resolve();\n    };\n  var firstScriptTag = document.getElementsByTagName('script')[0];\n  firstScriptTag.parentNode.insertBefore(tag, firstScriptTag);\n});\n};\n\nif(typeof $3Dmolpromise === 'undefined') {\n$3Dmolpromise = null;\n  $3Dmolpromise = loadScriptAsync('https://cdnjs.cloudflare.com/ajax/libs/3Dmol/2.4.2/3Dmol-min.js');\n}\n\nvar viewer_17501526728780649 = null;\nvar warn = document.getElementById(\"3dmolwarning_17501526728780649\");\nif(warn) {\n    warn.parentNode.removeChild(warn);\n}\n$3Dmolpromise.then(function() {\nviewer_17501526728780649 = $3Dmol.createViewer(document.getElementById(\"3dmolviewer_17501526728780649\"),{backgroundColor:\"white\"});\nviewer_17501526728780649.zoomTo();\n\tviewer_17501526728780649.addModel(\"12\\n\\nC              1.400000000000         0.000000000000         0.000000000000\\nC              0.700000000000         1.212000000000         0.000000000000\\nC             -0.700000000000         1.212000000000         0.000000000000\\nC             -1.400000000000         0.000000000000         0.000000000000\\nC             -0.700000000000        -1.212000000000         0.000000000000\\nC              0.700000000000        -1.212000000000         0.000000000000\\nH              2.480000000000         0.000000000000         0.000000000000\\nH              1.240000000000         2.148000000000         0.000000000000\\nH             -1.240000000000         2.148000000000         0.000000000000\\nH             -2.480000000000         0.000000000000         0.000000000000\\nH             -1.240000000000        -2.148000000000         0.000000000000\\nH              1.240000000000        -2.148000000000         0.000000000000\\n\");\n\tviewer_17501526728780649.setViewStyle({\"style\": \"outline\", \"width\": 0.05});\n\tviewer_17501526728780649.setStyle({\"stick\": {}, \"sphere\": {\"scale\": 0.25}});\n\tviewer_17501526728780649.zoomTo();\nviewer_17501526728780649.render();\n});\n</script>",
      "text/html": [
       "<div id=\"3dmolviewer_17501526728780649\"  style=\"position: relative; width: 400px; height: 300px;\">\n",
       "        <p id=\"3dmolwarning_17501526728780649\" style=\"background-color:#ffcccc;color:black\">3Dmol.js failed to load for some reason.  Please check your browser console for error messages.<br></p>\n",
       "        </div>\n",
       "<script>\n",
       "\n",
       "var loadScriptAsync = function(uri){\n",
       "  return new Promise((resolve, reject) => {\n",
       "    //this is to ignore the existence of requirejs amd\n",
       "    var savedexports, savedmodule;\n",
       "    if (typeof exports !== 'undefined') savedexports = exports;\n",
       "    else exports = {}\n",
       "    if (typeof module !== 'undefined') savedmodule = module;\n",
       "    else module = {}\n",
       "\n",
       "    var tag = document.createElement('script');\n",
       "    tag.src = uri;\n",
       "    tag.async = true;\n",
       "    tag.onload = () => {\n",
       "        exports = savedexports;\n",
       "        module = savedmodule;\n",
       "        resolve();\n",
       "    };\n",
       "  var firstScriptTag = document.getElementsByTagName('script')[0];\n",
       "  firstScriptTag.parentNode.insertBefore(tag, firstScriptTag);\n",
       "});\n",
       "};\n",
       "\n",
       "if(typeof $3Dmolpromise === 'undefined') {\n",
       "$3Dmolpromise = null;\n",
       "  $3Dmolpromise = loadScriptAsync('https://cdnjs.cloudflare.com/ajax/libs/3Dmol/2.4.2/3Dmol-min.js');\n",
       "}\n",
       "\n",
       "var viewer_17501526728780649 = null;\n",
       "var warn = document.getElementById(\"3dmolwarning_17501526728780649\");\n",
       "if(warn) {\n",
       "    warn.parentNode.removeChild(warn);\n",
       "}\n",
       "$3Dmolpromise.then(function() {\n",
       "viewer_17501526728780649 = $3Dmol.createViewer(document.getElementById(\"3dmolviewer_17501526728780649\"),{backgroundColor:\"white\"});\n",
       "viewer_17501526728780649.zoomTo();\n",
       "\tviewer_17501526728780649.addModel(\"12\\n\\nC              1.400000000000         0.000000000000         0.000000000000\\nC              0.700000000000         1.212000000000         0.000000000000\\nC             -0.700000000000         1.212000000000         0.000000000000\\nC             -1.400000000000         0.000000000000         0.000000000000\\nC             -0.700000000000        -1.212000000000         0.000000000000\\nC              0.700000000000        -1.212000000000         0.000000000000\\nH              2.480000000000         0.000000000000         0.000000000000\\nH              1.240000000000         2.148000000000         0.000000000000\\nH             -1.240000000000         2.148000000000         0.000000000000\\nH             -2.480000000000         0.000000000000         0.000000000000\\nH             -1.240000000000        -2.148000000000         0.000000000000\\nH              1.240000000000        -2.148000000000         0.000000000000\\n\");\n",
       "\tviewer_17501526728780649.setViewStyle({\"style\": \"outline\", \"width\": 0.05});\n",
       "\tviewer_17501526728780649.setStyle({\"stick\": {}, \"sphere\": {\"scale\": 0.25}});\n",
       "\tviewer_17501526728780649.zoomTo();\n",
       "viewer_17501526728780649.render();\n",
       "});\n",
       "</script>"
      ]
     },
     "metadata": {},
     "output_type": "display_data"
    }
   ],
   "source": [
    "mol_str = \"\"\"\n",
    "C  1.400   0.000  0.000\n",
    "C  0.700   1.212  0.000\n",
    "C -0.700   1.212  0.000\n",
    "C -1.400   0.000  0.000\n",
    "C -0.700  -1.212  0.000\n",
    "C  0.700  -1.212  0.000\n",
    "H  2.480   0.000  0.000\n",
    "H  1.240   2.148  0.000\n",
    "H -1.240   2.148  0.000\n",
    "H -2.480   0.000  0.000\n",
    "H -1.240  -2.148  0.000\n",
    "H  1.240  -2.148  0.000\n",
    "\"\"\"\n",
    "molecule = vlx.Molecule.read_str(mol_str)\n",
    "basis = vlx.MolecularBasis.read(molecule, 'def2-svp')\n",
    "molecule.show()"
   ]
  },
  {
   "cell_type": "code",
   "execution_count": 12,
   "id": "fe4267c8-07e8-4e38-9476-ce580a0c3224",
   "metadata": {
    "scrolled": true
   },
   "outputs": [
    {
     "name": "stdout",
     "output_type": "stream",
     "text": [
      "                                                                                                                          \n",
      "                          Multi-Configurational Self-Consistent Field Driver\n",
      "                         ====================================================\n",
      "                                                                                                                          \n",
      "\n",
      "               Active space definition:\n",
      "               ------------------------\n",
      "               Number of inactive (occupied) orbitals: 18\n",
      "               Number of active orbitals:              6\n",
      "               Number of virtual orbitals:             90\n",
      "\n",
      "               This is a CASSCF wavefunction: CAS(6,6)\n",
      "\n",
      "               CI expansion:\n",
      "               -------------\n",
      "               Number of determinants:      400\n",
      "\n",
      "\n",
      "                                                                                                                          \n",
      "               ╭────────────────────────────────────╮\n",
      "               │          Driver settings           │\n",
      "               ╰────────────────────────────────────╯\n",
      "                                                                                                                          \n",
      "                                                                                                                          \n",
      "               Number of states              :   3\n",
      "               State-averaged calculation\n",
      "                - Equal-weights\n",
      "               Max. iterations               :   50\n",
      "               BFGS window                   :   5\n",
      "               Convergence thresholds:\n",
      "                - Energy change              :   1e-06\n",
      "                - Gradient sq. norm          :   1e-06\n",
      "                                                                                                                          \n",
      "                                                                                                                          \n",
      "                          MCSCF Iterations\n",
      "                         -------------------\n",
      "                                                                                                                          \n",
      "     Iter. | Average Energy | E. Change | Grad. Norm | CI Iter. | Trust rad. |  Time\n",
      "     ---------------------------------------------------------------------------------\n",
      "        1     -230.063140998     0.0e+00      1.3e+00         11        0.40    0:00:04\n",
      "        2     -230.372147546    -3.1e-01      1.6e-01         12        0.40    0:00:04\n",
      "        3     -230.441392556    -6.9e-02      1.1e-02          3        0.40    0:00:05\n",
      "        4     -230.447018530    -5.6e-03      4.7e-04          4        0.48    0:00:04\n",
      "        5     -230.447231428    -2.1e-04      3.1e-05          9        0.48    0:00:04\n",
      "        6     -230.447249855    -1.8e-05      1.2e-06         10        0.58    0:00:04\n",
      "        7     -230.447250712    -8.6e-07      1.1e-07         11        0.69    0:00:04\n",
      "** Convergence reached in 7 iterations\n",
      "        8     -230.447250857    -1.4e-07      1.7e-08         11        0.80    0:00:04\n",
      "                                                                                                                          \n",
      "               Final results\n",
      "               -------------\n",
      "                                                                                                                          \n",
      "* State 1\n",
      "  - S^2    : 0.00  (multiplicity = 1.0 )\n",
      "  - Energy : -230.60506977275443\n",
      "  - Natural orbitals\n",
      "1.95962 1.89593 1.89382 0.10695 0.10530 0.03838\n",
      "                                                                                                                          \n",
      "* State 2\n",
      "  - S^2    : 0.00  (multiplicity = 1.0 )\n",
      "  - Energy : -230.42594351347643\n",
      "  - Natural orbitals\n",
      "1.85866 1.42866 1.45651 0.58810 0.55328 0.11480\n",
      "                                                                                                                          \n",
      "* State 3\n",
      "  - S^2    : 0.00  (multiplicity = 1.0 )\n",
      "  - Energy : -230.31073928398268\n",
      "  - Natural orbitals\n",
      "1.54101 1.67583 1.16352 1.05264 0.30467 0.26232\n",
      "                                                                                                                          \n",
      "                                                 Spin Restricted Orbitals                                                 \n",
      "                                                 ------------------------                                                 \n",
      "                                                                                                                          \n",
      "               Molecular Orbital No.  17:                                                                                 \n",
      "               --------------------------                                                                                 \n",
      "               Occupation: 2.000 Energy:   -0.49144 a.u.                                                                  \n",
      "               (   1 C   1p+1:     0.22) (   2 C   1p+1:    -0.25) (   3 C   1p+1:     0.25)                              \n",
      "               (   4 C   1p+1:    -0.22) (   5 C   1p+1:     0.25) (   6 C   1p+1:    -0.25)                              \n",
      "               (   7 H   1s  :     0.22) (  10 H   1s  :     0.22)                                                        \n",
      "                                                                                                                          \n",
      "               Molecular Orbital No.  18:                                                                                 \n",
      "               --------------------------                                                                                 \n",
      "               Occupation: 2.000 Energy:   -0.49056 a.u.                                                                  \n",
      "               (   1 C   1p-1:    -0.26) (   2 C   1p-1:     0.23) (   3 C   1p-1:    -0.23)                              \n",
      "               (   4 C   1p-1:     0.26) (   5 C   1p-1:    -0.23) (   6 C   1p-1:     0.23)                              \n",
      "               (   8 H   1s  :     0.19) (   9 H   1s  :    -0.19) (  11 H   1s  :     0.19)                              \n",
      "               (  12 H   1s  :    -0.19)                                                                                  \n",
      "                                                                                                                          \n",
      "               Molecular Orbital No.  19:                                                                                 \n",
      "               --------------------------                                                                                 \n",
      "               Occupation: 1.784 Energy:   -0.45530 a.u.                                                                  \n",
      "               (   1 C   1p0 :    -0.23) (   2 C   1p0 :    -0.22) (   3 C   1p0 :    -0.22)                              \n",
      "               (   4 C   1p0 :    -0.23) (   5 C   1p0 :    -0.21) (   6 C   1p0 :    -0.21)                              \n",
      "                                                                                                                          \n",
      "               Molecular Orbital No.  20:                                                                                 \n",
      "               --------------------------                                                                                 \n",
      "               Occupation: 1.665 Energy:   -0.29894 a.u.                                                                  \n",
      "               (   1 C   1p0 :    -0.33) (   1 C   2p0 :    -0.24) (   2 C   1p0 :    -0.17)                              \n",
      "               (   3 C   1p0 :     0.18) (   4 C   1p0 :     0.33) (   4 C   2p0 :     0.24)                              \n",
      "               (   5 C   1p0 :     0.17) (   6 C   1p0 :    -0.18)                                                        \n",
      "                                                                                                                          \n",
      "               Molecular Orbital No.  21:                                                                                 \n",
      "               --------------------------                                                                                 \n",
      "               Occupation: 1.505 Energy:   -0.27538 a.u.                                                                  \n",
      "               (   2 C   1p0 :     0.29) (   2 C   2p0 :     0.22) (   3 C   1p0 :     0.29)                              \n",
      "               (   3 C   2p0 :     0.22) (   5 C   1p0 :    -0.30) (   5 C   2p0 :    -0.22)                              \n",
      "               (   6 C   1p0 :    -0.29) (   6 C   2p0 :    -0.22)                                                        \n",
      "                                                                                                                          \n",
      "               Molecular Orbital No.  22:                                                                                 \n",
      "               --------------------------                                                                                 \n",
      "               Occupation: 0.583 Energy:    0.07761 a.u.                                                                  \n",
      "               (   2 C   1p0 :    -0.34) (   2 C   2p0 :    -0.41) (   3 C   1p0 :     0.34)                              \n",
      "               (   3 C   2p0 :     0.41) (   5 C   1p0 :    -0.34) (   5 C   2p0 :    -0.41)                              \n",
      "               (   6 C   1p0 :     0.34) (   6 C   2p0 :     0.41)                                                        \n",
      "                                                                                                                          \n",
      "               Molecular Orbital No.  23:                                                                                 \n",
      "               --------------------------                                                                                 \n",
      "               Occupation: 0.324 Energy:    0.11864 a.u.                                                                  \n",
      "               (   1 C   1p0 :    -0.40) (   1 C   2p0 :    -0.44) (   2 C   1p0 :     0.22)                              \n",
      "               (   2 C   2p0 :     0.22) (   3 C   1p0 :     0.22) (   3 C   2p0 :     0.22)                              \n",
      "               (   4 C   1p0 :    -0.40) (   4 C   2p0 :    -0.44) (   5 C   1p0 :     0.22)                              \n",
      "               (   5 C   2p0 :     0.22) (   6 C   1p0 :     0.22) (   6 C   2p0 :     0.22)                              \n",
      "                                                                                                                          \n",
      "               Molecular Orbital No.  24:                                                                                 \n",
      "               --------------------------                                                                                 \n",
      "               Occupation: 0.140 Energy:    0.34936 a.u.                                                                  \n",
      "               (   1 C   1p0 :    -0.36) (   1 C   2p0 :    -0.44) (   2 C   1p0 :     0.34)                              \n",
      "               (   2 C   2p0 :     0.43) (   3 C   1p0 :    -0.34) (   3 C   2p0 :    -0.43)                              \n",
      "               (   4 C   1p0 :     0.36) (   4 C   2p0 :     0.44) (   5 C   1p0 :    -0.35)                              \n",
      "               (   5 C   2p0 :    -0.43) (   6 C   1p0 :     0.35) (   6 C   2p0 :     0.43)                              \n",
      "                                                                                                                          \n",
      "               Molecular Orbital No.  25:                                                                                 \n",
      "               --------------------------                                                                                 \n",
      "               Occupation: 0.000 Energy:    0.18545 a.u.                                                                  \n",
      "               (   1 C   3s  :    -0.60) (   1 C   2p+1:    -0.31) (   2 C   3s  :    -0.60)                              \n",
      "               (   2 C   2p+1:    -0.15) (   2 C   2p-1:    -0.27) (   3 C   3s  :    -0.60)                              \n",
      "               (   3 C   2p+1:     0.15) (   3 C   2p-1:    -0.27) (   4 C   3s  :    -0.60)                              \n",
      "               (   4 C   2p+1:     0.31) (   5 C   3s  :    -0.60) (   5 C   2p+1:     0.15)                              \n",
      "               (   5 C   2p-1:     0.27) (   6 C   3s  :    -0.60) (   6 C   2p+1:    -0.15)                              \n",
      "               (   6 C   2p-1:     0.27) (   7 H   2s  :     0.85) (   8 H   2s  :     0.84)                              \n",
      "               (   9 H   2s  :     0.84) (  10 H   2s  :     0.85) (  11 H   2s  :     0.84)                              \n",
      "               (  12 H   2s  :     0.84)                                                                                  \n",
      "                                                                                                                          \n",
      "               Molecular Orbital No.  26:                                                                                 \n",
      "               --------------------------                                                                                 \n",
      "               Occupation: 0.000 Energy:    0.22489 a.u.                                                                  \n",
      "               (   1 C   3s  :    -1.14) (   1 C   1p+1:    -0.16) (   1 C   2p+1:    -0.65)                              \n",
      "               (   2 C   3s  :    -0.57) (   2 C   2p-1:    -0.37) (   3 C   3s  :     0.58)                              \n",
      "               (   3 C   2p-1:     0.37) (   4 C   3s  :     1.14) (   4 C   1p+1:    -0.16)                              \n",
      "               (   4 C   2p+1:    -0.65) (   5 C   3s  :     0.57) (   5 C   2p-1:    -0.37)                              \n",
      "               (   6 C   3s  :    -0.58) (   6 C   2p-1:     0.37) (   7 H   2s  :     1.44)                              \n",
      "               (   8 H   2s  :     0.71) (   9 H   2s  :    -0.72) (  10 H   2s  :    -1.44)                              \n",
      "               (  11 H   2s  :    -0.71) (  12 H   2s  :     0.72)                                                        \n",
      "                                                                                                                          \n",
      "                                                                                                                          \n",
      "                                                Dipole moment for state 1                                                 \n",
      "                                               ---------------------------                                                \n",
      "                                                                                                                          \n",
      "                                   X   :         0.000002 a.u.         0.000005 Debye                                     \n",
      "                                   Y   :         0.000143 a.u.         0.000363 Debye                                     \n",
      "                                   Z   :        -0.000003 a.u.        -0.000008 Debye                                     \n",
      "                                 Total :         0.000143 a.u.         0.000363 Debye                                     \n",
      "                                                                                                                          \n",
      "                                                                                                                          \n",
      "                                                Dipole moment for state 2                                                 \n",
      "                                               ---------------------------                                                \n",
      "                                                                                                                          \n",
      "                                   X   :         0.000003 a.u.         0.000007 Debye                                     \n",
      "                                   Y   :         0.000181 a.u.         0.000460 Debye                                     \n",
      "                                   Z   :        -0.000006 a.u.        -0.000015 Debye                                     \n",
      "                                 Total :         0.000181 a.u.         0.000461 Debye                                     \n",
      "                                                                                                                          \n",
      "                                                                                                                          \n",
      "                                                Dipole moment for state 3                                                 \n",
      "                                               ---------------------------                                                \n",
      "                                                                                                                          \n",
      "                                   X   :        -0.000015 a.u.        -0.000038 Debye                                     \n",
      "                                   Y   :        -0.002399 a.u.        -0.006097 Debye                                     \n",
      "                                   Z   :        -0.000007 a.u.        -0.000019 Debye                                     \n",
      "                                 Total :         0.002399 a.u.         0.006097 Debye                                     \n",
      "                                                                                                                          \n",
      "                                                                                                                          \n",
      "Total MCSCF time: 00:00:38\n"
     ]
    }
   ],
   "source": [
    "orbguess = mtp.OrbitalGuess()\n",
    "start_orbs = orbguess.compute(molecule, basis)\n",
    "\n",
    "orb_space = mtp.OrbSpace(molecule, start_orbs)\n",
    "orb_space.cas_orbitals([12, 17, 18, 21, 22, 23]) #found through visualization\n",
    "\n",
    "mcscf_drv = mtp.McscfDriver()\n",
    "mcscf_drv.gradient_thresh = 1.0e-6\n",
    "mcscf_drv.e_change_thresh = 1.0e-6\n",
    "mcscf_dict = mcscf_drv.compute(molecule, basis, orb_space, 3)"
   ]
  },
  {
   "cell_type": "markdown",
   "id": "d20cbb4c-1668-46d2-b08e-252a10465e5d",
   "metadata": {},
   "source": [
    "Now that we have computed all states, we can compute transition properties using a state-interaction module. By default, it computes oscillator and rotatory strengths."
   ]
  },
  {
   "cell_type": "code",
   "execution_count": 13,
   "id": "fd0824cb-1ec2-4fc7-a150-1ce741eb6f61",
   "metadata": {},
   "outputs": [
    {
     "name": "stdout",
     "output_type": "stream",
     "text": [
      "                                                                                                                          \n",
      "List of oscillator strengths greather than 1e-10\n",
      "                                                                                                                          \n",
      "  From     to       Energy (eV)    Oscillator strength (length and velocity)\n",
      "     1       2        4.87427         2.524103e-04    5.532674e-04\n",
      "     1       3        8.00914         1.582334e-07    1.616711e-07\n",
      "                                                                                                                          \n",
      "List of rotatory strengths greather than 1e-10\n",
      "                                                                                                                          \n",
      "  From     to       Energy (eV)    Rot. strength (a.u. and 10^-40 cgs)\n",
      "     1       2        4.87427        -4.807183e-08   -2.266316e-05\n",
      "     1       3        8.00914        -7.291967e-09   -3.437751e-06\n"
     ]
    }
   ],
   "source": [
    "state_interaction = mtp.StateInteraction()\n",
    "si_results = state_interaction.compute(molecule, basis, mcscf_dict)"
   ]
  },
  {
   "cell_type": "code",
   "execution_count": null,
   "id": "007ec0a0-e364-4ad9-bf56-9241566104d6",
   "metadata": {},
   "outputs": [],
   "source": []
  }
 ],
 "metadata": {
  "kernelspec": {
   "display_name": "Python 3 (ipykernel)",
   "language": "python",
   "name": "python3"
  },
  "language_info": {
   "codemirror_mode": {
    "name": "ipython",
    "version": 3
   },
   "file_extension": ".py",
   "mimetype": "text/x-python",
   "name": "python",
   "nbconvert_exporter": "python",
   "pygments_lexer": "ipython3",
   "version": "3.12.8"
  }
 },
 "nbformat": 4,
 "nbformat_minor": 5
}
