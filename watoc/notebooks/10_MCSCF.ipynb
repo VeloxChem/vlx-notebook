{
 "cells": [
  {
   "cell_type": "markdown",
   "id": "3aab8fcc-ab56-4699-b37f-c38eb3432d99",
   "metadata": {},
   "source": [
    "# MCSCF\n",
    "\n",
    "There are many cases where the electronic structure of the system is not well described by a single determinant. This can occur due to covalent bond-breaking, in excited states, or even in the ground state equilibrium structure of some molecules, in particular metal complexes. In these cases, all single reference methods like Hartree-Fock, DFT, MP2, etc... may give unreliable results, and it is recommended to turn to multi-configurational and multi-reference methods.\n",
    "\n",
    "VeloxChem is mostly focused on Hartree-Fock and DFT properties, but some libraries exist to complement these functionalities, for example Gator for ADC or Penguin for coupled cluster and perturbation theory. Here we are going to look at MultiPsi, which extends seamlessly VeloxChem for multi-configurational and multi-reference calculations."
   ]
  },
  {
   "cell_type": "code",
   "execution_count": null,
   "id": "57bee0d0-5073-4646-8a37-5327abf3ce46",
   "metadata": {},
   "outputs": [],
   "source": [
    "import veloxchem as vlx\n",
    "import multipsi as mtp"
   ]
  },
  {
   "cell_type": "markdown",
   "id": "f71de55e-8b35-49e8-bd3d-7f65323e9a56",
   "metadata": {},
   "source": [
    "## Ground state of the ozone molecule"
   ]
  },
  {
   "cell_type": "code",
   "execution_count": null,
   "id": "fe0eafbd-39dc-4075-8cc0-79152a0c880d",
   "metadata": {},
   "outputs": [],
   "source": [
    "mol_str = \"\"\"\n",
    "O 0.0000   0.0000   0.0000\n",
    "O 0.0000   1.0885   0.6697\n",
    "O 0.0000  -1.0885   0.6697\n",
    "\"\"\"\n",
    "\n",
    "molecule = vlx.Molecule.read_str(mol_str)\n",
    "basis = vlx.MolecularBasis.read(molecule,\"def2-svp\")\n",
    "\n",
    "molecule.show()"
   ]
  },
  {
   "cell_type": "markdown",
   "id": "0a385a3b-e483-41fb-b432-bcf68bd85e08",
   "metadata": {},
   "source": [
    "Before running MCSCF, we need starting orbitals. We can run a Hartree-Fock or DFT calculation using VeloxChem or simply use an inexpensive guess."
   ]
  },
  {
   "cell_type": "code",
   "execution_count": null,
   "id": "cc86593d-290e-4d16-8581-4750b5ec45db",
   "metadata": {},
   "outputs": [],
   "source": [
    "orbguess = mtp.OrbitalGuess()\n",
    "start_orbs = orbguess.compute(molecule, basis)"
   ]
  },
  {
   "cell_type": "markdown",
   "id": "93149fec-cf63-47b1-9263-c047f4f132bd",
   "metadata": {},
   "source": [
    "We then need to define an active space. Here, we will use all valence 2p orbitals, i.e. 9 orbitals. This corresponds to 12 electrons. With this, we have all we need to run a MCSCF."
   ]
  },
  {
   "cell_type": "code",
   "execution_count": null,
   "id": "d68d48bb-375c-48da-b4bc-7d698a6db6b8",
   "metadata": {
    "scrolled": true
   },
   "outputs": [],
   "source": [
    "orb_space = mtp.OrbSpace(molecule, start_orbs)\n",
    "orb_space.cas(12, 9)\n",
    "\n",
    "mcscf_drv = mtp.McscfDriver()\n",
    "mcscf_dict = mcscf_drv.compute(molecule, basis, orb_space)"
   ]
  },
  {
   "cell_type": "markdown",
   "id": "9e16f6cd-7f77-4574-908c-9c6a8cf55fb9",
   "metadata": {},
   "source": [
    "It is good to always check the orbitals after a calculation. The orb_space object contains the updated orbitals with the active space information."
   ]
  },
  {
   "cell_type": "code",
   "execution_count": null,
   "id": "2d64ca8f-968a-465d-9291-148ff0d4521d",
   "metadata": {},
   "outputs": [],
   "source": [
    "viewer = mtp.OrbitalViewer()\n",
    "viewer.plot(molecule, basis, orb_space)"
   ]
  },
  {
   "cell_type": "markdown",
   "id": "7094b209-378f-4eca-8ccb-5bbd3125d647",
   "metadata": {},
   "source": [
    "The orbitals in the active space are sorted by occupation numbers, not by energy (although here they match). The HOMO and LUMO in the ozone molecule have occupations differing significantly from 2 and 0, highlighting that this molecule is strongly correlated and would not be well described by single reference methods like DFT."
   ]
  },
  {
   "cell_type": "markdown",
   "id": "b2f8cb2f-37db-4c6a-982a-da01e35617f0",
   "metadata": {},
   "source": [
    "## UV-spectrum of benzene\n",
    "MCSCF is particularly useful to compute excited properties. There are several ways to compute excited states with MCSCF, but a very simple one is using state-averaging, i.e. computing all states simultaneously and using the same orbitals.\n",
    "\n",
    "Here we use benzene as a simple example."
   ]
  },
  {
   "cell_type": "code",
   "execution_count": null,
   "id": "cb3b73b2-7bfe-412b-9599-1956480acd20",
   "metadata": {},
   "outputs": [],
   "source": [
    "mol_str = \"\"\"\n",
    "C  1.400   0.000  0.000\n",
    "C  0.700   1.212  0.000\n",
    "C -0.700   1.212  0.000\n",
    "C -1.400   0.000  0.000\n",
    "C -0.700  -1.212  0.000\n",
    "C  0.700  -1.212  0.000\n",
    "H  2.480   0.000  0.000\n",
    "H  1.240   2.148  0.000\n",
    "H -1.240   2.148  0.000\n",
    "H -2.480   0.000  0.000\n",
    "H -1.240  -2.148  0.000\n",
    "H  1.240  -2.148  0.000\n",
    "\"\"\"\n",
    "molecule = vlx.Molecule.read_str(mol_str)\n",
    "basis = vlx.MolecularBasis.read(molecule, 'def2-svp')\n",
    "molecule.show()"
   ]
  },
  {
   "cell_type": "code",
   "execution_count": null,
   "id": "75b3b50b-bd12-48e1-a798-bd51fbcacedf",
   "metadata": {
    "scrolled": true
   },
   "outputs": [],
   "source": [
    "orbguess = mtp.OrbitalGuess()\n",
    "start_orbs = orbguess.compute(molecule, basis)\n",
    "\n",
    "orb_space = mtp.OrbSpace(molecule, start_orbs)\n",
    "orb_space.cas_orbitals([12, 17, 18, 21, 22, 23]) #found through visualization\n",
    "\n",
    "mcscf_drv = mtp.McscfDriver()\n",
    "mcscf_drv.gradient_thresh = 1.0e-6\n",
    "mcscf_drv.e_change_thresh = 1.0e-6\n",
    "mcscf_dict = mcscf_drv.compute(molecule, basis, orb_space, 3)"
   ]
  },
  {
   "cell_type": "markdown",
   "id": "816c6f6a-0e25-486e-ac9b-bec5336df170",
   "metadata": {},
   "source": [
    "Now that we have computed all states, we can compute transition properties using a state-interaction module. By default, it computes oscillator and rotatory strengths."
   ]
  },
  {
   "cell_type": "code",
   "execution_count": null,
   "id": "6aadf2e2-ba9f-415b-bd13-f7b0cbb9b236",
   "metadata": {},
   "outputs": [],
   "source": [
    "state_interaction = mtp.StateInteraction()\n",
    "si_results = state_interaction.compute(molecule, basis, mcscf_dict)"
   ]
  },
  {
   "cell_type": "markdown",
   "id": "2c489a7f-be49-4e03-91d9-3554ab49d570",
   "metadata": {},
   "source": [
    "## MC-PDFT of a metal complex\n",
    "\n",
    "The ozone example worked immediately as we used all valence orbitals and they were conveniently located around the HOMO-LUMO gap.\n",
    "\n",
    "This is not always the case, and sometimes, we need manual selection. Here let's look at the metal complex chromyl chloride. We're also going to use MC-PDFT with the translated BLYP functional (tBLYP)."
   ]
  },
  {
   "cell_type": "code",
   "execution_count": null,
   "id": "30a29de0-4b53-4d1f-aa35-fc5235af7c00",
   "metadata": {
    "scrolled": true
   },
   "outputs": [],
   "source": [
    "mol_str = \"\"\"\n",
    "Cr             0.0000        -0.0000         0.0000\n",
    "O              0.9204         0.0000         1.2782\n",
    "O              0.9204         0.0000        -1.2782\n",
    "F             -0.9817         1.4162        -0.0000\n",
    "F             -0.9817        -1.4162        -0.0000\n",
    "\"\"\"\n",
    "molecule = vlx.Molecule.read_str(mol_str)\n",
    "basis = vlx.MolecularBasis.read(molecule, 'def2-sv(p)')\n",
    "molecule.show()"
   ]
  },
  {
   "cell_type": "code",
   "execution_count": null,
   "id": "67e11483-1d4d-4c98-9dd5-2713f995c2e0",
   "metadata": {
    "scrolled": true
   },
   "outputs": [],
   "source": [
    "scf_drv = vlx.ScfRestrictedDriver()\n",
    "scf_drv.xcfun = \"BLYP\"\n",
    "scf_drv.ri_coulomb = True\n",
    "scf_results = scf_drv.compute(molecule, basis)"
   ]
  },
  {
   "cell_type": "markdown",
   "id": "1fcff3a1-43f4-4cc8-ba37-ae998bcb335b",
   "metadata": {},
   "source": [
    "We ideally want the Cr - O orbitals, which form the most strongly correlated bonds, but the Cr-Cl and Cl lone pairs are close to the HOMO-LUMO gaps, so we need to manually choose them. The simplest is to use the orbital viewer from MultiPsi to select the orbitals visually and save them in a file."
   ]
  },
  {
   "cell_type": "code",
   "execution_count": null,
   "id": "75ba8db7-7341-4c73-8860-5c97007cd710",
   "metadata": {},
   "outputs": [],
   "source": [
    "viewer = mtp.OrbitalViewer()\n",
    "viewer.plot(molecule, basis, scf_drv.molecular_orbitals)"
   ]
  },
  {
   "cell_type": "code",
   "execution_count": null,
   "id": "3df5bc08-87bb-46d9-a256-ce66a7418ebc",
   "metadata": {
    "scrolled": true
   },
   "outputs": [],
   "source": [
    "# chosen orbitals 20 23 26 27 28 30 31 32 33 34\n",
    "orb_space = mtp.OrbSpace(molecule, \"input-cas.h5\")\n",
    "\n",
    "mcscf_drv = mtp.McscfDriver()\n",
    "mcscf_drv.xcfun = \"tBLYP\"\n",
    "mcscf_drv.ri = True\n",
    "mcscf_drv.gradient_thresh = 1.0e-6\n",
    "mcscf_drv.e_change_thresh = 1.0e-6\n",
    "mcscf_drv.ci_extra_tightness = 1.0e-1\n",
    "mcscf_dict = mcscf_drv.compute(molecule, basis, orb_space)"
   ]
  },
  {
   "cell_type": "markdown",
   "id": "35b7cea8-72eb-44ab-bfbe-5dd8e0e3c9db",
   "metadata": {},
   "source": [
    "Again, we should visualize the final orbitals. Note that the occupation numbers are closer to 2 and 0 than in the ozone example, but this is expected when using MC-PDFT. For reference, the corresponding MCSCF occupation numbers are:\n",
    "\n",
    "```\n",
    "1.93714 1.89203 1.88566 1.86014 1.84713 0.17316 0.12314 0.11925 0.09872 0.06363\n",
    "```"
   ]
  },
  {
   "cell_type": "code",
   "execution_count": null,
   "id": "4c1bf201-a03b-4e2b-9b37-a21c45fcc0cf",
   "metadata": {},
   "outputs": [],
   "source": [
    "viewer = mtp.OrbitalViewer()\n",
    "viewer.plot(molecule, basis, orb_space)"
   ]
  },
  {
   "cell_type": "code",
   "execution_count": null,
   "id": "007ec0a0-e364-4ad9-bf56-9241566104d6",
   "metadata": {},
   "outputs": [],
   "source": []
  }
 ],
 "metadata": {
  "kernelspec": {
   "display_name": "Python 3 (ipykernel)",
   "language": "python",
   "name": "python3"
  },
  "language_info": {
   "codemirror_mode": {
    "name": "ipython",
    "version": 3
   },
   "file_extension": ".py",
   "mimetype": "text/x-python",
   "name": "python",
   "nbconvert_exporter": "python",
   "pygments_lexer": "ipython3",
   "version": "3.12.8"
  }
 },
 "nbformat": 4,
 "nbformat_minor": 5
}
