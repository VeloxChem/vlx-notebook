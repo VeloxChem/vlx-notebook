{
 "cells": [
  {
   "cell_type": "markdown",
   "metadata": {},
   "source": [
    "# MOF (metal-organic framework) Builder \n",
    "Initialize the Mofbuilder and ask the Mofbuilder to show all available MOFs family"
   ]
  },
  {
   "cell_type": "code",
   "execution_count": null,
   "metadata": {},
   "outputs": [],
   "source": [
    "import veloxchem as vlx\n",
    "\n",
    "mof = vlx.MofBuilder()\n",
    "# next line can be skipped if you know the family name\n",
    "mof.show_available_mof_families()  "
   ]
  },
  {
   "cell_type": "markdown",
   "metadata": {},
   "source": [
    "To build a target MOF, you need to: \n",
    "1. assign MOF family\n",
    "2. assign the node metal type \n",
    "3. upload the linker file (with carboxylate) in xyz format \\\n",
    "\n",
    "\n",
    "you can also set the supercell size of the model \\\n",
    "then we can ***build*** the MOF \\\n",
    "we can save the model with gromacs file format and show it"
   ]
  },
  {
   "cell_type": "code",
   "execution_count": null,
   "metadata": {},
   "outputs": [],
   "source": [
    "vlx.Molecule.builder()"
   ]
  },
  {
   "cell_type": "code",
   "execution_count": null,
   "metadata": {},
   "outputs": [],
   "source": [
    "smiles = 'C1(=CC=C(C=C1)C(=O)[O-])C(=O)[O-]'"
   ]
  },
  {
   "cell_type": "code",
   "execution_count": null,
   "metadata": {},
   "outputs": [],
   "source": [
    "linker_mol = vlx.Molecule.read_smiles(smiles)\n",
    "linker_mol.set_charge(-2)\n",
    "linker_mol.show()\n",
    "linker_mol.write_xyz_file('linker.xyz')"
   ]
  },
  {
   "cell_type": "code",
   "execution_count": null,
   "metadata": {},
   "outputs": [],
   "source": [
    "mof.mof_family = 'UiO-66'\n",
    "mof.node_metal = 'Zr'\n",
    "mof.linker_xyz_file = 'linker.xyz'\n",
    "mof.supercell = (1, 1, 1)  # (1,1,1) means primitive cell\n",
    "mof.build()\n",
    "mof.show(residue_indices=True, residue_names=False)"
   ]
  },
  {
   "cell_type": "markdown",
   "metadata": {},
   "source": [
    "we can make defective models by remove linkers or nodes \\\n",
    "here we just want to remove the linker in the corner "
   ]
  },
  {
   "cell_type": "code",
   "execution_count": null,
   "metadata": {},
   "outputs": [],
   "source": [
    "#the index of the linkers or nodes to be removed can be shown \n",
    "# in the last cell output\n",
    "# remove the linker with index \"17, 18, 19\"\n",
    "mof.remove(linkers=[17, 18, 39], update_node_termination=True)  \n",
    "mof.show(residue_indices=True)\n",
    "mof.write_gromacs_files()"
   ]
  }
 ],
 "metadata": {
  "kernelspec": {
   "display_name": "Python 3 (ipykernel)",
   "language": "python",
   "name": "python3"
  },
  "language_info": {
   "codemirror_mode": {
    "name": "ipython",
    "version": 3
   },
   "file_extension": ".py",
   "mimetype": "text/x-python",
   "name": "python",
   "nbconvert_exporter": "python",
   "pygments_lexer": "ipython3",
   "version": "3.12.10"
  }
 },
 "nbformat": 4,
 "nbformat_minor": 4
}
